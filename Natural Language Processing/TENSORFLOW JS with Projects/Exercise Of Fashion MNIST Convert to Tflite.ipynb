{
 "cells": [
  {
   "cell_type": "code",
   "execution_count": 1,
   "id": "8f949a5f",
   "metadata": {},
   "outputs": [],
   "source": [
    "import tensorflow as tf\n",
    "import numpy as np\n",
    "import pandas as pd\n",
    "import tensorflow_datasets as tfds\n",
    "import matplotlib.pyplot as plt"
   ]
  },
  {
   "cell_type": "code",
   "execution_count": 2,
   "id": "c1559d4e",
   "metadata": {},
   "outputs": [],
   "source": [
    "data, info = tfds.load('fashion_mnist', with_info=True, as_supervised=True, split=['train[:80%]', 'train[80%:90%]', 'train[90%:]'])\n",
    "#Here with info are the labels... and the required information like length\n",
    "(train_data, validation_data, test_data) = data"
   ]
  },
  {
   "cell_type": "code",
   "execution_count": 3,
   "id": "92172549",
   "metadata": {},
   "outputs": [
    {
     "name": "stdout",
     "output_type": "stream",
     "text": [
      "60000\n",
      "Fashion-MNIST is a dataset of Zalando's article images consisting of a training set of 60,000 examples and a test set of 10,000 examples. Each example is a 28x28 grayscale image, associated with a label from 10 classes.\n",
      "10\n",
      "10\n"
     ]
    }
   ],
   "source": [
    "total_examp = info.splits['train'].num_examples\n",
    "description = info.description\n",
    "total_class = info.features['label'].num_classes\n",
    "labels = info.features['label'].num_classes\n",
    "\n",
    "print(total_examp)\n",
    "print(description)\n",
    "print(total_class)\n",
    "print(labels)"
   ]
  },
  {
   "cell_type": "code",
   "execution_count": 4,
   "id": "cd4b4039",
   "metadata": {},
   "outputs": [],
   "source": [
    "#We only know the num of classes so to get the columns we will assign them\n",
    "class_names = ['T-shirt/top', 'Trouser', 'Pullover', 'Dress', 'Coat', 'Sandal','Shirt','Sneaker','Bag','Ankle boot']"
   ]
  },
  {
   "cell_type": "code",
   "execution_count": 5,
   "id": "75dc2ded",
   "metadata": {},
   "outputs": [
    {
     "data": {
      "text/plain": [
       "75"
      ]
     },
     "execution_count": 5,
     "metadata": {},
     "output_type": "execute_result"
    }
   ],
   "source": [
    "infile = open('labels.txt', 'w')\n",
    "infile.write('\\n'.join(class_names))"
   ]
  },
  {
   "cell_type": "code",
   "execution_count": 6,
   "id": "8a7d6089",
   "metadata": {},
   "outputs": [],
   "source": [
    "IMG_SIZE = 28\n",
    "def format_image(image, label):\n",
    "    image = tf.cast(image, tf.float32)\n",
    "    image = tf.image.resize(image, (IMG_SIZE, IMG_SIZE))\n",
    "    image = image / 255.0\n",
    "    return image, label"
   ]
  },
  {
   "cell_type": "code",
   "execution_count": 7,
   "id": "cd599c4a",
   "metadata": {},
   "outputs": [],
   "source": [
    "#Mapping the format of images\n",
    "BATCH_SIZE = 32\n",
    "train_batch = train_data.cache().shuffle(total_examp//4).map(format_image).batch(BATCH_SIZE).prefetch(1)\n",
    "valid_batch = validation_data.cache().map(format_image).batch(BATCH_SIZE).prefetch(1)\n",
    "test_batch = test_data.cache().map(format_image).batch(1)"
   ]
  },
  {
   "cell_type": "code",
   "execution_count": 8,
   "id": "794d16a2",
   "metadata": {},
   "outputs": [
    {
     "name": "stdout",
     "output_type": "stream",
     "text": [
      "Model: \"sequential\"\n",
      "_________________________________________________________________\n",
      "Layer (type)                 Output Shape              Param #   \n",
      "=================================================================\n",
      "conv2d (Conv2D)              (None, 26, 26, 16)        160       \n",
      "_________________________________________________________________\n",
      "max_pooling2d (MaxPooling2D) (None, 13, 13, 16)        0         \n",
      "_________________________________________________________________\n",
      "conv2d_1 (Conv2D)            (None, 11, 11, 32)        4640      \n",
      "_________________________________________________________________\n",
      "flatten (Flatten)            (None, 3872)              0         \n",
      "_________________________________________________________________\n",
      "dense (Dense)                (None, 64)                247872    \n",
      "_________________________________________________________________\n",
      "dense_1 (Dense)              (None, 10)                650       \n",
      "=================================================================\n",
      "Total params: 253,322\n",
      "Trainable params: 253,322\n",
      "Non-trainable params: 0\n",
      "_________________________________________________________________\n"
     ]
    }
   ],
   "source": [
    "#Making the model\n",
    "model = tf.keras.Sequential()\n",
    "model.add(tf.keras.layers.Conv2D(16 ,3, activation = 'relu', input_shape = (IMG_SIZE, IMG_SIZE, 1)))\n",
    "model.add(tf.keras.layers.MaxPooling2D())\n",
    "model.add(tf.keras.layers.Conv2D(32, 3, activation = 'relu'))\n",
    "model.add(tf.keras.layers.Flatten())\n",
    "model.add(tf.keras.layers.Dense(units = 64, activation = 'relu'))\n",
    "model.add(tf.keras.layers.Dense(units = 10))\n",
    "model.compile(optimizer='adam', loss=tf.keras.losses.SparseCategoricalCrossentropy(from_logits = True), metrics=['accuracy'])\n",
    "model.summary()"
   ]
  },
  {
   "cell_type": "code",
   "execution_count": 9,
   "id": "533b9d76",
   "metadata": {},
   "outputs": [
    {
     "name": "stdout",
     "output_type": "stream",
     "text": [
      "Epoch 1/15\n",
      "1500/1500 [==============================] - 25s 16ms/step - loss: 0.4605 - accuracy: 0.8371 - val_loss: 0.3289 - val_accuracy: 0.8757\n",
      "Epoch 2/15\n",
      "1500/1500 [==============================] - 21s 14ms/step - loss: 0.3088 - accuracy: 0.8892 - val_loss: 0.2855 - val_accuracy: 0.8940\n",
      "Epoch 3/15\n",
      "1500/1500 [==============================] - 22s 14ms/step - loss: 0.2609 - accuracy: 0.9046 - val_loss: 0.2563 - val_accuracy: 0.9042\n",
      "Epoch 4/15\n",
      "1500/1500 [==============================] - 23s 15ms/step - loss: 0.2252 - accuracy: 0.9172 - val_loss: 0.2312 - val_accuracy: 0.9122\n",
      "Epoch 5/15\n",
      "1500/1500 [==============================] - 22s 15ms/step - loss: 0.1942 - accuracy: 0.9278 - val_loss: 0.2613 - val_accuracy: 0.9020\n",
      "Epoch 6/15\n",
      "1500/1500 [==============================] - 22s 15ms/step - loss: 0.1716 - accuracy: 0.9367 - val_loss: 0.2445 - val_accuracy: 0.9127\n",
      "Epoch 7/15\n",
      "1500/1500 [==============================] - 24s 16ms/step - loss: 0.1465 - accuracy: 0.9456 - val_loss: 0.2532 - val_accuracy: 0.9127\n",
      "Epoch 8/15\n",
      "1500/1500 [==============================] - 24s 16ms/step - loss: 0.1284 - accuracy: 0.9522 - val_loss: 0.2484 - val_accuracy: 0.9175\n",
      "Epoch 9/15\n",
      "1500/1500 [==============================] - 23s 15ms/step - loss: 0.1115 - accuracy: 0.9578 - val_loss: 0.2673 - val_accuracy: 0.9152\n",
      "Epoch 10/15\n",
      "1500/1500 [==============================] - 24s 16ms/step - loss: 0.0962 - accuracy: 0.9638 - val_loss: 0.2926 - val_accuracy: 0.9073\n",
      "Epoch 11/15\n",
      "1500/1500 [==============================] - 23s 15ms/step - loss: 0.0838 - accuracy: 0.9686 - val_loss: 0.2823 - val_accuracy: 0.9153\n",
      "Epoch 12/15\n",
      "1500/1500 [==============================] - 22s 15ms/step - loss: 0.0703 - accuracy: 0.9746 - val_loss: 0.3042 - val_accuracy: 0.9180\n",
      "Epoch 13/15\n",
      "1500/1500 [==============================] - 22s 15ms/step - loss: 0.0634 - accuracy: 0.9771 - val_loss: 0.3536 - val_accuracy: 0.9138\n",
      "Epoch 14/15\n",
      "1500/1500 [==============================] - 22s 15ms/step - loss: 0.0534 - accuracy: 0.9810 - val_loss: 0.3569 - val_accuracy: 0.9160\n",
      "Epoch 15/15\n",
      "1500/1500 [==============================] - 22s 15ms/step - loss: 0.0472 - accuracy: 0.9828 - val_loss: 0.3688 - val_accuracy: 0.9183\n"
     ]
    }
   ],
   "source": [
    "#Fitting the model\n",
    "history = model.fit(train_batch, epochs=15, validation_data=valid_batch)"
   ]
  },
  {
   "cell_type": "code",
   "execution_count": 10,
   "id": "f328897a",
   "metadata": {},
   "outputs": [
    {
     "name": "stdout",
     "output_type": "stream",
     "text": [
      "dict_keys(['loss', 'accuracy', 'val_loss', 'val_accuracy'])\n",
      "[0.460492342710495, 0.3088129460811615, 0.2608567178249359, 0.22519437968730927, 0.19422540068626404, 0.17155922949314117, 0.1465226709842682, 0.12844718992710114, 0.11145150661468506, 0.09617459774017334, 0.08379966020584106, 0.07028378546237946, 0.06344901025295258, 0.053402625024318695, 0.04724545404314995]\n"
     ]
    }
   ],
   "source": [
    "hist = history.history\n",
    "columns = hist.keys()\n",
    "epochs = history.epoch\n",
    "print(columns)\n",
    "print(hist['loss'])"
   ]
  },
  {
   "cell_type": "code",
   "execution_count": 11,
   "id": "118fa79f",
   "metadata": {},
   "outputs": [
    {
     "data": {
      "text/plain": [
       "Text(0, 0.5, 'Epochs')"
      ]
     },
     "execution_count": 11,
     "metadata": {},
     "output_type": "execute_result"
    },
    {
     "data": {
      "image/png": "[encoded data removed]",
      "text/plain": [
       "<Figure size 432x288 with 1 Axes>"
      ]
     },
     "metadata": {
      "needs_background": "light"
     },
     "output_type": "display_data"
    }
   ],
   "source": [
    "#Plotting the graph\n",
    "plt.plot(hist['accuracy'], epochs, label='Accuracy')\n",
    "plt.plot(hist['val_accuracy'], epochs, label='val_accuracy')\n",
    "plt.xlabel(\"Accuracy\")\n",
    "plt.ylabel(\"Epochs\")"
   ]
  },
  {
   "cell_type": "code",
   "execution_count": 12,
   "id": "6db7b225",
   "metadata": {},
   "outputs": [
    {
     "name": "stdout",
     "output_type": "stream",
     "text": [
      "INFO:tensorflow:Assets written to: tfJS_fashion/1\\assets\n"
     ]
    },
    {
     "name": "stderr",
     "output_type": "stream",
     "text": [
      "INFO:tensorflow:Assets written to: tfJS_fashion/1\\assets\n"
     ]
    }
   ],
   "source": [
    "export_model = 'tfJS_fashion/1'\n",
    "tf.saved_model.save(model,export_model)"
   ]
  },
  {
   "cell_type": "code",
   "execution_count": 13,
   "id": "219e31da",
   "metadata": {},
   "outputs": [],
   "source": [
    "converter = tf.lite.TFLiteConverter.from_saved_model(export_model)\n",
    "converter.optimizations = [tf.lite.Optimize.DEFAULT]\n",
    "tflite_model = converter.convert()"
   ]
  },
  {
   "cell_type": "code",
   "execution_count": 14,
   "id": "c5c8e7d0",
   "metadata": {},
   "outputs": [
    {
     "data": {
      "text/plain": [
       "259600"
      ]
     },
     "execution_count": 14,
     "metadata": {},
     "output_type": "execute_result"
    }
   ],
   "source": [
    "tflite_model_file = 'model.tflite'\n",
    "infil = open(tflite_model_file, \"wb\")\n",
    "infil.write(tflite_model)"
   ]
  },
  {
   "cell_type": "markdown",
   "id": "88417559",
   "metadata": {},
   "source": [
    "# Test the model with TFLite interpreter"
   ]
  },
  {
   "cell_type": "code",
   "execution_count": 15,
   "id": "7e004579",
   "metadata": {},
   "outputs": [
    {
     "name": "stdout",
     "output_type": "stream",
     "text": [
      "[{'name': 'serving_default_conv2d_input:0', 'index': 0, 'shape': array([ 1, 28, 28,  1]), 'shape_signature': array([-1, 28, 28,  1]), 'dtype': <class 'numpy.float32'>, 'quantization': (0.0, 0), 'quantization_parameters': {'scales': array([], dtype=float32), 'zero_points': array([], dtype=int32), 'quantized_dimension': 0}, 'sparsity_parameters': {}}]\n"
     ]
    }
   ],
   "source": [
    "interpreter = tf.lite.Interpreter(model_content=tflite_model)\n",
    "interpreter.allocate_tensors()\n",
    "\n",
    "input = interpreter.get_input_details()[0]['index']\n",
    "input1 = interpreter.get_input_details()\n",
    "output = interpreter.get_output_details()[0]['index']\n",
    "print(input1)"
   ]
  },
  {
   "cell_type": "code",
   "execution_count": 16,
   "id": "cd57b9e9",
   "metadata": {},
   "outputs": [
    {
     "data": {
      "text/plain": [
       "array([[-11.287231  , -17.363602  , -15.306795  , -17.051914  ,\n",
       "         -9.85257   ,  17.295372  ,  -7.346591  ,   0.05900886,\n",
       "         -2.928459  , -17.636473  ]], dtype=float32)"
      ]
     },
     "execution_count": 16,
     "metadata": {},
     "output_type": "execute_result"
    }
   ],
   "source": [
    "# Gather results for the randomly sampled test images\n",
    "predictions = []\n",
    "test_labels = []\n",
    "test_images = []\n",
    "\n",
    "for image, label in test_batch.take(20):\n",
    "    interpreter.set_tensor(input, image)\n",
    "    interpreter.invoke()\n",
    "    predictions.append(interpreter.get_tensor(output))\n",
    "    test_labels.append(label[0])\n",
    "    test_images.append(np.array(image))\n",
    "\n",
    "test_labels[0].numpy()\n",
    "predictions[0]"
   ]
  },
  {
   "cell_type": "code",
   "execution_count": 17,
   "id": "46547083",
   "metadata": {},
   "outputs": [],
   "source": [
    "\n",
    "def plot_image(i, predictions_array, true_label, img):\n",
    "    predictions_array, true_label, img = predictions_array[i], true_label[i], img[i]\n",
    "    plt.grid(False)\n",
    "    plt.xticks([])\n",
    "    plt.yticks([])\n",
    "  \n",
    "    img = np.squeeze(img)\n",
    "\n",
    "    plt.imshow(img, cmap=plt.cm.binary)\n",
    "\n",
    "    predicted_label = np.argmax(predictions_array)\n",
    "    if predicted_label == true_label.numpy():\n",
    "        color = 'green'\n",
    "    else:\n",
    "        color = 'red'\n",
    "    \n",
    "    plt.xlabel(\"{} {:2.0f}% ({})\".format(class_names[predicted_label],\n",
    "                                100*np.max(predictions_array),\n",
    "                                class_names[true_label]),\n",
    "                                color=color)\n",
    "\n",
    "def plot_value_array(i, predictions_array, true_label):\n",
    "    predictions_array, true_label = predictions_array[i], true_label[i]\n",
    "    plt.grid(False)\n",
    "    plt.xticks(list(range(10)), class_names, rotation='vertical')\n",
    "    plt.yticks([])\n",
    "    thisplot = plt.bar(range(10), predictions_array[0], color=\"#777777\")\n",
    "    plt.ylim([0, 1])\n",
    "    predicted_label = np.argmax(predictions_array[0])\n",
    "\n",
    "    thisplot[predicted_label].set_color('red')\n",
    "    thisplot[true_label].set_color('green')"
   ]
  },
  {
   "cell_type": "code",
   "execution_count": 18,
   "id": "01dde23b",
   "metadata": {},
   "outputs": [
    {
     "data": {
      "image/png": "[encoded data removed]",
      "text/plain": [
       "<Figure size 1440x1440 with 1 Axes>"
      ]
     },
     "metadata": {},
     "output_type": "display_data"
    },
    {
     "data": {
      "image/png": "[encoded data removed]",
      "text/plain": [
       "<Figure size 432x288 with 1 Axes>"
      ]
     },
     "metadata": {
      "needs_background": "light"
     },
     "output_type": "display_data"
    }
   ],
   "source": [
    "index = 19\n",
    "plt.figure(figsize=(20,20))\n",
    "plt.subplot(1,2,1)\n",
    "plot_image(index, predictions, test_labels, test_images)\n",
    "plt.show()\n",
    "plot_value_array(index, predictions, test_labels)\n",
    "plt.show()"
   ]
  },
  {
   "cell_type": "code",
   "execution_count": null,
   "id": "26fed9b9",
   "metadata": {},
   "outputs": [],
   "source": []
  }
 ],
 "metadata": {
  "kernelspec": {
   "display_name": "Python 3",
   "language": "python",
   "name": "python3"
  },
  "language_info": {
   "codemirror_mode": {
    "name": "ipython",
    "version": 3
   },
   "file_extension": ".py",
   "mimetype": "text/x-python",
   "name": "python",
   "nbconvert_exporter": "python",
   "pygments_lexer": "ipython3",
   "version": "3.8.8"
  }
 },
 "nbformat": 4,
 "nbformat_minor": 5
}
