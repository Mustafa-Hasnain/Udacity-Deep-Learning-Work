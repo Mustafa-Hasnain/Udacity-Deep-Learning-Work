{
 "cells": [
  {
   "cell_type": "markdown",
   "id": "73557713",
   "metadata": {},
   "source": [
    "So far, you have written some test sentences and generated a word index and then created sequences for the sentences.\n",
    "\n",
    "Now you will tokenize and sequence a larger body of text, specifically reviews from Amazon and Yelp."
   ]
  },
  {
   "cell_type": "markdown",
   "id": "33f66e8e",
   "metadata": {},
   "source": [
    "# About the dataset\n",
    "You will use a dataset containing Amazon and Yelp reviews of products and restaurants. This dataset was originally extracted from Kaggle.\n",
    "\n",
    "The dataset includes reviews, and each review is labelled as 0 (bad) or 1 (good). However, in this exercise, you will only work with the reviews, not the labels, to practice tokenizing and sequencing the text.\n",
    "\n",
    "Example good reviews:\n",
    "This is hands down the best phone I've ever had.\n",
    "Four stars for the food & the guy in the blue shirt for his great vibe & still letting us in to eat !\n",
    "Example bad reviews:\n",
    "A lady at the table next to us found a live green caterpillar In her salad\n",
    "If you plan to use this in a car forget about it.\n",
    "See more reviews\n",
    "Feel free to download the dataset from a drive folder belonging to Udacity and open it on your local machine to see more reviews."
   ]
  },
  {
   "cell_type": "code",
   "execution_count": 1,
   "id": "c1c0454f",
   "metadata": {},
   "outputs": [],
   "source": [
    "import tensorflow as tf\n",
    "import numpy as np \n",
    "import pandas as pd\n",
    "from tensorflow.keras.preprocessing.sequence import pad_sequences\n",
    "from tensorflow.keras.preprocessing.text import Tokenizer"
   ]
  },
  {
   "cell_type": "markdown",
   "id": "4e7ac5bd",
   "metadata": {},
   "source": [
    "# Get the corpus of text\n",
    "The combined dataset of reviews has been saved in a Google drive belonging to Udacity. You can download it from there."
   ]
  },
  {
   "cell_type": "code",
   "execution_count": 2,
   "id": "088c4257",
   "metadata": {},
   "outputs": [
    {
     "ename": "IndentationError",
     "evalue": "unexpected indent (<ipython-input-2-6e90fed5d476>, line 2)",
     "output_type": "error",
     "traceback": [
      "\u001b[1;36m  File \u001b[1;32m\"<ipython-input-2-6e90fed5d476>\"\u001b[1;36m, line \u001b[1;32m2\u001b[0m\n\u001b[1;33m    'https://drive.google.com/uc?id=13ySLC_ue6Umt9RJYSeM2t-V0kCv-4C-P')\u001b[0m\n\u001b[1;37m    ^\u001b[0m\n\u001b[1;31mIndentationError\u001b[0m\u001b[1;31m:\u001b[0m unexpected indent\n"
     ]
    }
   ],
   "source": [
    "#path = tf.keras.utils.get_file('reviews.csv', 'https://drive.google.com/uc?id=13ySLC_ue6Umt9RJYSeM2t-V0kCv-4C-P')\n",
    "#print (path)"
   ]
  },
  {
   "cell_type": "markdown",
   "id": "62931e0a",
   "metadata": {},
   "source": [
    "# Get the dataset\n",
    "Each row in the csv file is a separate review.\n",
    "\n",
    "The csv file has 2 columns:\n",
    "\n",
    "text (the review)\n",
    "sentiment (0 or 1 indicating a bad or good review)"
   ]
  },
  {
   "cell_type": "code",
   "execution_count": 4,
   "id": "2519224a",
   "metadata": {},
   "outputs": [
    {
     "data": {
      "text/html": [
       "<div>\n",
       "<style scoped>\n",
       "    .dataframe tbody tr th:only-of-type {\n",
       "        vertical-align: middle;\n",
       "    }\n",
       "\n",
       "    .dataframe tbody tr th {\n",
       "        vertical-align: top;\n",
       "    }\n",
       "\n",
       "    .dataframe thead th {\n",
       "        text-align: right;\n",
       "    }\n",
       "</style>\n",
       "<table border=\"1\" class=\"dataframe\">\n",
       "  <thead>\n",
       "    <tr style=\"text-align: right;\">\n",
       "      <th></th>\n",
       "      <th>Unnamed: 0</th>\n",
       "      <th>text</th>\n",
       "      <th>sentiment</th>\n",
       "    </tr>\n",
       "  </thead>\n",
       "  <tbody>\n",
       "    <tr>\n",
       "      <th>0</th>\n",
       "      <td>0</td>\n",
       "      <td>So there is no way for me to plug it in here i...</td>\n",
       "      <td>0</td>\n",
       "    </tr>\n",
       "    <tr>\n",
       "      <th>1</th>\n",
       "      <td>1</td>\n",
       "      <td>Good case Excellent value.</td>\n",
       "      <td>1</td>\n",
       "    </tr>\n",
       "    <tr>\n",
       "      <th>2</th>\n",
       "      <td>2</td>\n",
       "      <td>Great for the jawbone.</td>\n",
       "      <td>1</td>\n",
       "    </tr>\n",
       "    <tr>\n",
       "      <th>3</th>\n",
       "      <td>3</td>\n",
       "      <td>Tied to charger for conversations lasting more...</td>\n",
       "      <td>0</td>\n",
       "    </tr>\n",
       "    <tr>\n",
       "      <th>4</th>\n",
       "      <td>4</td>\n",
       "      <td>The mic is great.</td>\n",
       "      <td>1</td>\n",
       "    </tr>\n",
       "  </tbody>\n",
       "</table>\n",
       "</div>"
      ],
      "text/plain": [
       "   Unnamed: 0                                               text  sentiment\n",
       "0           0  So there is no way for me to plug it in here i...          0\n",
       "1           1                         Good case Excellent value.          1\n",
       "2           2                             Great for the jawbone.          1\n",
       "3           3  Tied to charger for conversations lasting more...          0\n",
       "4           4                                  The mic is great.          1"
      ]
     },
     "execution_count": 4,
     "metadata": {},
     "output_type": "execute_result"
    }
   ],
   "source": [
    "dataset = pd.read_csv(\"combined_data.csv\")\n",
    "\n",
    "dataset.head()"
   ]
  },
  {
   "cell_type": "markdown",
   "id": "b15b1b81",
   "metadata": {},
   "source": [
    "# Get the reviews from the csv file"
   ]
  },
  {
   "cell_type": "code",
   "execution_count": 5,
   "id": "b0f05fe0",
   "metadata": {},
   "outputs": [
    {
     "data": {
      "text/plain": [
       "Index(['Unnamed: 0', 'text', 'sentiment'], dtype='object')"
      ]
     },
     "execution_count": 5,
     "metadata": {},
     "output_type": "execute_result"
    }
   ],
   "source": [
    "dataset.columns"
   ]
  },
  {
   "cell_type": "code",
   "execution_count": 12,
   "id": "ad7b2954",
   "metadata": {},
   "outputs": [
    {
     "name": "stdout",
     "output_type": "stream",
     "text": [
      "['Good case Excellent value.', 'Great for the jawbone.', 'Tied to charger for conversations lasting more than 45 minutes.MAJOR PROBLEMS!!', 'The mic is great.', 'I have to jiggle the plug to get it to line up right to get decent volume.', 'If you have several dozen or several hundred contacts then imagine the fun of sending each of them one by one.', 'If you are Razr owner...you must have this!', 'Needless to say I wasted my money.', 'What a waste of money and time!.']\n"
     ]
    }
   ],
   "source": [
    "reviews = dataset['text'].to_list()\n",
    "print(reviews[1:10])"
   ]
  },
  {
   "cell_type": "markdown",
   "id": "dc510f70",
   "metadata": {},
   "source": [
    "# Tokenize the text\n",
    "Create the tokenizer, specify the OOV token, tokenize the text, then inspect the word index."
   ]
  },
  {
   "cell_type": "code",
   "execution_count": 15,
   "id": "b9dec709",
   "metadata": {},
   "outputs": [],
   "source": [
    "tokenize = Tokenizer(oov_token=\"<OOV>\")\n",
    "tokenize.fit_on_texts(reviews)"
   ]
  },
  {
   "cell_type": "code",
   "execution_count": 29,
   "id": "35a8e583",
   "metadata": {},
   "outputs": [
    {
     "name": "stdout",
     "output_type": "stream",
     "text": [
      "3261\n"
     ]
    }
   ],
   "source": [
    "word_index = tokenize.word_index\n",
    "print(len(word_index))"
   ]
  },
  {
   "cell_type": "markdown",
   "id": "b67bf844",
   "metadata": {},
   "source": [
    "# Generate sequences for the reviews\n",
    "Generate a sequence for each review. Set the max length to match the longest review. Add the padding zeros at the end of the review for reviews that are not as long as the longest one."
   ]
  },
  {
   "cell_type": "code",
   "execution_count": 31,
   "id": "3084d672",
   "metadata": {},
   "outputs": [
    {
     "name": "stdout",
     "output_type": "stream",
     "text": [
      "[[   0    0    0 ...  113    5 1429]\n",
      " [   0    0    0 ...  110   87  397]\n",
      " [   0    0    0 ...   13    2  732]\n",
      " ...\n",
      " [   0    0    0 ...   12   60   40]\n",
      " [   0    0    0 ...  246  243   39]\n",
      " [   0    0    0 ...  605    2  375]]\n"
     ]
    }
   ],
   "source": [
    "seq = tokenize.texts_to_sequences(reviews)\n",
    "pad_seq = tf.keras.preprocessing.sequence.pad_sequences(seq)\n",
    "print(pad_seq)"
   ]
  },
  {
   "cell_type": "code",
   "execution_count": 33,
   "id": "1e325fd7",
   "metadata": {},
   "outputs": [
    {
     "name": "stdout",
     "output_type": "stream",
     "text": [
      "The Shape of Padded Sequence is:  (1992, 139)\n",
      "The First Review:  So there is no way for me to plug it in here in the US unless I go by a converter.\n",
      "The padded seq of the first review:  [   0    0    0    0    0    0    0    0    0    0    0    0    0    0\n",
      "    0    0    0    0    0    0    0    0    0    0    0    0    0    0\n",
      "    0    0    0    0    0    0    0    0    0    0    0    0    0    0\n",
      "    0    0    0    0    0    0    0    0    0    0    0    0    0    0\n",
      "    0    0    0    0    0    0    0    0    0    0    0    0    0    0\n",
      "    0    0    0    0    0    0    0    0    0    0    0    0    0    0\n",
      "    0    0    0    0    0    0    0    0    0    0    0    0    0    0\n",
      "    0    0    0    0    0    0    0    0    0    0    0    0    0    0\n",
      "    0    0    0    0    0    0   28   59    8   56  142   13   61    7\n",
      "  269    6   15   46   15    2  149  449    4   60  113    5 1429]\n"
     ]
    }
   ],
   "source": [
    "# What is the shape of the vector containing the padded sequences?\n",
    "# The shape shows the number of sequences and the length of each one.\n",
    "print(\"The Shape of Padded Sequence is: \",pad_seq.shape)\n",
    "\n",
    "print(\"The First Review: \",reviews[0])\n",
    "\n",
    "print(\"The padded seq of the first review: \",pad_seq[0])"
   ]
  },
  {
   "cell_type": "code",
   "execution_count": null,
   "id": "89ec19f6",
   "metadata": {},
   "outputs": [],
   "source": []
  }
 ],
 "metadata": {
  "kernelspec": {
   "display_name": "Python 3",
   "language": "python",
   "name": "python3"
  },
  "language_info": {
   "codemirror_mode": {
    "name": "ipython",
    "version": 3
   },
   "file_extension": ".py",
   "mimetype": "text/x-python",
   "name": "python",
   "nbconvert_exporter": "python",
   "pygments_lexer": "ipython3",
   "version": "3.8.8"
  }
 },
 "nbformat": 4,
 "nbformat_minor": 5
}
