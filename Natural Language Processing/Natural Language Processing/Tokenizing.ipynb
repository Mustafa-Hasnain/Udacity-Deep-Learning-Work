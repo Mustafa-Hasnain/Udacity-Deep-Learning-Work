{
 "cells": [
  {
   "cell_type": "markdown",
   "id": "caf78a4f",
   "metadata": {},
   "source": [
    "# Importing the Tokenizer"
   ]
  },
  {
   "cell_type": "code",
   "execution_count": 1,
   "id": "73b3b382",
   "metadata": {},
   "outputs": [],
   "source": [
    "from tensorflow.keras.preprocessing.text import Tokenizer"
   ]
  },
  {
   "cell_type": "markdown",
   "id": "058bb60d",
   "metadata": {},
   "source": [
    "# Write some sentences\n",
    "Feel free to change and add sentences as you like"
   ]
  },
  {
   "cell_type": "code",
   "execution_count": 2,
   "id": "70471278",
   "metadata": {},
   "outputs": [],
   "source": [
    "sentences = [\n",
    "    'Hello World',\n",
    "    'Congratulations',\n",
    "    'Hey There',\n",
    "    \"How are You Doing?\"\n",
    "    \"Chocolate is my favourite food\"\n",
    "]"
   ]
  },
  {
   "cell_type": "markdown",
   "id": "b4e65f18",
   "metadata": {},
   "source": [
    "# Tokenize the words\n",
    "The first step to preparing text to be used in a machine learning model is to tokenize the text, in other words, to generate numbers for the words."
   ]
  },
  {
   "cell_type": "code",
   "execution_count": 3,
   "id": "18cdeadf",
   "metadata": {},
   "outputs": [],
   "source": [
    "# Optionally set the max number of words to tokenize.\n",
    "# The out of vocabulary (OOV) token represents words that are not in the index.\n",
    "# Call fit_on_text() on the tokenizer to generate unique numbers for each word\n",
    "tokenizer = Tokenizer(num_words=100, oov_token=\"<OOV>\")\n",
    "tokenizer.fit_on_texts(sentences)"
   ]
  },
  {
   "cell_type": "markdown",
   "id": "0fffbd4a",
   "metadata": {},
   "source": [
    "View the word index\n",
    "After you tokenize the text, the tokenizer has a word index that contains key-value pairs for all the words and their numbers.\n",
    "\n",
    "The word is the key, and the number is the value.\n",
    "\n",
    "Notice that the OOV token is the first entry."
   ]
  },
  {
   "cell_type": "code",
   "execution_count": 10,
   "id": "7f291fef",
   "metadata": {},
   "outputs": [
    {
     "name": "stdout",
     "output_type": "stream",
     "text": [
      "{'<OOV>': 1, 'hello': 2, 'world': 3, 'congratulations': 4, 'hey': 5, 'there': 6, 'how': 7, 'are': 8, 'you': 9, 'doing': 10, 'chocolate': 11, 'is': 12, 'my': 13, 'favourite': 14, 'food': 15}\n"
     ]
    }
   ],
   "source": [
    "#word_index = tokenizer.index_word\n",
    "#If we use the index_word function then it will put number in key side and word in value side\n",
    "#If we use word_index function then it will put number in value side and word in key side\n",
    "word_index =  tokenizer.word_index\n",
    "print(word_index)"
   ]
  },
  {
   "cell_type": "code",
   "execution_count": 11,
   "id": "a2b5a643",
   "metadata": {},
   "outputs": [
    {
     "data": {
      "text/plain": [
       "2"
      ]
     },
     "execution_count": 11,
     "metadata": {},
     "output_type": "execute_result"
    }
   ],
   "source": [
    "# Get the number for a given word\n",
    "word_index['hello']"
   ]
  },
  {
   "cell_type": "markdown",
   "id": "0d764e99",
   "metadata": {},
   "source": [
    "# Create sequences for the sentences\n",
    "After you tokenize the words, the word index contains a unique number for each word. However, the numbers in the word index are not ordered. Words in a sentence have an order. So after tokenizing the words, the next step is to generate sequences for the sentences."
   ]
  },
  {
   "cell_type": "code",
   "execution_count": 13,
   "id": "2951c7e3",
   "metadata": {},
   "outputs": [
    {
     "name": "stdout",
     "output_type": "stream",
     "text": [
      "[[2, 3], [4], [5, 6], [7, 8, 9, 10, 11, 12, 13, 14, 15]]\n"
     ]
    }
   ],
   "source": [
    "seq = tokenizer.texts_to_sequences(sentences)\n",
    "print(seq)"
   ]
  },
  {
   "cell_type": "markdown",
   "id": "9463d3e1",
   "metadata": {},
   "source": [
    "# Sequence sentences that contain words that are not in the word index\n",
    "Let's take a look at what happens if the sentence being sequenced contains words that are not in the word index.\n",
    "\n",
    "The Out of Vocabluary (OOV) token is the first entry in the word index. You will see it shows up in the sequences in place of any word that is not in the word index."
   ]
  },
  {
   "cell_type": "code",
   "execution_count": 14,
   "id": "0d8b8567",
   "metadata": {},
   "outputs": [
    {
     "name": "stdout",
     "output_type": "stream",
     "text": [
      "[[1, 1, 1, 11], [13, 1, 1, 13, 1, 1, 1, 1, 13, 1, 1, 1, 1, 13, 1, 1, 1, 1, 1, 1]]\n"
     ]
    }
   ],
   "source": [
    "sentences2 = [\"I like hot chocolate\", \n",
    "              \"My dogs and my hedgehog like kibble but my squirrel prefers grapes and my chickens like ice cream, preferably vanilla\"]\n",
    "\n",
    "sequences2 = tokenizer.texts_to_sequences(sentences2)\n",
    "print(sequences2)"
   ]
  },
  {
   "cell_type": "code",
   "execution_count": null,
   "id": "bd603796",
   "metadata": {},
   "outputs": [],
   "source": []
  }
 ],
 "metadata": {
  "kernelspec": {
   "display_name": "Python 3",
   "language": "python",
   "name": "python3"
  },
  "language_info": {
   "codemirror_mode": {
    "name": "ipython",
    "version": 3
   },
   "file_extension": ".py",
   "mimetype": "text/x-python",
   "name": "python",
   "nbconvert_exporter": "python",
   "pygments_lexer": "ipython3",
   "version": "3.8.8"
  }
 },
 "nbformat": 4,
 "nbformat_minor": 5
}
