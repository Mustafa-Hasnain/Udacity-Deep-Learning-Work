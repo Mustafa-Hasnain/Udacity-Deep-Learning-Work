{
 "cells": [
  {
   "cell_type": "code",
   "execution_count": 1,
   "id": "40f1a850",
   "metadata": {},
   "outputs": [],
   "source": [
    "import numpy as np \n",
    "import pandas as pd\n",
    "import tensorflow as tf"
   ]
  },
  {
   "cell_type": "code",
   "execution_count": 2,
   "id": "2737b1b7",
   "metadata": {},
   "outputs": [
    {
     "data": {
      "text/html": [
       "<div>\n",
       "<style scoped>\n",
       "    .dataframe tbody tr th:only-of-type {\n",
       "        vertical-align: middle;\n",
       "    }\n",
       "\n",
       "    .dataframe tbody tr th {\n",
       "        vertical-align: top;\n",
       "    }\n",
       "\n",
       "    .dataframe thead th {\n",
       "        text-align: right;\n",
       "    }\n",
       "</style>\n",
       "<table border=\"1\" class=\"dataframe\">\n",
       "  <thead>\n",
       "    <tr style=\"text-align: right;\">\n",
       "      <th></th>\n",
       "      <th>Unnamed: 0</th>\n",
       "      <th>text</th>\n",
       "      <th>sentiment</th>\n",
       "    </tr>\n",
       "  </thead>\n",
       "  <tbody>\n",
       "    <tr>\n",
       "      <th>0</th>\n",
       "      <td>0</td>\n",
       "      <td>So there is no way for me to plug it in here i...</td>\n",
       "      <td>0</td>\n",
       "    </tr>\n",
       "    <tr>\n",
       "      <th>1</th>\n",
       "      <td>1</td>\n",
       "      <td>Good case Excellent value.</td>\n",
       "      <td>1</td>\n",
       "    </tr>\n",
       "    <tr>\n",
       "      <th>2</th>\n",
       "      <td>2</td>\n",
       "      <td>Great for the jawbone.</td>\n",
       "      <td>1</td>\n",
       "    </tr>\n",
       "    <tr>\n",
       "      <th>3</th>\n",
       "      <td>3</td>\n",
       "      <td>Tied to charger for conversations lasting more...</td>\n",
       "      <td>0</td>\n",
       "    </tr>\n",
       "    <tr>\n",
       "      <th>4</th>\n",
       "      <td>4</td>\n",
       "      <td>The mic is great.</td>\n",
       "      <td>1</td>\n",
       "    </tr>\n",
       "    <tr>\n",
       "      <th>5</th>\n",
       "      <td>5</td>\n",
       "      <td>I have to jiggle the plug to get it to line up...</td>\n",
       "      <td>0</td>\n",
       "    </tr>\n",
       "    <tr>\n",
       "      <th>6</th>\n",
       "      <td>6</td>\n",
       "      <td>If you have several dozen or several hundred c...</td>\n",
       "      <td>0</td>\n",
       "    </tr>\n",
       "    <tr>\n",
       "      <th>7</th>\n",
       "      <td>7</td>\n",
       "      <td>If you are Razr owner...you must have this!</td>\n",
       "      <td>1</td>\n",
       "    </tr>\n",
       "    <tr>\n",
       "      <th>8</th>\n",
       "      <td>8</td>\n",
       "      <td>Needless to say I wasted my money.</td>\n",
       "      <td>0</td>\n",
       "    </tr>\n",
       "    <tr>\n",
       "      <th>9</th>\n",
       "      <td>9</td>\n",
       "      <td>What a waste of money and time!.</td>\n",
       "      <td>0</td>\n",
       "    </tr>\n",
       "  </tbody>\n",
       "</table>\n",
       "</div>"
      ],
      "text/plain": [
       "   Unnamed: 0                                               text  sentiment\n",
       "0           0  So there is no way for me to plug it in here i...          0\n",
       "1           1                         Good case Excellent value.          1\n",
       "2           2                             Great for the jawbone.          1\n",
       "3           3  Tied to charger for conversations lasting more...          0\n",
       "4           4                                  The mic is great.          1\n",
       "5           5  I have to jiggle the plug to get it to line up...          0\n",
       "6           6  If you have several dozen or several hundred c...          0\n",
       "7           7        If you are Razr owner...you must have this!          1\n",
       "8           8                 Needless to say I wasted my money.          0\n",
       "9           9                   What a waste of money and time!.          0"
      ]
     },
     "execution_count": 2,
     "metadata": {},
     "output_type": "execute_result"
    }
   ],
   "source": [
    "dataset = pd.read_csv(\"combined_data.csv\")\n",
    "dataset.head(10)"
   ]
  },
  {
   "cell_type": "code",
   "execution_count": 3,
   "id": "bea42fb9",
   "metadata": {},
   "outputs": [],
   "source": [
    "#Fetching Sentences from data\n",
    "sentences = dataset['text'].tolist()\n",
    "labels = dataset['sentiment'].tolist()\n",
    "\n",
    "#seperating the train and test data\n",
    "length = int(len(sentences)* 0.8)\n",
    "\n",
    "training_sentences = sentences[0:length]\n",
    "testing_sentences = sentences[length:]\n",
    "\n",
    "length_labels = int(len(labels) *  0.8)\n",
    "\n",
    "training_labels = labels[0:length_labels]\n",
    "testing_labels = labels[length_labels:]\n",
    "\n",
    "training_labels_final = np.array(training_labels)\n",
    "testing_labels_final = np.array(testing_labels)"
   ]
  },
  {
   "cell_type": "markdown",
   "id": "2fefa66c",
   "metadata": {},
   "source": [
    "# Tokenize the dataset (with tweaks!)\n",
    "Now, we'll tokenize the dataset, but we can make some changes to this from before. Previously, we used:\n",
    "\n",
    "vocab_size = 1000\n",
    "\n",
    "embedding_dim = 16\n",
    "\n",
    "max_length = 100\n",
    "\n",
    "trunc_type='post'\n",
    "\n",
    "padding_type='post'\n",
    "\n",
    "How might changing the vocab_size, embedding_dim or max_length affect how the model performs?"
   ]
  },
  {
   "cell_type": "code",
   "execution_count": 4,
   "id": "4ccb80a8",
   "metadata": {},
   "outputs": [],
   "source": [
    "vocab_size = 500\n",
    "embedding_dim = 16\n",
    "max_length = 50\n",
    "trunc_type='post'\n",
    "padding_type='post'\n",
    "\n",
    "tokenizer = tf.keras.preprocessing.text.Tokenizer(num_words = vocab_size, oov_token=\"<OOV>\")\n",
    "tokenizer.fit_on_texts(training_sentences)\n",
    "\n",
    "word_index = tokenizer.word_index\n",
    "\n",
    "training_sequences = tokenizer.texts_to_sequences(training_sentences)\n",
    "padded_training = tf.keras.preprocessing.sequence.pad_sequences(training_sequences,maxlen = max_length,padding='post', truncating='post')\n",
    "\n",
    "testing_sequence = tokenizer.texts_to_sequences(testing_sentences)\n",
    "padded_testing = tf.keras.preprocessing.sequence.pad_sequences(testing_sequence, maxlen= max_length, padding = 'post', truncating='post')"
   ]
  },
  {
   "cell_type": "markdown",
   "id": "40a4994c",
   "metadata": {},
   "source": [
    "# Train a Sentiment Model (with tweaks!)\n",
    "We'll use a slightly different model here, using GlobalAveragePooling1D instead of Flatten()"
   ]
  },
  {
   "cell_type": "code",
   "execution_count": 25,
   "id": "b9652dfd",
   "metadata": {},
   "outputs": [],
   "source": [
    "model = tf.keras.Sequential()\n",
    "model.add(tf.keras.layers.Embedding(vocab_size, embedding_dim, input_length = max_length))\n",
    "model.add(tf.keras.layers.GlobalAveragePooling1D()) #We are using GlobalAveragePooling1D instead of flatten layer\n",
    "model.add(tf.keras.layers.Dense(units = 6, activation = 'relu'))\n",
    "model.add(tf.keras.layers.Dense(units = 1, activation = 'sigmoid'))\n",
    "model.compile(optimizer='adam', loss = tf.keras.losses.BinaryCrossentropy(from_logits=True), metrics=['accuracy'])"
   ]
  },
  {
   "cell_type": "code",
   "execution_count": 26,
   "id": "eab6c229",
   "metadata": {},
   "outputs": [
    {
     "name": "stdout",
     "output_type": "stream",
     "text": [
      "Epoch 1/30\n"
     ]
    },
    {
     "name": "stderr",
     "output_type": "stream",
     "text": [
      "C:\\Users\\Mustafa Hasnain\\anaconda3\\lib\\site-packages\\keras\\backend.py:4993: UserWarning: \"`binary_crossentropy` received `from_logits=True`, but the `output` argument was produced by a sigmoid or softmax activation and thus does not represent logits. Was this intended?\"\n",
      "  warnings.warn(\n"
     ]
    },
    {
     "name": "stdout",
     "output_type": "stream",
     "text": [
      "50/50 [==============================] - 1s 5ms/step - loss: 0.6926 - accuracy: 0.5223 - val_loss: 0.6975 - val_accuracy: 0.4110\n",
      "Epoch 2/30\n",
      "50/50 [==============================] - 0s 2ms/step - loss: 0.6909 - accuracy: 0.5229 - val_loss: 0.6980 - val_accuracy: 0.4110\n",
      "Epoch 3/30\n",
      "50/50 [==============================] - 0s 2ms/step - loss: 0.6881 - accuracy: 0.5443 - val_loss: 0.6938 - val_accuracy: 0.4536\n",
      "Epoch 4/30\n",
      "50/50 [==============================] - 0s 2ms/step - loss: 0.6818 - accuracy: 0.5769 - val_loss: 0.6899 - val_accuracy: 0.4862\n",
      "Epoch 5/30\n",
      "50/50 [==============================] - 0s 2ms/step - loss: 0.6711 - accuracy: 0.6114 - val_loss: 0.6868 - val_accuracy: 0.4912\n",
      "Epoch 6/30\n",
      "50/50 [==============================] - 0s 2ms/step - loss: 0.6562 - accuracy: 0.6416 - val_loss: 0.6645 - val_accuracy: 0.6266\n",
      "Epoch 7/30\n",
      "50/50 [==============================] - 0s 2ms/step - loss: 0.6375 - accuracy: 0.7075 - val_loss: 0.6548 - val_accuracy: 0.5865\n",
      "Epoch 8/30\n",
      "50/50 [==============================] - 0s 2ms/step - loss: 0.6138 - accuracy: 0.7125 - val_loss: 0.6388 - val_accuracy: 0.6140\n",
      "Epoch 9/30\n",
      "50/50 [==============================] - 0s 2ms/step - loss: 0.5858 - accuracy: 0.7809 - val_loss: 0.6147 - val_accuracy: 0.6842\n",
      "Epoch 10/30\n",
      "50/50 [==============================] - 0s 2ms/step - loss: 0.5554 - accuracy: 0.7872 - val_loss: 0.5964 - val_accuracy: 0.7018\n",
      "Epoch 11/30\n",
      "50/50 [==============================] - 0s 2ms/step - loss: 0.5247 - accuracy: 0.8104 - val_loss: 0.5950 - val_accuracy: 0.6642\n",
      "Epoch 12/30\n",
      "50/50 [==============================] - 0s 2ms/step - loss: 0.4973 - accuracy: 0.8148 - val_loss: 0.5606 - val_accuracy: 0.7218\n",
      "Epoch 13/30\n",
      "50/50 [==============================] - 0s 2ms/step - loss: 0.4663 - accuracy: 0.8349 - val_loss: 0.5472 - val_accuracy: 0.7243\n",
      "Epoch 14/30\n",
      "50/50 [==============================] - 0s 2ms/step - loss: 0.4402 - accuracy: 0.8456 - val_loss: 0.5324 - val_accuracy: 0.7368\n",
      "Epoch 15/30\n",
      "50/50 [==============================] - 0s 3ms/step - loss: 0.4195 - accuracy: 0.8519 - val_loss: 0.5231 - val_accuracy: 0.7393\n",
      "Epoch 16/30\n",
      "50/50 [==============================] - 0s 3ms/step - loss: 0.3950 - accuracy: 0.8575 - val_loss: 0.5198 - val_accuracy: 0.7318\n",
      "Epoch 17/30\n",
      "50/50 [==============================] - 0s 2ms/step - loss: 0.3770 - accuracy: 0.8619 - val_loss: 0.5032 - val_accuracy: 0.7594\n",
      "Epoch 18/30\n",
      "50/50 [==============================] - 0s 2ms/step - loss: 0.3610 - accuracy: 0.8688 - val_loss: 0.5131 - val_accuracy: 0.7243\n",
      "Epoch 19/30\n",
      "50/50 [==============================] - 0s 2ms/step - loss: 0.3451 - accuracy: 0.8732 - val_loss: 0.4902 - val_accuracy: 0.7619\n",
      "Epoch 20/30\n",
      "50/50 [==============================] - 0s 2ms/step - loss: 0.3315 - accuracy: 0.8782 - val_loss: 0.5021 - val_accuracy: 0.7268\n",
      "Epoch 21/30\n",
      "50/50 [==============================] - 0s 3ms/step - loss: 0.3192 - accuracy: 0.8795 - val_loss: 0.4915 - val_accuracy: 0.7569\n",
      "Epoch 22/30\n",
      "50/50 [==============================] - 0s 2ms/step - loss: 0.3080 - accuracy: 0.8895 - val_loss: 0.4837 - val_accuracy: 0.7594\n",
      "Epoch 23/30\n",
      "50/50 [==============================] - 0s 2ms/step - loss: 0.2975 - accuracy: 0.8883 - val_loss: 0.4834 - val_accuracy: 0.7544\n",
      "Epoch 24/30\n",
      "50/50 [==============================] - 0s 2ms/step - loss: 0.2900 - accuracy: 0.8864 - val_loss: 0.4918 - val_accuracy: 0.7393\n",
      "Epoch 25/30\n",
      "50/50 [==============================] - 0s 2ms/step - loss: 0.2806 - accuracy: 0.8895 - val_loss: 0.5166 - val_accuracy: 0.7293\n",
      "Epoch 26/30\n",
      "50/50 [==============================] - 0s 2ms/step - loss: 0.2738 - accuracy: 0.8952 - val_loss: 0.4921 - val_accuracy: 0.7469\n",
      "Epoch 27/30\n",
      "50/50 [==============================] - 0s 2ms/step - loss: 0.2647 - accuracy: 0.8970 - val_loss: 0.4841 - val_accuracy: 0.7644\n",
      "Epoch 28/30\n",
      "50/50 [==============================] - 0s 3ms/step - loss: 0.2600 - accuracy: 0.9021 - val_loss: 0.4940 - val_accuracy: 0.7469\n",
      "Epoch 29/30\n",
      "50/50 [==============================] - 0s 3ms/step - loss: 0.2535 - accuracy: 0.8989 - val_loss: 0.5327 - val_accuracy: 0.7218\n",
      "Epoch 30/30\n",
      "50/50 [==============================] - 0s 2ms/step - loss: 0.2483 - accuracy: 0.9014 - val_loss: 0.5112 - val_accuracy: 0.7368\n"
     ]
    }
   ],
   "source": [
    "#Fitting the model\n",
    "#early_stopping = tf.keras.callbacks.EarlyStopping(patience=15) You con use early stopping as well\n",
    "history = model.fit(padded_training, training_labels_final, epochs=30, validation_data=(padded_testing, testing_labels_final))"
   ]
  },
  {
   "cell_type": "markdown",
   "id": "59be0771",
   "metadata": {},
   "source": [
    "# Visualize the training graph\n",
    "You can use the code below to visualize the training and validation accuracy while you try out different tweaks to the hyperparameters and model."
   ]
  },
  {
   "cell_type": "code",
   "execution_count": 30,
   "id": "1c1e982f",
   "metadata": {},
   "outputs": [
    {
     "name": "stdout",
     "output_type": "stream",
     "text": [
      "dict_keys(['loss', 'accuracy', 'val_loss', 'val_accuracy'])\n"
     ]
    },
    {
     "data": {
      "image/png": "[encoded data removed]",
      "text/plain": [
       "<Figure size 432x288 with 1 Axes>"
      ]
     },
     "metadata": {
      "needs_background": "light"
     },
     "output_type": "display_data"
    }
   ],
   "source": [
    "import matplotlib.pyplot as plt\n",
    "columns = history.history.keys()\n",
    "print(a)\n",
    "def plot_graph():\n",
    "    plt.plot(history.history['accuracy'])\n",
    "    plt.plot(history.history['val_accuracy'])\n",
    "    plt.xlabel('Epochs')\n",
    "    plt.ylabel('Accuracy')\n",
    "    plt.legend(['accuracy', 'val_accuracy'])\n",
    "    plt.show()\n",
    "\n",
    "plot_graph()"
   ]
  },
  {
   "cell_type": "markdown",
   "id": "6bbbcaa6",
   "metadata": {},
   "source": [
    "# Get files for visualizing the network\n",
    "The code below will download two files for visualizing how your network \"sees\" the sentiment related to each word. Head to http://projector.tensorflow.org/ and load these files, then click the checkbox to \"sphereize\" the data.\n",
    "\n",
    "Note: You may run into errors with the projection if your vocab_size earlier was larger than the actual number of words in the vocabulary, in which case you'll need to decrease this variable and re-train in order to visualize.\n",
    "\n"
   ]
  },
  {
   "cell_type": "code",
   "execution_count": null,
   "id": "e09c0162",
   "metadata": {},
   "outputs": [],
   "source": [
    "#Skipping For now"
   ]
  },
  {
   "cell_type": "markdown",
   "id": "489049eb",
   "metadata": {},
   "source": [
    "# Predicting Sentiment in New Reviews\n",
    "Below, we've again included some example new reviews you can test your results on."
   ]
  },
  {
   "cell_type": "code",
   "execution_count": 33,
   "id": "df1613b2",
   "metadata": {},
   "outputs": [],
   "source": [
    "other_sentences = ['I love this phone', 'I hate spaghetti', \n",
    "                'Everything was cold',\n",
    "                'Everything was hot exactly as I wanted', \n",
    "                'Everything was green', \n",
    "                'the host seated us immediately',\n",
    "                'they gave us free chocolate cake', \n",
    "                'not sure about the wilted flowers on the table',\n",
    "                'only works when I stand on tippy toes', \n",
    "                'does not work when I stand on my head']\n",
    "\n",
    "sample_sequences = tokenizer.texts_to_sequences(other_sentences)\n",
    "sample_padding = tf.keras.preprocessing.sequence.pad_sequences(sample_sequences, padding='post',maxlen=max_length)"
   ]
  },
  {
   "cell_type": "code",
   "execution_count": 35,
   "id": "74e51cdb",
   "metadata": {},
   "outputs": [
    {
     "name": "stdout",
     "output_type": "stream",
     "text": [
      "I love this phone\n",
      "[0.9360131]\n",
      "\n",
      "\n",
      "I hate spaghetti\n",
      "[0.16236451]\n",
      "\n",
      "\n",
      "Everything was cold\n",
      "[0.62322503]\n",
      "\n",
      "\n",
      "Everything was hot exactly as I wanted\n",
      "[0.4307291]\n",
      "\n",
      "\n",
      "Everything was green\n",
      "[0.62322503]\n",
      "\n",
      "\n",
      "the host seated us immediately\n",
      "[0.6179483]\n",
      "\n",
      "\n",
      "they gave us free chocolate cake\n",
      "[0.8919087]\n",
      "\n",
      "\n",
      "not sure about the wilted flowers on the table\n",
      "[0.07770881]\n",
      "\n",
      "\n",
      "only works when I stand on tippy toes\n",
      "[0.9069644]\n",
      "\n",
      "\n",
      "does not work when I stand on my head\n",
      "[0.03917348]\n",
      "\n",
      "\n"
     ]
    }
   ],
   "source": [
    "prediction = model.predict(sample_padding)\n",
    "\n",
    "for i in range(len(other_sentences)):\n",
    "    print(other_sentences[i])\n",
    "    print(prediction[i])\n",
    "    print('\\n')"
   ]
  },
  {
   "cell_type": "code",
   "execution_count": null,
   "id": "3261a385",
   "metadata": {},
   "outputs": [],
   "source": []
  }
 ],
 "metadata": {
  "kernelspec": {
   "display_name": "Python 3",
   "language": "python",
   "name": "python3"
  },
  "language_info": {
   "codemirror_mode": {
    "name": "ipython",
    "version": 3
   },
   "file_extension": ".py",
   "mimetype": "text/x-python",
   "name": "python",
   "nbconvert_exporter": "python",
   "pygments_lexer": "ipython3",
   "version": "3.8.8"
  }
 },
 "nbformat": 4,
 "nbformat_minor": 5
}
