{
 "cells": [
  {
   "cell_type": "code",
   "execution_count": 1,
   "id": "e9b3486e",
   "metadata": {},
   "outputs": [],
   "source": [
    "import tensorflow as tf\n",
    "import numpy as np \n",
    "import pandas as pd\n",
    "import string\n",
    "import matplotlib.pyplot as plt"
   ]
  },
  {
   "cell_type": "code",
   "execution_count": 2,
   "id": "6d53f2e4",
   "metadata": {},
   "outputs": [],
   "source": [
    "def tokenize_corpus(corpus, num_words = -1):\n",
    "    if num_words > -1:\n",
    "        tokenize = tf.keras.preprocessing.text.Tokenizer(num_words = num_words)\n",
    "    else:\n",
    "        tokenize = tf.keras.preprocessing.text.Tokenizer()\n",
    "    tokenize.fit_on_texts(corpus)\n",
    "    return tokenize\n",
    "\n",
    "def create_database(dataset, column):\n",
    "    #Punctuating It\n",
    "    dataset[column] = dataset[column].str.replace('[{}]'.format(string.punctuation), '')\n",
    "    #Making It lower\n",
    "    dataset[column] = dataset[column].str.lower()\n",
    "    #Making It a one long string by cat function\n",
    "    lyrics = dataset[column].str.cat()\n",
    "    corpus = lyrics.split('\\n')\n",
    "  # Remove any trailing whitespace\n",
    "    for l in range(len(corpus)):\n",
    "        corpus[l] = corpus[l].rstrip()\n",
    "  # Remove any empty lines\n",
    "    corpus = [l for l in corpus if l != '']\n",
    "    return corpus"
   ]
  },
  {
   "cell_type": "code",
   "execution_count": 3,
   "id": "4b93c953",
   "metadata": {},
   "outputs": [
    {
     "data": {
      "text/html": [
       "<div>\n",
       "<style scoped>\n",
       "    .dataframe tbody tr th:only-of-type {\n",
       "        vertical-align: middle;\n",
       "    }\n",
       "\n",
       "    .dataframe tbody tr th {\n",
       "        vertical-align: top;\n",
       "    }\n",
       "\n",
       "    .dataframe thead th {\n",
       "        text-align: right;\n",
       "    }\n",
       "</style>\n",
       "<table border=\"1\" class=\"dataframe\">\n",
       "  <thead>\n",
       "    <tr style=\"text-align: right;\">\n",
       "      <th></th>\n",
       "      <th>artist</th>\n",
       "      <th>song</th>\n",
       "      <th>link</th>\n",
       "      <th>text</th>\n",
       "    </tr>\n",
       "  </thead>\n",
       "  <tbody>\n",
       "    <tr>\n",
       "      <th>0</th>\n",
       "      <td>ABBA</td>\n",
       "      <td>Ahe's My Kind Of Girl</td>\n",
       "      <td>/a/abba/ahes+my+kind+of+girl_20598417.html</td>\n",
       "      <td>Look at her face, it's a wonderful face  \\nAnd...</td>\n",
       "    </tr>\n",
       "    <tr>\n",
       "      <th>1</th>\n",
       "      <td>ABBA</td>\n",
       "      <td>Andante, Andante</td>\n",
       "      <td>/a/abba/andante+andante_20002708.html</td>\n",
       "      <td>Take it easy with me, please  \\nTouch me gentl...</td>\n",
       "    </tr>\n",
       "    <tr>\n",
       "      <th>2</th>\n",
       "      <td>ABBA</td>\n",
       "      <td>As Good As New</td>\n",
       "      <td>/a/abba/as+good+as+new_20003033.html</td>\n",
       "      <td>I'll never know why I had to go  \\nWhy I had t...</td>\n",
       "    </tr>\n",
       "    <tr>\n",
       "      <th>3</th>\n",
       "      <td>ABBA</td>\n",
       "      <td>Bang</td>\n",
       "      <td>/a/abba/bang_20598415.html</td>\n",
       "      <td>Making somebody happy is a question of give an...</td>\n",
       "    </tr>\n",
       "    <tr>\n",
       "      <th>4</th>\n",
       "      <td>ABBA</td>\n",
       "      <td>Bang-A-Boomerang</td>\n",
       "      <td>/a/abba/bang+a+boomerang_20002668.html</td>\n",
       "      <td>Making somebody happy is a question of give an...</td>\n",
       "    </tr>\n",
       "  </tbody>\n",
       "</table>\n",
       "</div>"
      ],
      "text/plain": [
       "  artist                   song                                        link  \\\n",
       "0   ABBA  Ahe's My Kind Of Girl  /a/abba/ahes+my+kind+of+girl_20598417.html   \n",
       "1   ABBA       Andante, Andante       /a/abba/andante+andante_20002708.html   \n",
       "2   ABBA         As Good As New        /a/abba/as+good+as+new_20003033.html   \n",
       "3   ABBA                   Bang                  /a/abba/bang_20598415.html   \n",
       "4   ABBA       Bang-A-Boomerang      /a/abba/bang+a+boomerang_20002668.html   \n",
       "\n",
       "                                                text  \n",
       "0  Look at her face, it's a wonderful face  \\nAnd...  \n",
       "1  Take it easy with me, please  \\nTouch me gentl...  \n",
       "2  I'll never know why I had to go  \\nWhy I had t...  \n",
       "3  Making somebody happy is a question of give an...  \n",
       "4  Making somebody happy is a question of give an...  "
      ]
     },
     "execution_count": 3,
     "metadata": {},
     "output_type": "execute_result"
    }
   ],
   "source": [
    "dataset = pd.read_csv('songdata.csv', dtype=str)[:250]\n",
    "dataset.head()"
   ]
  },
  {
   "cell_type": "code",
   "execution_count": 4,
   "id": "34a0224a",
   "metadata": {},
   "outputs": [
    {
     "name": "stderr",
     "output_type": "stream",
     "text": [
      "<ipython-input-2-4fc1b22bf2fd>:11: FutureWarning: The default value of regex will change from True to False in a future version.\n",
      "  dataset[column] = dataset[column].str.replace('[{}]'.format(string.punctuation), '')\n"
     ]
    },
    {
     "name": "stdout",
     "output_type": "stream",
     "text": [
      "2000\n"
     ]
    }
   ],
   "source": [
    "#Creating a Courpus od Dataset\n",
    "corpus = create_database(dataset, 'text')\n",
    "\n",
    "tokenizer = tokenize_corpus(corpus,num_words=2000)\n",
    "\n",
    "total_words = tokenizer.num_words\n",
    "print(total_words)"
   ]
  },
  {
   "cell_type": "markdown",
   "id": "5851143f",
   "metadata": {},
   "source": [
    "# Creating Sequences and Labels "
   ]
  },
  {
   "cell_type": "code",
   "execution_count": 5,
   "id": "0b7b4583",
   "metadata": {},
   "outputs": [
    {
     "name": "stdout",
     "output_type": "stream",
     "text": [
      "[5, 8, 802, 175, 653]\n",
      "well go on walking for hours and talking\n"
     ]
    }
   ],
   "source": [
    "sequences = []\n",
    "for line in corpus:\n",
    "    token_list = tokenizer.texts_to_sequences([line])[0]\n",
    "    for i in range(1, len(token_list)):\n",
    "        n_gram_seq = token_list[:i+1]\n",
    "        sequences.append(n_gram_seq)\n",
    "print(sequences[10])\n",
    "print(corpus[10])"
   ]
  },
  {
   "cell_type": "code",
   "execution_count": 6,
   "id": "3df6240e",
   "metadata": {},
   "outputs": [
    {
     "name": "stdout",
     "output_type": "stream",
     "text": [
      "20\n",
      "[  0   0   0   0   0   0   0   0   0   0   0   0   0   0   0   5   8 802\n",
      " 175 653]\n",
      "47348\n",
      "47348\n",
      "[  0   0   0   0   0   0   0   0   0   0   0   0   0   0   0   5   8 802\n",
      " 175]\n",
      "653\n"
     ]
    }
   ],
   "source": [
    "#Padding the Sequence For equal\n",
    "\n",
    "#Getting the largest length in the sequence\n",
    "len_seq = max([len(seq) for seq in sequences])\n",
    "print(len_seq)\n",
    "\n",
    "#if we use len() we get total no of sequences\n",
    "padded_seq = tf.keras.preprocessing.sequence.pad_sequences(sequences, maxlen=len_seq, padding='pre')\n",
    "\n",
    "#converting the sequence into array\n",
    "array_padded_seq = np.array(padded_seq)\n",
    "print(array_padded_seq[10])\n",
    "\n",
    "print(len(array_padded_seq))\n",
    "\n",
    "#Splitting the sequences in testing and training data\n",
    "\n",
    "#Here we are splitting the last elemet of every list as labels so..\n",
    "input_seq, labels = array_padded_seq[:,:-1], array_padded_seq[:,-1]\n",
    "print(len(input_seq))\n",
    "print(input_seq[10])\n",
    "print(labels[10])\n",
    "\n",
    "#One hot encoding the labels\n",
    "encoded_labels = tf.keras.utils.to_categorical(labels, num_classes=total_words)"
   ]
  },
  {
   "cell_type": "markdown",
   "id": "af80e30a",
   "metadata": {},
   "source": [
    "# Train a (Better) Text Generation Model\n",
    "With more data, we'll cut off after 100 epochs to avoid keeping you here all day. You'll also want to change your runtime type to GPU if you haven't already (you'll need to re-run the above cells if you change runtimes)."
   ]
  },
  {
   "cell_type": "code",
   "execution_count": 7,
   "id": "1d7106fe",
   "metadata": {},
   "outputs": [
    {
     "name": "stdout",
     "output_type": "stream",
     "text": [
      "Model: \"sequential\"\n",
      "_________________________________________________________________\n",
      "Layer (type)                 Output Shape              Param #   \n",
      "=================================================================\n",
      "embedding (Embedding)        (None, 19, 64)            128000    \n",
      "_________________________________________________________________\n",
      "bidirectional (Bidirectional (None, 40)                13600     \n",
      "_________________________________________________________________\n",
      "dense (Dense)                (None, 2000)              82000     \n",
      "=================================================================\n",
      "Total params: 223,600\n",
      "Trainable params: 223,600\n",
      "Non-trainable params: 0\n",
      "_________________________________________________________________\n"
     ]
    }
   ],
   "source": [
    "model = tf.keras.Sequential()\n",
    "model.add(tf.keras.layers.Embedding(total_words, 64, input_length=len_seq-1))\n",
    "model.add(tf.keras.layers.Bidirectional(tf.keras.layers.LSTM(len_seq)))\n",
    "model.add(tf.keras.layers.Dense(units = total_words, activation = 'softmax'))\n",
    "model.compile(optimizer=tf.keras.optimizers.Adam(), loss=tf.keras.losses.CategoricalCrossentropy(), metrics=['accuracy'])\n",
    "model.summary()"
   ]
  },
  {
   "cell_type": "code",
   "execution_count": 8,
   "id": "1f8e77ae",
   "metadata": {},
   "outputs": [
    {
     "name": "stdout",
     "output_type": "stream",
     "text": [
      "Epoch 1/100\n",
      "1480/1480 [==============================] - 24s 14ms/step - loss: 5.9816 - accuracy: 0.0467\n",
      "Epoch 2/100\n",
      "1480/1480 [==============================] - 20s 14ms/step - loss: 5.6860 - accuracy: 0.0495\n",
      "Epoch 3/100\n",
      "1480/1480 [==============================] - 20s 14ms/step - loss: 5.4947 - accuracy: 0.0643\n",
      "Epoch 4/100\n",
      "1480/1480 [==============================] - 20s 14ms/step - loss: 5.3341 - accuracy: 0.0867\n",
      "Epoch 5/100\n",
      "1480/1480 [==============================] - 23s 15ms/step - loss: 5.1796 - accuracy: 0.1085\n",
      "Epoch 6/100\n",
      "1480/1480 [==============================] - 20s 14ms/step - loss: 4.9956 - accuracy: 0.1250\n",
      "Epoch 7/100\n",
      "1480/1480 [==============================] - 19s 13ms/step - loss: 4.8228 - accuracy: 0.1396\n",
      "Epoch 8/100\n",
      "1480/1480 [==============================] - 20s 14ms/step - loss: 4.6667 - accuracy: 0.1584\n",
      "Epoch 9/100\n",
      "1480/1480 [==============================] - 20s 14ms/step - loss: 4.5324 - accuracy: 0.1755\n",
      "Epoch 10/100\n",
      "1480/1480 [==============================] - 21s 14ms/step - loss: 4.4094 - accuracy: 0.1913\n",
      "Epoch 11/100\n",
      "1480/1480 [==============================] - 20s 14ms/step - loss: 4.2997 - accuracy: 0.2046\n",
      "Epoch 12/100\n",
      "1480/1480 [==============================] - 21s 14ms/step - loss: 4.1972 - accuracy: 0.2183\n",
      "Epoch 13/100\n",
      "1480/1480 [==============================] - 19s 13ms/step - loss: 4.1098 - accuracy: 0.2288\n",
      "Epoch 14/100\n",
      "1480/1480 [==============================] - 20s 14ms/step - loss: 4.0251 - accuracy: 0.2405\n",
      "Epoch 15/100\n",
      "1480/1480 [==============================] - 19s 13ms/step - loss: 3.9469 - accuracy: 0.2495\n",
      "Epoch 16/100\n",
      "1480/1480 [==============================] - 20s 13ms/step - loss: 3.8756 - accuracy: 0.2600\n",
      "Epoch 17/100\n",
      "1480/1480 [==============================] - 19s 13ms/step - loss: 3.8137 - accuracy: 0.2672\n",
      "Epoch 18/100\n",
      "1480/1480 [==============================] - 19s 13ms/step - loss: 3.7484 - accuracy: 0.2747\n",
      "Epoch 19/100\n",
      "1480/1480 [==============================] - 19s 13ms/step - loss: 3.6951 - accuracy: 0.2807\n",
      "Epoch 20/100\n",
      "1480/1480 [==============================] - 19s 13ms/step - loss: 3.6439 - accuracy: 0.2882\n",
      "Epoch 21/100\n",
      "1480/1480 [==============================] - 19s 13ms/step - loss: 3.5913 - accuracy: 0.2965\n",
      "Epoch 22/100\n",
      "1480/1480 [==============================] - 19s 13ms/step - loss: 3.5456 - accuracy: 0.3040\n",
      "Epoch 23/100\n",
      "1480/1480 [==============================] - 19s 13ms/step - loss: 3.5008 - accuracy: 0.3098\n",
      "Epoch 24/100\n",
      "1480/1480 [==============================] - 19s 13ms/step - loss: 3.4617 - accuracy: 0.3140\n",
      "Epoch 25/100\n",
      "1480/1480 [==============================] - 19s 13ms/step - loss: 3.4205 - accuracy: 0.3205\n",
      "Epoch 26/100\n",
      "1480/1480 [==============================] - 19s 13ms/step - loss: 3.3824 - accuracy: 0.3261\n",
      "Epoch 27/100\n",
      "1480/1480 [==============================] - 20s 13ms/step - loss: 3.3472 - accuracy: 0.3305\n",
      "Epoch 28/100\n",
      "1480/1480 [==============================] - 19s 13ms/step - loss: 3.3164 - accuracy: 0.3350\n",
      "Epoch 29/100\n",
      "1480/1480 [==============================] - 19s 13ms/step - loss: 3.2804 - accuracy: 0.3412\n",
      "Epoch 30/100\n",
      "1480/1480 [==============================] - 19s 13ms/step - loss: 3.2509 - accuracy: 0.3448\n",
      "Epoch 31/100\n",
      "1480/1480 [==============================] - 19s 13ms/step - loss: 3.2257 - accuracy: 0.3489\n",
      "Epoch 32/100\n",
      "1480/1480 [==============================] - 19s 13ms/step - loss: 3.1968 - accuracy: 0.3533\n",
      "Epoch 33/100\n",
      "1480/1480 [==============================] - 19s 13ms/step - loss: 3.1739 - accuracy: 0.3559\n",
      "Epoch 34/100\n",
      "1480/1480 [==============================] - 19s 13ms/step - loss: 3.1397 - accuracy: 0.3625\n",
      "Epoch 35/100\n",
      "1480/1480 [==============================] - 19s 13ms/step - loss: 3.1179 - accuracy: 0.3660\n",
      "Epoch 36/100\n",
      "1480/1480 [==============================] - 19s 13ms/step - loss: 3.0924 - accuracy: 0.3698\n",
      "Epoch 37/100\n",
      "1480/1480 [==============================] - 19s 13ms/step - loss: 3.0773 - accuracy: 0.3715\n",
      "Epoch 38/100\n",
      "1480/1480 [==============================] - 19s 13ms/step - loss: 3.0484 - accuracy: 0.3760\n",
      "Epoch 39/100\n",
      "1480/1480 [==============================] - 20s 13ms/step - loss: 3.0304 - accuracy: 0.3781\n",
      "Epoch 40/100\n",
      "1480/1480 [==============================] - 19s 13ms/step - loss: 3.0051 - accuracy: 0.3827\n",
      "Epoch 41/100\n",
      "1480/1480 [==============================] - 19s 13ms/step - loss: 2.9866 - accuracy: 0.3866\n",
      "Epoch 42/100\n",
      "1480/1480 [==============================] - 19s 13ms/step - loss: 2.9784 - accuracy: 0.3869\n",
      "Epoch 43/100\n",
      "1480/1480 [==============================] - 19s 13ms/step - loss: 2.9457 - accuracy: 0.3944\n",
      "Epoch 44/100\n",
      "1480/1480 [==============================] - 19s 13ms/step - loss: 2.9325 - accuracy: 0.3973\n",
      "Epoch 45/100\n",
      "1480/1480 [==============================] - 19s 13ms/step - loss: 2.9380 - accuracy: 0.3937\n",
      "Epoch 46/100\n",
      "1480/1480 [==============================] - 19s 13ms/step - loss: 2.9027 - accuracy: 0.4008\n",
      "Epoch 47/100\n",
      "1480/1480 [==============================] - 19s 13ms/step - loss: 2.8871 - accuracy: 0.4026\n",
      "Epoch 48/100\n",
      "1480/1480 [==============================] - 19s 13ms/step - loss: 2.8712 - accuracy: 0.4047\n",
      "Epoch 49/100\n",
      "1480/1480 [==============================] - 19s 13ms/step - loss: 2.8539 - accuracy: 0.4090\n",
      "Epoch 50/100\n",
      "1480/1480 [==============================] - 20s 13ms/step - loss: 2.8431 - accuracy: 0.4107\n",
      "Epoch 51/100\n",
      "1480/1480 [==============================] - 20s 13ms/step - loss: 2.8222 - accuracy: 0.4136\n",
      "Epoch 52/100\n",
      "1480/1480 [==============================] - 19s 13ms/step - loss: 2.8277 - accuracy: 0.4139\n",
      "Epoch 53/100\n",
      "1480/1480 [==============================] - 19s 13ms/step - loss: 2.8001 - accuracy: 0.4173\n",
      "Epoch 54/100\n",
      "1480/1480 [==============================] - 20s 13ms/step - loss: 2.7821 - accuracy: 0.4200\n",
      "Epoch 55/100\n",
      "1480/1480 [==============================] - 19s 13ms/step - loss: 2.7692 - accuracy: 0.4249\n",
      "Epoch 56/100\n",
      "1480/1480 [==============================] - 19s 13ms/step - loss: 2.7589 - accuracy: 0.4271\n",
      "Epoch 57/100\n",
      "1480/1480 [==============================] - 19s 13ms/step - loss: 2.7513 - accuracy: 0.4275\n",
      "Epoch 58/100\n",
      "1480/1480 [==============================] - 19s 13ms/step - loss: 2.7237 - accuracy: 0.4314\n",
      "Epoch 59/100\n",
      "1480/1480 [==============================] - 19s 13ms/step - loss: 2.7222 - accuracy: 0.4305\n",
      "Epoch 60/100\n",
      "1480/1480 [==============================] - 19s 13ms/step - loss: 2.7067 - accuracy: 0.4347\n",
      "Epoch 61/100\n",
      "1480/1480 [==============================] - 19s 13ms/step - loss: 2.6945 - accuracy: 0.4352\n",
      "Epoch 62/100\n",
      "1480/1480 [==============================] - 19s 13ms/step - loss: 2.6827 - accuracy: 0.4389\n",
      "Epoch 63/100\n",
      "1480/1480 [==============================] - 19s 13ms/step - loss: 2.6673 - accuracy: 0.4409\n",
      "Epoch 64/100\n",
      "1480/1480 [==============================] - 19s 13ms/step - loss: 2.6643 - accuracy: 0.4408\n",
      "Epoch 65/100\n",
      "1480/1480 [==============================] - 19s 13ms/step - loss: 2.6600 - accuracy: 0.4419\n",
      "Epoch 66/100\n",
      "1480/1480 [==============================] - 19s 13ms/step - loss: 2.6544 - accuracy: 0.4418\n",
      "Epoch 67/100\n",
      "1480/1480 [==============================] - 21s 14ms/step - loss: 2.6258 - accuracy: 0.4475\n",
      "Epoch 68/100\n",
      "1480/1480 [==============================] - 19s 13ms/step - loss: 2.6141 - accuracy: 0.4503\n",
      "Epoch 69/100\n",
      "1480/1480 [==============================] - 19s 13ms/step - loss: 2.6176 - accuracy: 0.4505\n",
      "Epoch 70/100\n",
      "1480/1480 [==============================] - 19s 13ms/step - loss: 2.6099 - accuracy: 0.4493\n",
      "Epoch 71/100\n",
      "1480/1480 [==============================] - 19s 13ms/step - loss: 2.5944 - accuracy: 0.4523\n",
      "Epoch 72/100\n",
      "1480/1480 [==============================] - 19s 13ms/step - loss: 2.5839 - accuracy: 0.4548\n",
      "Epoch 73/100\n",
      "1480/1480 [==============================] - 19s 13ms/step - loss: 2.5805 - accuracy: 0.4547\n",
      "Epoch 74/100\n",
      "1480/1480 [==============================] - 19s 13ms/step - loss: 2.5753 - accuracy: 0.4556\n",
      "Epoch 75/100\n",
      "1480/1480 [==============================] - 19s 13ms/step - loss: 2.5738 - accuracy: 0.4563\n",
      "Epoch 76/100\n",
      "1480/1480 [==============================] - 19s 13ms/step - loss: 2.5457 - accuracy: 0.4617\n",
      "Epoch 77/100\n",
      "1480/1480 [==============================] - 19s 13ms/step - loss: 2.5386 - accuracy: 0.4629\n",
      "Epoch 78/100\n"
     ]
    },
    {
     "name": "stdout",
     "output_type": "stream",
     "text": [
      "1480/1480 [==============================] - 18s 12ms/step - loss: 2.5216 - accuracy: 0.4662\n",
      "Epoch 79/100\n",
      "1480/1480 [==============================] - 18s 12ms/step - loss: 2.5209 - accuracy: 0.4649\n",
      "Epoch 80/100\n",
      "1480/1480 [==============================] - 18s 12ms/step - loss: 2.5137 - accuracy: 0.4675\n",
      "Epoch 81/100\n",
      "1480/1480 [==============================] - 18s 12ms/step - loss: 2.5102 - accuracy: 0.4673\n",
      "Epoch 82/100\n",
      "1480/1480 [==============================] - 18s 12ms/step - loss: 2.5056 - accuracy: 0.4673\n",
      "Epoch 83/100\n",
      "1480/1480 [==============================] - 18s 12ms/step - loss: 2.4880 - accuracy: 0.4722\n",
      "Epoch 84/100\n",
      "1480/1480 [==============================] - 18s 12ms/step - loss: 2.4814 - accuracy: 0.4718\n",
      "Epoch 85/100\n",
      "1480/1480 [==============================] - 18s 12ms/step - loss: 2.4997 - accuracy: 0.4691\n",
      "Epoch 86/100\n",
      "1480/1480 [==============================] - 17s 12ms/step - loss: 2.4798 - accuracy: 0.4740\n",
      "Epoch 87/100\n",
      "1480/1480 [==============================] - 17s 11ms/step - loss: 2.4617 - accuracy: 0.4768\n",
      "Epoch 88/100\n",
      "1480/1480 [==============================] - 17s 11ms/step - loss: 2.4536 - accuracy: 0.4773\n",
      "Epoch 89/100\n",
      "1480/1480 [==============================] - 17s 11ms/step - loss: 2.4410 - accuracy: 0.4807\n",
      "Epoch 90/100\n",
      "1480/1480 [==============================] - 17s 12ms/step - loss: 2.4374 - accuracy: 0.4804\n",
      "Epoch 91/100\n",
      "1480/1480 [==============================] - 17s 11ms/step - loss: 2.4324 - accuracy: 0.4818\n",
      "Epoch 92/100\n",
      "1480/1480 [==============================] - 17s 11ms/step - loss: 2.4345 - accuracy: 0.4803\n",
      "Epoch 93/100\n",
      "1480/1480 [==============================] - 17s 11ms/step - loss: 2.4081 - accuracy: 0.4842\n",
      "Epoch 94/100\n",
      "1480/1480 [==============================] - 17s 11ms/step - loss: 2.4139 - accuracy: 0.4844\n",
      "Epoch 95/100\n",
      "1480/1480 [==============================] - 17s 11ms/step - loss: 2.3960 - accuracy: 0.4887\n",
      "Epoch 96/100\n",
      "1480/1480 [==============================] - 17s 11ms/step - loss: 2.3909 - accuracy: 0.4890\n",
      "Epoch 97/100\n",
      "1480/1480 [==============================] - 17s 11ms/step - loss: 2.3986 - accuracy: 0.4869\n",
      "Epoch 98/100\n",
      "1480/1480 [==============================] - 17s 11ms/step - loss: 2.3809 - accuracy: 0.4896\n",
      "Epoch 99/100\n",
      "1480/1480 [==============================] - 17s 11ms/step - loss: 2.3822 - accuracy: 0.4900\n",
      "Epoch 100/100\n",
      "1480/1480 [==============================] - 17s 11ms/step - loss: 2.3636 - accuracy: 0.4952\n"
     ]
    }
   ],
   "source": [
    "#Fitting the model\n",
    "history = model.fit(input_seq, encoded_labels, epochs=100, verbose=1)"
   ]
  },
  {
   "cell_type": "code",
   "execution_count": 9,
   "id": "2dee4e86",
   "metadata": {},
   "outputs": [
    {
     "data": {
      "image/png": "[encoded data removed]",
      "text/plain": [
       "<Figure size 432x288 with 1 Axes>"
      ]
     },
     "metadata": {
      "needs_background": "light"
     },
     "output_type": "display_data"
    }
   ],
   "source": [
    "import matplotlib.pyplot as plt\n",
    "\n",
    "def plot_graphs(history, string):\n",
    "  plt.plot(history.history[string])\n",
    "  plt.xlabel(\"Epochs\")\n",
    "  plt.ylabel(string)\n",
    "  plt.show()\n",
    "\n",
    "plot_graphs(history, 'accuracy')"
   ]
  },
  {
   "cell_type": "code",
   "execution_count": 12,
   "id": "83edf80d",
   "metadata": {},
   "outputs": [
    {
     "name": "stdout",
     "output_type": "stream",
     "text": [
      "im feeling chills on the middle of the line that life before you feel toys toys toys toys in the middle in the middle through the money men if spend place in this nights voulezvous of us last ease me this peaceful place of this nights men can move yeah yeah yeah yeah yeah yeah jack jeanie jeanie jeanie jeanie with someone so bad goin weak in the time baby you yet fly up and girl be a chance to the lot of a road star in the world where you ya ya ya ya flown wants this days well needs christmas out\n"
     ]
    }
   ],
   "source": [
    "seed_text = \"im feeling chills\"\n",
    "next_words = 100\n",
    "  \n",
    "for _ in range(next_words):\n",
    "    token_list = tokenizer.texts_to_sequences([seed_text])[0]\n",
    "    token_list = tf.keras.preprocessing.sequence.pad_sequences([token_list], maxlen=len_seq-1, padding='pre')\n",
    "    predicted = np.argmax(model.predict(token_list), axis=-1)\n",
    "    output_word = \"\"\n",
    "    for word, index in tokenizer.word_index.items():\n",
    "        if index == predicted:\n",
    "            output_word = word\n",
    "            break\n",
    "    seed_text += \" \" + output_word\n",
    "print(seed_text)"
   ]
  },
  {
   "cell_type": "markdown",
   "id": "bcb7e3ff",
   "metadata": {},
   "source": [
    "# Varying the Possible Outputs\n",
    "In running the above, you may notice that the same seed text will generate similar outputs. This is because the code is currently always choosing the top predicted class as the next word. What if you wanted more variance in the output?\n",
    "\n",
    "Switching from model.predict_classes to model.predict_proba will get us all of the class probabilities. We can combine this with np.random.choice to select a given predicted output based on a probability, thereby giving a bit more randomness to our outputs.\n",
    "\n"
   ]
  },
  {
   "cell_type": "code",
   "execution_count": 13,
   "id": "627ccc3a",
   "metadata": {},
   "outputs": [
    {
     "name": "stdout",
     "output_type": "stream",
     "text": [
      "17\n"
     ]
    }
   ],
   "source": [
    "# Test the method with just the first word after the seed text\n",
    "seed_text = \"im feeling chills\"\n",
    "next_words = 100\n",
    "  \n",
    "token_list = tokenizer.texts_to_sequences([seed_text])[0]\n",
    "token_list = tf.keras.preprocessing.sequence.pad_sequences([token_list], maxlen=len_seq-1, padding='pre')\n",
    "predicted_probs = model.predict(token_list)[0]\n",
    "predicted = np.random.choice([x for x in range(len(predicted_probs))], \n",
    "                             p=predicted_probs)\n",
    "# Running this cell multiple times should get you some variance in output\n",
    "print(predicted)"
   ]
  },
  {
   "cell_type": "code",
   "execution_count": 17,
   "id": "9ff691e1",
   "metadata": {},
   "outputs": [
    {
     "name": "stdout",
     "output_type": "stream",
     "text": [
      "Chutiya Kaliyaan We live in a dancing sea chill first town old fashioned paper true still shadows from cold fine unreal promises yeah forever sharing angels now talked laughter a little beginning singing whoever she get em sharing myself myself train wrong rikky told him easy more things shes goin round loud for insane in us apart between your heart from side side machine comin done by the trick to me weve done that whats the heat stays his new laughed will die twice the sunrise side of living side of love among too jump theyre happens she tasted did you surrender get\n"
     ]
    }
   ],
   "source": [
    "# Use this process for the full output generation\n",
    "seed_text = \"Chutiya Kaliyaan We\"\n",
    "next_words = 100\n",
    "  \n",
    "for _ in range(next_words):\n",
    "    token_list = tokenizer.texts_to_sequences([seed_text])[0]\n",
    "    token_list = tf.keras.preprocessing.sequence.pad_sequences([token_list], maxlen=len_seq-1, padding='pre')\n",
    "    predicted_probs = model.predict(token_list)[0]\n",
    "    predicted = np.random.choice([x for x in range(len(predicted_probs))],\n",
    "                               p=predicted_probs)\n",
    "    output_word = \"\"\n",
    "    for word, index in tokenizer.word_index.items():\n",
    "        if index == predicted:\n",
    "            output_word = word\n",
    "            break\n",
    "    seed_text += \" \" + output_word\n",
    "print(seed_text)"
   ]
  },
  {
   "cell_type": "code",
   "execution_count": null,
   "id": "0cec8319",
   "metadata": {},
   "outputs": [],
   "source": []
  }
 ],
 "metadata": {
  "kernelspec": {
   "display_name": "Python 3",
   "language": "python",
   "name": "python3"
  },
  "language_info": {
   "codemirror_mode": {
    "name": "ipython",
    "version": 3
   },
   "file_extension": ".py",
   "mimetype": "text/x-python",
   "name": "python",
   "nbconvert_exporter": "python",
   "pygments_lexer": "ipython3",
   "version": "3.8.8"
  }
 },
 "nbformat": 4,
 "nbformat_minor": 5
}
