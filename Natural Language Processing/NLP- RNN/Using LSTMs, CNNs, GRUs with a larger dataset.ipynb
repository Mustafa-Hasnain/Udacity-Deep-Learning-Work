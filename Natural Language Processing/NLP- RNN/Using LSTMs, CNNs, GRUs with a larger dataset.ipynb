{
 "cells": [
  {
   "cell_type": "code",
   "execution_count": 1,
   "id": "ae6818d8",
   "metadata": {},
   "outputs": [],
   "source": [
    "import tensorflow as tf\n",
    "import numpy as np\n",
    "import pandas as pd\n",
    "import matplotlib.pyplot as plt\n",
    "import tensorflow_datasets as tfds"
   ]
  },
  {
   "cell_type": "code",
   "execution_count": 2,
   "id": "bd3998d8",
   "metadata": {},
   "outputs": [],
   "source": [
    "#Loading the dataset\n",
    "dataset, info = tfds.load('glue/sst2', with_info = True)"
   ]
  },
  {
   "cell_type": "code",
   "execution_count": 3,
   "id": "f56c8486",
   "metadata": {},
   "outputs": [
    {
     "name": "stdout",
     "output_type": "stream",
     "text": [
      "dict_keys(['train', 'validation', 'test'])\n",
      "dict_items([('train', <PrefetchDataset shapes: {idx: (), label: (), sentence: ()}, types: {idx: tf.int32, label: tf.int64, sentence: tf.string}>), ('validation', <PrefetchDataset shapes: {idx: (), label: (), sentence: ()}, types: {idx: tf.int32, label: tf.int64, sentence: tf.string}>), ('test', <PrefetchDataset shapes: {idx: (), label: (), sentence: ()}, types: {idx: tf.int32, label: tf.int64, sentence: tf.string}>)])\n",
      "dict_values([<PrefetchDataset shapes: {idx: (), label: (), sentence: ()}, types: {idx: tf.int32, label: tf.int64, sentence: tf.string}>, <PrefetchDataset shapes: {idx: (), label: (), sentence: ()}, types: {idx: tf.int32, label: tf.int64, sentence: tf.string}>, <PrefetchDataset shapes: {idx: (), label: (), sentence: ()}, types: {idx: tf.int32, label: tf.int64, sentence: tf.string}>])\n"
     ]
    }
   ],
   "source": [
    "#Getting the Data\n",
    "print(dataset.keys())\n",
    "print(dataset.items())\n",
    "print(dataset.values())"
   ]
  },
  {
   "cell_type": "code",
   "execution_count": 4,
   "id": "28c0e891",
   "metadata": {},
   "outputs": [
    {
     "name": "stdout",
     "output_type": "stream",
     "text": [
      "GLUE, the General Language Understanding Evaluation benchmark\n",
      "(https://gluebenchmark.com/) is a collection of resources for training,\n",
      "evaluating, and analyzing natural language understanding systems.\n",
      "FeaturesDict({\n",
      "    'idx': tf.int32,\n",
      "    'label': ClassLabel(shape=(), dtype=tf.int64, num_classes=2),\n",
      "    'sentence': Text(shape=(), dtype=tf.string),\n",
      "})\n",
      "dict_items([('sentence', Text(shape=(), dtype=tf.string)), ('label', ClassLabel(shape=(), dtype=tf.int64, num_classes=2)), ('idx', Tensor(shape=(), dtype=tf.int32))])\n",
      "2\n",
      "['negative', 'positive']\n"
     ]
    }
   ],
   "source": [
    "#Getting the info\n",
    "print(info.description)\n",
    "print(info.features)\n",
    "print(info.features.items())\n",
    "data = info.features\n",
    "print(info.features['label'].num_classes)\n",
    "print(data['label'].names)"
   ]
  },
  {
   "cell_type": "code",
   "execution_count": 5,
   "id": "bdc51930",
   "metadata": {},
   "outputs": [
    {
     "name": "stdout",
     "output_type": "stream",
     "text": [
      "<PrefetchDataset shapes: {idx: (), label: (), sentence: ()}, types: {idx: tf.int32, label: tf.int64, sentence: tf.string}>\n"
     ]
    }
   ],
   "source": [
    "#Getting the training and testing dataset\n",
    "train_data, valid_data = dataset['train'], dataset['validation']\n",
    "print(train_data)"
   ]
  },
  {
   "cell_type": "code",
   "execution_count": 6,
   "id": "ef694546",
   "metadata": {},
   "outputs": [
    {
     "name": "stdout",
     "output_type": "stream",
     "text": [
      "Sentences:  b'for the uninitiated plays better on video with the sound '\n",
      "Label:  0\n",
      "\n",
      "\n",
      "Sentences:  b'like a giant commercial for universal studios , where much of the action takes place '\n",
      "Label:  0\n",
      "\n",
      "\n",
      "Sentences:  b'company once again dazzle and delight us '\n",
      "Label:  1\n",
      "\n",
      "\n",
      "Sentences:  b\"'s no surprise that as a director washington demands and receives excellent performances , from himself and from newcomer derek luke \"\n",
      "Label:  1\n",
      "\n",
      "\n",
      "Sentences:  b', this cross-cultural soap opera is painfully formulaic and stilted . '\n",
      "Label:  0\n",
      "\n",
      "\n",
      "Sentences:  b\", the film is n't nearly as downbeat as it sounds , but strikes a tone that 's alternately melancholic , hopeful and strangely funny . \"\n",
      "Label:  1\n",
      "\n",
      "\n",
      "Sentences:  b'only masochistic moviegoers need apply . '\n",
      "Label:  0\n",
      "\n",
      "\n",
      "Sentences:  b'convince almost everyone that it was put on the screen , just for them '\n",
      "Label:  1\n",
      "\n",
      "\n",
      "Sentences:  b\"like the english patient and the unbearable lightness of being , the hours is one of those reputedly `` unfilmable '' novels that has bucked the odds to emerge as an exquisite motion picture in its own right . \"\n",
      "Label:  1\n",
      "\n",
      "\n",
      "Sentences:  b'his supple understanding of the role '\n",
      "Label:  1\n",
      "\n",
      "\n"
     ]
    }
   ],
   "source": [
    "#Print some examples from the entries\n",
    "for i in train_data.take(10):\n",
    "    sentence, label = i['sentence'], i['label']\n",
    "    print(\"Sentences: \",str(sentence.numpy()))\n",
    "    print(\"Label: \",label.numpy())\n",
    "    print(\"\\n\")"
   ]
  },
  {
   "cell_type": "code",
   "execution_count": 7,
   "id": "d83a4a45",
   "metadata": {},
   "outputs": [
    {
     "name": "stdout",
     "output_type": "stream",
     "text": [
      "No of Sentences:  10000\n",
      "No of Examples:  [\"b'for the uninitiated plays better on video with the sound '\", \"b'like a giant commercial for universal studios , where much of the action takes place '\"]\n",
      "The Total no of Validation Data:  872\n",
      "[\"b'a valueless kiddie paean to pro basketball underwritten by the nba . '\", 'b\"featuring a dangerously seductive performance from the great daniel auteuil , `` sade \\'\\' covers the same period as kaufmann \\'s `` quills \\'\\' with more unsettlingly realistic results . \"']\n"
     ]
    }
   ],
   "source": [
    "#Getting the Training and Validation Data from the dataset\n",
    "training_sentences = []\n",
    "training_labels = []\n",
    "\n",
    "validation_sentences = []\n",
    "validation_labels = []\n",
    "\n",
    "for item in train_data.take(10000):\n",
    "    review, label = item[\"sentence\"], item[\"label\"]\n",
    "    training_sentences.append(str(review.numpy()))\n",
    "    training_labels.append(label.numpy())\n",
    "\n",
    "#Printing the number of training_sentences dataset\n",
    "print(\"No of Sentences: \", len(training_sentences))\n",
    "\n",
    "#Printing Some Examples\n",
    "print(\"No of Examples: \",training_sentences[0:2])\n",
    "\n",
    "# Get the validation data\n",
    "# there's only about 800 items, so take them all\n",
    "for sentence in valid_data.take(-1):  #Here Valid_data.take(-1) , \"-1\" is used to take all items\n",
    "    v_sentences, v_labels = sentence['sentence'], sentence['label']\n",
    "    validation_sentences.append(str(v_sentences.numpy()))\n",
    "    validation_labels.append(v_labels.numpy())\n",
    "    \n",
    "print(\"The Total no of Validation Data: \",len(validation_sentences))\n",
    "\n",
    "#Printing Some Validation Sentences\n",
    "print(validation_sentences[0:2])"
   ]
  },
  {
   "cell_type": "markdown",
   "id": "a897a281",
   "metadata": {},
   "source": [
    "# Pad The Sequences"
   ]
  },
  {
   "cell_type": "code",
   "execution_count": 8,
   "id": "5ce59776",
   "metadata": {},
   "outputs": [],
   "source": [
    "vocab_size = 4000\n",
    "embedding_dim = 16\n",
    "max_length = 50\n",
    "trunc_type='post'\n",
    "pad_type='post'\n",
    "oov_tok = \"<OOV>\"\n",
    "\n",
    "from tensorflow.keras.preprocessing.text import Tokenizer\n",
    "from tensorflow.keras.preprocessing.sequence import pad_sequences\n",
    "\n",
    "tokenizer = Tokenizer(num_words = vocab_size, oov_token=oov_tok)\n",
    "tokenizer.fit_on_texts(training_sentences)\n",
    "word_index = tokenizer.word_index\n",
    "#Padding the sequence\n",
    "training_sequence = tokenizer.texts_to_sequences(training_sentences)\n",
    "padded_training = tf.keras.preprocessing.sequence.pad_sequences(training_sequence, maxlen=max_length,padding=pad_type,truncating=trunc_type)\n",
    "\n",
    "valid_sequence = tokenizer.texts_to_sequences(validation_sentences)\n",
    "padded_valid = tf.keras.preprocessing.sequence.pad_sequences(valid_sequence, maxlen=max_length, padding=pad_type, truncating=trunc_type)\n",
    "\n",
    "#Converting labels into arrays\n",
    "train_label_array = np.array(training_labels)\n",
    "valid_label_array = np.array(validation_labels)"
   ]
  },
  {
   "cell_type": "markdown",
   "id": "02b1544c",
   "metadata": {},
   "source": [
    "# Create the model using an Embedding"
   ]
  },
  {
   "cell_type": "code",
   "execution_count": 9,
   "id": "27997420",
   "metadata": {},
   "outputs": [],
   "source": [
    "model = tf.keras.Sequential()\n",
    "model.add(tf.keras.layers.Embedding(vocab_size, embedding_dim, input_length = max_length))\n",
    "model.add(tf.keras.layers.GlobalAvgPool1D())\n",
    "model.add(tf.keras.layers.Dense(units = 1, activation = 'sigmoid'))\n",
    "model.compile(optimizer='adam', loss=tf.keras.losses.BinaryCrossentropy(from_logits = True), metrics=['mae', 'accuracy'])"
   ]
  },
  {
   "cell_type": "code",
   "execution_count": 10,
   "id": "de01dcb9",
   "metadata": {},
   "outputs": [
    {
     "name": "stdout",
     "output_type": "stream",
     "text": [
      "Epoch 1/100\n"
     ]
    },
    {
     "name": "stderr",
     "output_type": "stream",
     "text": [
      "C:\\Users\\Mustafa Hasnain\\anaconda3\\lib\\site-packages\\keras\\backend.py:4993: UserWarning: \"`binary_crossentropy` received `from_logits=True`, but the `output` argument was produced by a sigmoid or softmax activation and thus does not represent logits. Was this intended?\"\n",
      "  warnings.warn(\n"
     ]
    },
    {
     "name": "stdout",
     "output_type": "stream",
     "text": [
      "313/313 [==============================] - 1s 3ms/step - loss: 0.6848 - mae: 0.4932 - accuracy: 0.5506 - val_loss: 0.6894 - val_mae: 0.4961 - val_accuracy: 0.5115\n",
      "Epoch 2/100\n",
      "313/313 [==============================] - 1s 2ms/step - loss: 0.6742 - mae: 0.4860 - accuracy: 0.5669 - val_loss: 0.6739 - val_mae: 0.4889 - val_accuracy: 0.6021\n",
      "Epoch 3/100\n",
      "313/313 [==============================] - 1s 2ms/step - loss: 0.6553 - mae: 0.4759 - accuracy: 0.6151 - val_loss: 0.6500 - val_mae: 0.4733 - val_accuracy: 0.6365\n",
      "Epoch 4/100\n",
      "313/313 [==============================] - 1s 3ms/step - loss: 0.6267 - mae: 0.4587 - accuracy: 0.6656 - val_loss: 0.6177 - val_mae: 0.4516 - val_accuracy: 0.6904\n",
      "Epoch 5/100\n",
      "313/313 [==============================] - 1s 3ms/step - loss: 0.5930 - mae: 0.4380 - accuracy: 0.7113 - val_loss: 0.5858 - val_mae: 0.4272 - val_accuracy: 0.7167\n",
      "Epoch 6/100\n",
      "313/313 [==============================] - 1s 2ms/step - loss: 0.5592 - mae: 0.4154 - accuracy: 0.7366 - val_loss: 0.5570 - val_mae: 0.4037 - val_accuracy: 0.7294\n",
      "Epoch 7/100\n",
      "313/313 [==============================] - 1s 2ms/step - loss: 0.5272 - mae: 0.3935 - accuracy: 0.7678 - val_loss: 0.5357 - val_mae: 0.3831 - val_accuracy: 0.7500\n",
      "Epoch 8/100\n",
      "313/313 [==============================] - 1s 2ms/step - loss: 0.4980 - mae: 0.3730 - accuracy: 0.7901 - val_loss: 0.5188 - val_mae: 0.3652 - val_accuracy: 0.7477\n",
      "Epoch 9/100\n",
      "313/313 [==============================] - 1s 2ms/step - loss: 0.4717 - mae: 0.3538 - accuracy: 0.8056 - val_loss: 0.5040 - val_mae: 0.3498 - val_accuracy: 0.7615\n",
      "Epoch 10/100\n",
      "313/313 [==============================] - 1s 2ms/step - loss: 0.4483 - mae: 0.3366 - accuracy: 0.8188 - val_loss: 0.4961 - val_mae: 0.3374 - val_accuracy: 0.7592\n",
      "Epoch 11/100\n",
      "313/313 [==============================] - 1s 2ms/step - loss: 0.4273 - mae: 0.3204 - accuracy: 0.8256 - val_loss: 0.4889 - val_mae: 0.3260 - val_accuracy: 0.7580\n",
      "Epoch 12/100\n",
      "313/313 [==============================] - 1s 2ms/step - loss: 0.4086 - mae: 0.3062 - accuracy: 0.8354 - val_loss: 0.4845 - val_mae: 0.3162 - val_accuracy: 0.7592\n",
      "Epoch 13/100\n",
      "313/313 [==============================] - 1s 2ms/step - loss: 0.3919 - mae: 0.2932 - accuracy: 0.8394 - val_loss: 0.4867 - val_mae: 0.3100 - val_accuracy: 0.7557\n",
      "Epoch 14/100\n",
      "313/313 [==============================] - 1s 2ms/step - loss: 0.3767 - mae: 0.2814 - accuracy: 0.8458 - val_loss: 0.4845 - val_mae: 0.3019 - val_accuracy: 0.7683\n",
      "Epoch 15/100\n",
      "313/313 [==============================] - 1s 2ms/step - loss: 0.3632 - mae: 0.2708 - accuracy: 0.8525 - val_loss: 0.4875 - val_mae: 0.2954 - val_accuracy: 0.7741\n",
      "Epoch 16/100\n",
      "313/313 [==============================] - 1s 2ms/step - loss: 0.3504 - mae: 0.2606 - accuracy: 0.8567 - val_loss: 0.4985 - val_mae: 0.2945 - val_accuracy: 0.7534\n",
      "Epoch 17/100\n",
      "313/313 [==============================] - 1s 2ms/step - loss: 0.3389 - mae: 0.2515 - accuracy: 0.8622 - val_loss: 0.4968 - val_mae: 0.2872 - val_accuracy: 0.7706\n",
      "Epoch 18/100\n",
      "313/313 [==============================] - 1s 2ms/step - loss: 0.3293 - mae: 0.2433 - accuracy: 0.8620 - val_loss: 0.5028 - val_mae: 0.2834 - val_accuracy: 0.7718\n",
      "Epoch 19/100\n",
      "313/313 [==============================] - 1s 2ms/step - loss: 0.3190 - mae: 0.2356 - accuracy: 0.8669 - val_loss: 0.5133 - val_mae: 0.2821 - val_accuracy: 0.7626\n",
      "Epoch 20/100\n",
      "313/313 [==============================] - 1s 2ms/step - loss: 0.3104 - mae: 0.2284 - accuracy: 0.8697 - val_loss: 0.5173 - val_mae: 0.2769 - val_accuracy: 0.7741\n",
      "Epoch 21/100\n",
      "313/313 [==============================] - 1s 2ms/step - loss: 0.3015 - mae: 0.2214 - accuracy: 0.8749 - val_loss: 0.5287 - val_mae: 0.2763 - val_accuracy: 0.7603\n",
      "Epoch 22/100\n",
      "313/313 [==============================] - 1s 2ms/step - loss: 0.2941 - mae: 0.2155 - accuracy: 0.8749 - val_loss: 0.5363 - val_mae: 0.2733 - val_accuracy: 0.7615\n",
      "Epoch 23/100\n",
      "313/313 [==============================] - 1s 2ms/step - loss: 0.2864 - mae: 0.2095 - accuracy: 0.8751 - val_loss: 0.5453 - val_mae: 0.2705 - val_accuracy: 0.7706\n",
      "Epoch 24/100\n",
      "313/313 [==============================] - 1s 2ms/step - loss: 0.2799 - mae: 0.2041 - accuracy: 0.8794 - val_loss: 0.5548 - val_mae: 0.2685 - val_accuracy: 0.7729\n",
      "Epoch 25/100\n",
      "313/313 [==============================] - 1s 2ms/step - loss: 0.2739 - mae: 0.1991 - accuracy: 0.8818 - val_loss: 0.5669 - val_mae: 0.2678 - val_accuracy: 0.7683\n",
      "Epoch 26/100\n",
      "313/313 [==============================] - 1s 2ms/step - loss: 0.2682 - mae: 0.1947 - accuracy: 0.8847 - val_loss: 0.5822 - val_mae: 0.2683 - val_accuracy: 0.7592\n",
      "Epoch 27/100\n",
      "313/313 [==============================] - 1s 3ms/step - loss: 0.2619 - mae: 0.1898 - accuracy: 0.8858 - val_loss: 0.5915 - val_mae: 0.2656 - val_accuracy: 0.7638\n",
      "Epoch 28/100\n",
      "313/313 [==============================] - 1s 2ms/step - loss: 0.2572 - mae: 0.1859 - accuracy: 0.8865 - val_loss: 0.6033 - val_mae: 0.2642 - val_accuracy: 0.7695\n",
      "Epoch 29/100\n",
      "313/313 [==============================] - 1s 2ms/step - loss: 0.2519 - mae: 0.1819 - accuracy: 0.8883 - val_loss: 0.6170 - val_mae: 0.2636 - val_accuracy: 0.7695\n",
      "Epoch 30/100\n",
      "313/313 [==============================] - 1s 2ms/step - loss: 0.2471 - mae: 0.1781 - accuracy: 0.8907 - val_loss: 0.6331 - val_mae: 0.2645 - val_accuracy: 0.7557\n",
      "Epoch 31/100\n",
      "313/313 [==============================] - 1s 2ms/step - loss: 0.2426 - mae: 0.1746 - accuracy: 0.8918 - val_loss: 0.6471 - val_mae: 0.2639 - val_accuracy: 0.7557\n",
      "Epoch 32/100\n",
      "313/313 [==============================] - 1s 2ms/step - loss: 0.2384 - mae: 0.1712 - accuracy: 0.8919 - val_loss: 0.6608 - val_mae: 0.2631 - val_accuracy: 0.7580\n",
      "Epoch 33/100\n",
      "313/313 [==============================] - 1s 2ms/step - loss: 0.2351 - mae: 0.1682 - accuracy: 0.8923 - val_loss: 0.6786 - val_mae: 0.2640 - val_accuracy: 0.7489\n",
      "Epoch 34/100\n",
      "313/313 [==============================] - 1s 2ms/step - loss: 0.2311 - mae: 0.1655 - accuracy: 0.8953 - val_loss: 0.6884 - val_mae: 0.2618 - val_accuracy: 0.7557\n",
      "Epoch 35/100\n",
      "313/313 [==============================] - 1s 2ms/step - loss: 0.2271 - mae: 0.1624 - accuracy: 0.8968 - val_loss: 0.7034 - val_mae: 0.2616 - val_accuracy: 0.7546\n",
      "Epoch 36/100\n",
      "313/313 [==============================] - 1s 2ms/step - loss: 0.2238 - mae: 0.1597 - accuracy: 0.8966 - val_loss: 0.7155 - val_mae: 0.2593 - val_accuracy: 0.7615\n",
      "Epoch 37/100\n",
      "313/313 [==============================] - 1s 2ms/step - loss: 0.2204 - mae: 0.1571 - accuracy: 0.8983 - val_loss: 0.7354 - val_mae: 0.2616 - val_accuracy: 0.7489\n",
      "Epoch 38/100\n",
      "313/313 [==============================] - 1s 2ms/step - loss: 0.2176 - mae: 0.1547 - accuracy: 0.9006 - val_loss: 0.7464 - val_mae: 0.2595 - val_accuracy: 0.7557\n",
      "Epoch 39/100\n",
      "313/313 [==============================] - 1s 2ms/step - loss: 0.2146 - mae: 0.1525 - accuracy: 0.9009 - val_loss: 0.7639 - val_mae: 0.2602 - val_accuracy: 0.7580\n",
      "Epoch 40/100\n",
      "313/313 [==============================] - 1s 2ms/step - loss: 0.2111 - mae: 0.1501 - accuracy: 0.9029 - val_loss: 0.7790 - val_mae: 0.2593 - val_accuracy: 0.7592\n",
      "Epoch 41/100\n",
      "313/313 [==============================] - 1s 2ms/step - loss: 0.2094 - mae: 0.1485 - accuracy: 0.9024 - val_loss: 0.8021 - val_mae: 0.2619 - val_accuracy: 0.7511\n",
      "Epoch 42/100\n",
      "313/313 [==============================] - 1s 2ms/step - loss: 0.2067 - mae: 0.1466 - accuracy: 0.9018 - val_loss: 0.8140 - val_mae: 0.2608 - val_accuracy: 0.7557\n",
      "Epoch 43/100\n",
      "313/313 [==============================] - 1s 2ms/step - loss: 0.2044 - mae: 0.1445 - accuracy: 0.9033 - val_loss: 0.8350 - val_mae: 0.2626 - val_accuracy: 0.7477\n",
      "Epoch 44/100\n",
      "313/313 [==============================] - 1s 2ms/step - loss: 0.2016 - mae: 0.1425 - accuracy: 0.9034 - val_loss: 0.8456 - val_mae: 0.2602 - val_accuracy: 0.7534\n",
      "Epoch 45/100\n",
      "313/313 [==============================] - 1s 2ms/step - loss: 0.1997 - mae: 0.1408 - accuracy: 0.9063 - val_loss: 0.8628 - val_mae: 0.2606 - val_accuracy: 0.7511\n",
      "Epoch 46/100\n",
      "313/313 [==============================] - 1s 2ms/step - loss: 0.1964 - mae: 0.1387 - accuracy: 0.9097 - val_loss: 0.8825 - val_mae: 0.2617 - val_accuracy: 0.7477\n",
      "Epoch 47/100\n",
      "313/313 [==============================] - 1s 2ms/step - loss: 0.1952 - mae: 0.1377 - accuracy: 0.9094 - val_loss: 0.8972 - val_mae: 0.2608 - val_accuracy: 0.7489\n"
     ]
    },
    {
     "name": "stdout",
     "output_type": "stream",
     "text": [
      "Epoch 48/100\n",
      "313/313 [==============================] - 1s 2ms/step - loss: 0.1928 - mae: 0.1358 - accuracy: 0.9106 - val_loss: 0.9117 - val_mae: 0.2604 - val_accuracy: 0.7500\n",
      "Epoch 49/100\n",
      "313/313 [==============================] - 1s 2ms/step - loss: 0.1919 - mae: 0.1346 - accuracy: 0.9121 - val_loss: 0.9282 - val_mae: 0.2604 - val_accuracy: 0.7511\n",
      "Epoch 50/100\n",
      "313/313 [==============================] - 1s 2ms/step - loss: 0.1898 - mae: 0.1333 - accuracy: 0.9089 - val_loss: 0.9465 - val_mae: 0.2615 - val_accuracy: 0.7466\n",
      "Epoch 51/100\n",
      "313/313 [==============================] - 1s 2ms/step - loss: 0.1875 - mae: 0.1317 - accuracy: 0.9103 - val_loss: 0.9665 - val_mae: 0.2619 - val_accuracy: 0.7477\n",
      "Epoch 52/100\n",
      "313/313 [==============================] - 1s 2ms/step - loss: 0.1865 - mae: 0.1306 - accuracy: 0.9097 - val_loss: 0.9767 - val_mae: 0.2604 - val_accuracy: 0.7454\n",
      "Epoch 53/100\n",
      "313/313 [==============================] - 1s 2ms/step - loss: 0.1843 - mae: 0.1293 - accuracy: 0.9139 - val_loss: 1.0235 - val_mae: 0.2669 - val_accuracy: 0.7408\n",
      "Epoch 54/100\n",
      "313/313 [==============================] - 1s 2ms/step - loss: 0.1831 - mae: 0.1280 - accuracy: 0.9111 - val_loss: 1.0261 - val_mae: 0.2637 - val_accuracy: 0.7431\n",
      "Epoch 55/100\n",
      "313/313 [==============================] - 1s 2ms/step - loss: 0.1805 - mae: 0.1266 - accuracy: 0.9135 - val_loss: 1.0386 - val_mae: 0.2633 - val_accuracy: 0.7454\n",
      "Epoch 56/100\n",
      "313/313 [==============================] - 1s 2ms/step - loss: 0.1794 - mae: 0.1258 - accuracy: 0.9145 - val_loss: 1.0555 - val_mae: 0.2634 - val_accuracy: 0.7397\n",
      "Epoch 57/100\n",
      "313/313 [==============================] - 1s 2ms/step - loss: 0.1778 - mae: 0.1246 - accuracy: 0.9136 - val_loss: 1.0673 - val_mae: 0.2625 - val_accuracy: 0.7466\n",
      "Epoch 58/100\n",
      "313/313 [==============================] - 1s 2ms/step - loss: 0.1771 - mae: 0.1238 - accuracy: 0.9143 - val_loss: 1.0917 - val_mae: 0.2638 - val_accuracy: 0.7420\n",
      "Epoch 59/100\n",
      "313/313 [==============================] - 1s 2ms/step - loss: 0.1752 - mae: 0.1225 - accuracy: 0.9179 - val_loss: 1.1107 - val_mae: 0.2646 - val_accuracy: 0.7385\n",
      "Epoch 60/100\n",
      "313/313 [==============================] - 1s 2ms/step - loss: 0.1739 - mae: 0.1213 - accuracy: 0.9163 - val_loss: 1.1223 - val_mae: 0.2627 - val_accuracy: 0.7420\n",
      "Epoch 61/100\n",
      "313/313 [==============================] - 1s 2ms/step - loss: 0.1721 - mae: 0.1206 - accuracy: 0.9169 - val_loss: 1.1405 - val_mae: 0.2637 - val_accuracy: 0.7408\n",
      "Epoch 62/100\n",
      "313/313 [==============================] - 1s 2ms/step - loss: 0.1716 - mae: 0.1197 - accuracy: 0.9164 - val_loss: 1.1546 - val_mae: 0.2630 - val_accuracy: 0.7431\n",
      "Epoch 63/100\n",
      "313/313 [==============================] - 1s 2ms/step - loss: 0.1702 - mae: 0.1188 - accuracy: 0.9189 - val_loss: 1.1723 - val_mae: 0.2628 - val_accuracy: 0.7454\n",
      "Epoch 64/100\n",
      "313/313 [==============================] - 1s 2ms/step - loss: 0.1698 - mae: 0.1182 - accuracy: 0.9179 - val_loss: 1.1903 - val_mae: 0.2633 - val_accuracy: 0.7431\n",
      "Epoch 65/100\n",
      "313/313 [==============================] - 1s 2ms/step - loss: 0.1680 - mae: 0.1173 - accuracy: 0.9179 - val_loss: 1.2094 - val_mae: 0.2634 - val_accuracy: 0.7408\n",
      "Epoch 66/100\n",
      "313/313 [==============================] - 1s 2ms/step - loss: 0.1661 - mae: 0.1162 - accuracy: 0.9200 - val_loss: 1.2354 - val_mae: 0.2651 - val_accuracy: 0.7339\n",
      "Epoch 67/100\n",
      "313/313 [==============================] - 1s 2ms/step - loss: 0.1658 - mae: 0.1156 - accuracy: 0.9208 - val_loss: 1.2471 - val_mae: 0.2643 - val_accuracy: 0.7397\n",
      "Epoch 68/100\n",
      "313/313 [==============================] - 1s 2ms/step - loss: 0.1639 - mae: 0.1145 - accuracy: 0.9228 - val_loss: 1.2701 - val_mae: 0.2646 - val_accuracy: 0.7374\n",
      "Epoch 69/100\n",
      "313/313 [==============================] - 1s 2ms/step - loss: 0.1631 - mae: 0.1136 - accuracy: 0.9198 - val_loss: 1.2840 - val_mae: 0.2640 - val_accuracy: 0.7397\n",
      "Epoch 70/100\n",
      "313/313 [==============================] - 1s 2ms/step - loss: 0.1624 - mae: 0.1132 - accuracy: 0.9204 - val_loss: 1.3190 - val_mae: 0.2674 - val_accuracy: 0.7339\n",
      "Epoch 71/100\n",
      "313/313 [==============================] - 1s 2ms/step - loss: 0.1619 - mae: 0.1125 - accuracy: 0.9224 - val_loss: 1.3228 - val_mae: 0.2648 - val_accuracy: 0.7351\n",
      "Epoch 72/100\n",
      "313/313 [==============================] - 1s 2ms/step - loss: 0.1606 - mae: 0.1119 - accuracy: 0.9217 - val_loss: 1.3495 - val_mae: 0.2672 - val_accuracy: 0.7351\n",
      "Epoch 73/100\n",
      "313/313 [==============================] - 1s 2ms/step - loss: 0.1596 - mae: 0.1112 - accuracy: 0.9224 - val_loss: 1.3524 - val_mae: 0.2632 - val_accuracy: 0.7374\n",
      "Epoch 74/100\n",
      "313/313 [==============================] - 1s 2ms/step - loss: 0.1589 - mae: 0.1106 - accuracy: 0.9204 - val_loss: 1.3772 - val_mae: 0.2653 - val_accuracy: 0.7374\n",
      "Epoch 75/100\n",
      "313/313 [==============================] - 1s 2ms/step - loss: 0.1591 - mae: 0.1104 - accuracy: 0.9211 - val_loss: 1.4052 - val_mae: 0.2670 - val_accuracy: 0.7328\n",
      "Epoch 76/100\n",
      "313/313 [==============================] - 1s 2ms/step - loss: 0.1565 - mae: 0.1088 - accuracy: 0.9224 - val_loss: 1.4204 - val_mae: 0.2669 - val_accuracy: 0.7362\n",
      "Epoch 77/100\n",
      "313/313 [==============================] - 1s 2ms/step - loss: 0.1563 - mae: 0.1085 - accuracy: 0.9243 - val_loss: 1.4231 - val_mae: 0.2634 - val_accuracy: 0.7374\n",
      "Epoch 78/100\n",
      "313/313 [==============================] - 1s 2ms/step - loss: 0.1565 - mae: 0.1083 - accuracy: 0.9233 - val_loss: 1.4492 - val_mae: 0.2661 - val_accuracy: 0.7317\n",
      "Epoch 79/100\n",
      "313/313 [==============================] - 1s 2ms/step - loss: 0.1556 - mae: 0.1077 - accuracy: 0.9245 - val_loss: 1.4686 - val_mae: 0.2656 - val_accuracy: 0.7328\n",
      "Epoch 80/100\n",
      "313/313 [==============================] - 1s 2ms/step - loss: 0.1535 - mae: 0.1066 - accuracy: 0.9261 - val_loss: 1.4983 - val_mae: 0.2680 - val_accuracy: 0.7294\n",
      "Epoch 81/100\n",
      "313/313 [==============================] - 1s 2ms/step - loss: 0.1546 - mae: 0.1071 - accuracy: 0.9241 - val_loss: 1.5067 - val_mae: 0.2664 - val_accuracy: 0.7339\n",
      "Epoch 82/100\n",
      "313/313 [==============================] - 1s 2ms/step - loss: 0.1524 - mae: 0.1058 - accuracy: 0.9248 - val_loss: 1.5341 - val_mae: 0.2678 - val_accuracy: 0.7317\n",
      "Epoch 83/100\n",
      "313/313 [==============================] - 1s 2ms/step - loss: 0.1516 - mae: 0.1052 - accuracy: 0.9256 - val_loss: 1.5387 - val_mae: 0.2654 - val_accuracy: 0.7339\n",
      "Epoch 84/100\n",
      "313/313 [==============================] - 1s 2ms/step - loss: 0.1511 - mae: 0.1046 - accuracy: 0.9264 - val_loss: 1.5485 - val_mae: 0.2638 - val_accuracy: 0.7351\n",
      "Epoch 85/100\n",
      "313/313 [==============================] - 1s 2ms/step - loss: 0.1499 - mae: 0.1040 - accuracy: 0.9278 - val_loss: 1.5801 - val_mae: 0.2669 - val_accuracy: 0.7339\n",
      "Epoch 86/100\n",
      "313/313 [==============================] - 1s 2ms/step - loss: 0.1499 - mae: 0.1041 - accuracy: 0.9246 - val_loss: 1.6003 - val_mae: 0.2667 - val_accuracy: 0.7362\n",
      "Epoch 87/100\n",
      "313/313 [==============================] - 1s 2ms/step - loss: 0.1486 - mae: 0.1030 - accuracy: 0.9270 - val_loss: 1.6151 - val_mae: 0.2664 - val_accuracy: 0.7328\n",
      "Epoch 88/100\n",
      "313/313 [==============================] - 1s 2ms/step - loss: 0.1486 - mae: 0.1029 - accuracy: 0.9282 - val_loss: 1.6506 - val_mae: 0.2691 - val_accuracy: 0.7339\n",
      "Epoch 89/100\n",
      "313/313 [==============================] - 1s 2ms/step - loss: 0.1486 - mae: 0.1026 - accuracy: 0.9259 - val_loss: 1.6479 - val_mae: 0.2656 - val_accuracy: 0.7328\n",
      "Epoch 90/100\n",
      "313/313 [==============================] - 1s 2ms/step - loss: 0.1483 - mae: 0.1025 - accuracy: 0.9243 - val_loss: 1.6764 - val_mae: 0.2674 - val_accuracy: 0.7351\n",
      "Epoch 91/100\n",
      "313/313 [==============================] - 1s 2ms/step - loss: 0.1463 - mae: 0.1016 - accuracy: 0.9255 - val_loss: 1.6927 - val_mae: 0.2671 - val_accuracy: 0.7351\n",
      "Epoch 92/100\n",
      "313/313 [==============================] - 1s 2ms/step - loss: 0.1463 - mae: 0.1012 - accuracy: 0.9267 - val_loss: 1.6985 - val_mae: 0.2644 - val_accuracy: 0.7385\n",
      "Epoch 93/100\n",
      "313/313 [==============================] - 1s 2ms/step - loss: 0.1455 - mae: 0.1007 - accuracy: 0.9279 - val_loss: 1.7254 - val_mae: 0.2664 - val_accuracy: 0.7317\n",
      "Epoch 94/100\n"
     ]
    },
    {
     "name": "stdout",
     "output_type": "stream",
     "text": [
      "313/313 [==============================] - 1s 2ms/step - loss: 0.1460 - mae: 0.1009 - accuracy: 0.9234 - val_loss: 1.7505 - val_mae: 0.2672 - val_accuracy: 0.7317\n",
      "Epoch 95/100\n",
      "313/313 [==============================] - 1s 2ms/step - loss: 0.1449 - mae: 0.1002 - accuracy: 0.9280 - val_loss: 1.7699 - val_mae: 0.2673 - val_accuracy: 0.7328\n",
      "Epoch 96/100\n",
      "313/313 [==============================] - 1s 2ms/step - loss: 0.1442 - mae: 0.0998 - accuracy: 0.9267 - val_loss: 1.7938 - val_mae: 0.2681 - val_accuracy: 0.7305\n",
      "Epoch 97/100\n",
      "313/313 [==============================] - 1s 2ms/step - loss: 0.1433 - mae: 0.0993 - accuracy: 0.9265 - val_loss: 1.7962 - val_mae: 0.2663 - val_accuracy: 0.7328\n",
      "Epoch 98/100\n",
      "313/313 [==============================] - 1s 2ms/step - loss: 0.1431 - mae: 0.0987 - accuracy: 0.9278 - val_loss: 1.8156 - val_mae: 0.2667 - val_accuracy: 0.7317\n",
      "Epoch 99/100\n",
      "313/313 [==============================] - 1s 2ms/step - loss: 0.1431 - mae: 0.0988 - accuracy: 0.9264 - val_loss: 1.8496 - val_mae: 0.2693 - val_accuracy: 0.7271\n",
      "Epoch 100/100\n",
      "313/313 [==============================] - 1s 2ms/step - loss: 0.1420 - mae: 0.0980 - accuracy: 0.9283 - val_loss: 1.8655 - val_mae: 0.2680 - val_accuracy: 0.7305\n"
     ]
    }
   ],
   "source": [
    "#Fitting the model\n",
    "history = model.fit(padded_training,train_label_array, epochs = 100, validation_data=(padded_valid, valid_label_array))"
   ]
  },
  {
   "cell_type": "code",
   "execution_count": 11,
   "id": "ae173956",
   "metadata": {},
   "outputs": [
    {
     "name": "stdout",
     "output_type": "stream",
     "text": [
      "dict_keys(['loss', 'mae', 'accuracy', 'val_loss', 'val_mae', 'val_accuracy'])\n"
     ]
    }
   ],
   "source": [
    "#Getting the Columns from the\n",
    "hist = history.history\n",
    "print(hist.keys())"
   ]
  },
  {
   "cell_type": "code",
   "execution_count": 12,
   "id": "de838f3c",
   "metadata": {},
   "outputs": [
    {
     "data": {
      "image/png": "[encoded data removed]",
      "text/plain": [
       "<Figure size 432x288 with 1 Axes>"
      ]
     },
     "metadata": {
      "needs_background": "light"
     },
     "output_type": "display_data"
    },
    {
     "data": {
      "image/png": "[encoded data removed]",
      "text/plain": [
       "<Figure size 432x288 with 1 Axes>"
      ]
     },
     "metadata": {
      "needs_background": "light"
     },
     "output_type": "display_data"
    }
   ],
   "source": [
    "def plot_graph(hist, string):\n",
    "    plt.plot(hist[string])\n",
    "    plt.plot(hist['val_'+ string])\n",
    "    plt.xlabel(\"Epochs\")\n",
    "    plt.ylabel(string)\n",
    "    plt.legend([\"Epochs\", string])\n",
    "    plt.show()\n",
    "    \n",
    "plot_graph(hist, 'loss')\n",
    "plot_graph(hist, 'accuracy')"
   ]
  },
  {
   "cell_type": "markdown",
   "id": "b4f3ee6e",
   "metadata": {},
   "source": [
    "# Write a function to predict the sentiment of reviews"
   ]
  },
  {
   "cell_type": "code",
   "execution_count": 13,
   "id": "bb50a7fe",
   "metadata": {},
   "outputs": [],
   "source": [
    "# Write some new reviews \n",
    "\n",
    "review1 = \"\"\"I loved this movie\"\"\"\n",
    "\n",
    "review2 = \"\"\"that was the worst movie I've ever seen\"\"\"\n",
    "\n",
    "review3 = \"\"\"too much violence even for a Bond film\"\"\"\n",
    "\n",
    "review4 = \"\"\"a captivating recounting of a cherished myth\"\"\"\n",
    "\n",
    "new_reviews = [review1, review2, review3, review4]"
   ]
  },
  {
   "cell_type": "code",
   "execution_count": 14,
   "id": "04d1f783",
   "metadata": {},
   "outputs": [
    {
     "name": "stdout",
     "output_type": "stream",
     "text": [
      "I loved this movie\n",
      "[0.8349067]\n",
      "\n",
      "\n",
      "that was the worst movie I've ever seen\n",
      "[0.338825]\n",
      "\n",
      "\n",
      "too much violence even for a Bond film\n",
      "[2.6691492e-08]\n",
      "\n",
      "\n",
      "a captivating recounting of a cherished myth\n",
      "[0.99591744]\n",
      "\n",
      "\n"
     ]
    }
   ],
   "source": [
    "def predict_review(model, reviews):\n",
    "  # Create the sequences\n",
    "    padding_type='post'\n",
    "    sample_sequences = tokenizer.texts_to_sequences(reviews)\n",
    "    reviews_padded = pad_sequences(sample_sequences, padding=padding_type, maxlen=max_length) \n",
    "    classes = model.predict(reviews_padded)\n",
    "    for x in range(len(reviews_padded)):\n",
    "        print(reviews[x])\n",
    "        print(classes[x])\n",
    "        print('\\n')\n",
    "\n",
    "predict_review(model, new_reviews)"
   ]
  },
  {
   "cell_type": "markdown",
   "id": "b7f59017",
   "metadata": {},
   "source": [
    "# Define a function to train and show the results of models with different layers"
   ]
  },
  {
   "cell_type": "code",
   "execution_count": 16,
   "id": "ff616e09",
   "metadata": {},
   "outputs": [],
   "source": [
    "def fit_and_showResult(model, sentences):\n",
    "    history = model.fit(padded_training,train_label_array, epochs = 100, validation_data=(padded_valid, valid_label_array))\n",
    "    plot_graph(hist, 'accuracy')\n",
    "    plot_graph(hist, 'loss')\n",
    "    predict_review(model, sentences)"
   ]
  },
  {
   "cell_type": "markdown",
   "id": "aaeff9a0",
   "metadata": {},
   "source": [
    "# Use a CNN"
   ]
  },
  {
   "cell_type": "code",
   "execution_count": 23,
   "id": "7a3d594d",
   "metadata": {},
   "outputs": [
    {
     "name": "stdout",
     "output_type": "stream",
     "text": [
      "Epoch 1/100\n"
     ]
    },
    {
     "name": "stderr",
     "output_type": "stream",
     "text": [
      "C:\\Users\\Mustafa Hasnain\\anaconda3\\lib\\site-packages\\keras\\backend.py:4993: UserWarning: \"`binary_crossentropy` received `from_logits=True`, but the `output` argument was produced by a sigmoid or softmax activation and thus does not represent logits. Was this intended?\"\n",
      "  warnings.warn(\n"
     ]
    },
    {
     "name": "stdout",
     "output_type": "stream",
     "text": [
      "313/313 [==============================] - 2s 5ms/step - loss: 0.6582 - mae: 0.4774 - accuracy: 0.6084 - val_loss: 0.5880 - val_mae: 0.4331 - val_accuracy: 0.7339\n",
      "Epoch 2/100\n",
      "313/313 [==============================] - 1s 3ms/step - loss: 0.4491 - mae: 0.3231 - accuracy: 0.7999 - val_loss: 0.4731 - val_mae: 0.3113 - val_accuracy: 0.7798\n",
      "Epoch 3/100\n",
      "313/313 [==============================] - 1s 3ms/step - loss: 0.3080 - mae: 0.2117 - accuracy: 0.8597 - val_loss: 0.4982 - val_mae: 0.2813 - val_accuracy: 0.7787\n",
      "Epoch 4/100\n",
      "313/313 [==============================] - 1s 3ms/step - loss: 0.2426 - mae: 0.1655 - accuracy: 0.8878 - val_loss: 0.5586 - val_mae: 0.2766 - val_accuracy: 0.7615\n",
      "Epoch 5/100\n",
      "313/313 [==============================] - 1s 3ms/step - loss: 0.2030 - mae: 0.1379 - accuracy: 0.9074 - val_loss: 0.6145 - val_mae: 0.2713 - val_accuracy: 0.7534\n",
      "Epoch 6/100\n",
      "313/313 [==============================] - 1s 3ms/step - loss: 0.1747 - mae: 0.1189 - accuracy: 0.9169 - val_loss: 0.6713 - val_mae: 0.2695 - val_accuracy: 0.7523\n",
      "Epoch 7/100\n",
      "313/313 [==============================] - 1s 3ms/step - loss: 0.1526 - mae: 0.1045 - accuracy: 0.9280 - val_loss: 0.7208 - val_mae: 0.2676 - val_accuracy: 0.7489\n",
      "Epoch 8/100\n",
      "313/313 [==============================] - 1s 3ms/step - loss: 0.1357 - mae: 0.0933 - accuracy: 0.9340 - val_loss: 0.7774 - val_mae: 0.2679 - val_accuracy: 0.7489\n",
      "Epoch 9/100\n",
      "313/313 [==============================] - 1s 3ms/step - loss: 0.1231 - mae: 0.0855 - accuracy: 0.9376 - val_loss: 0.8410 - val_mae: 0.2700 - val_accuracy: 0.7477\n",
      "Epoch 10/100\n",
      "313/313 [==============================] - 1s 3ms/step - loss: 0.1125 - mae: 0.0789 - accuracy: 0.9419 - val_loss: 0.9074 - val_mae: 0.2701 - val_accuracy: 0.7431\n",
      "Epoch 11/100\n",
      "313/313 [==============================] - 1s 4ms/step - loss: 0.1040 - mae: 0.0726 - accuracy: 0.9452 - val_loss: 0.9519 - val_mae: 0.2687 - val_accuracy: 0.7477\n",
      "Epoch 12/100\n",
      "313/313 [==============================] - 1s 4ms/step - loss: 0.0974 - mae: 0.0682 - accuracy: 0.9497 - val_loss: 1.0106 - val_mae: 0.2712 - val_accuracy: 0.7466\n",
      "Epoch 13/100\n",
      "313/313 [==============================] - 1s 4ms/step - loss: 0.0923 - mae: 0.0645 - accuracy: 0.9492 - val_loss: 1.0586 - val_mae: 0.2699 - val_accuracy: 0.7420\n",
      "Epoch 14/100\n",
      "313/313 [==============================] - 1s 5ms/step - loss: 0.0879 - mae: 0.0622 - accuracy: 0.9507 - val_loss: 1.1320 - val_mae: 0.2745 - val_accuracy: 0.7362\n",
      "Epoch 15/100\n",
      "313/313 [==============================] - 1s 4ms/step - loss: 0.0844 - mae: 0.0593 - accuracy: 0.9519 - val_loss: 1.1556 - val_mae: 0.2711 - val_accuracy: 0.7408\n",
      "Epoch 16/100\n",
      "313/313 [==============================] - 1s 4ms/step - loss: 0.0828 - mae: 0.0578 - accuracy: 0.9523 - val_loss: 1.2071 - val_mae: 0.2706 - val_accuracy: 0.7374\n",
      "Epoch 17/100\n",
      "313/313 [==============================] - 1s 3ms/step - loss: 0.0804 - mae: 0.0563 - accuracy: 0.9523 - val_loss: 1.2316 - val_mae: 0.2700 - val_accuracy: 0.7351\n",
      "Epoch 18/100\n",
      "313/313 [==============================] - 1s 3ms/step - loss: 0.0777 - mae: 0.0542 - accuracy: 0.9543 - val_loss: 1.2943 - val_mae: 0.2749 - val_accuracy: 0.7328\n",
      "Epoch 19/100\n",
      "313/313 [==============================] - 1s 3ms/step - loss: 0.0755 - mae: 0.0528 - accuracy: 0.9548 - val_loss: 1.3037 - val_mae: 0.2696 - val_accuracy: 0.7351\n",
      "Epoch 20/100\n",
      "313/313 [==============================] - 1s 3ms/step - loss: 0.0746 - mae: 0.0518 - accuracy: 0.9538 - val_loss: 1.3513 - val_mae: 0.2723 - val_accuracy: 0.7317\n",
      "Epoch 21/100\n",
      "313/313 [==============================] - 1s 3ms/step - loss: 0.0730 - mae: 0.0510 - accuracy: 0.9553 - val_loss: 1.4042 - val_mae: 0.2768 - val_accuracy: 0.7317\n",
      "Epoch 22/100\n",
      "313/313 [==============================] - 1s 3ms/step - loss: 0.0721 - mae: 0.0504 - accuracy: 0.9558 - val_loss: 1.4294 - val_mae: 0.2745 - val_accuracy: 0.7294\n",
      "Epoch 23/100\n",
      "313/313 [==============================] - 1s 3ms/step - loss: 0.0708 - mae: 0.0494 - accuracy: 0.9571 - val_loss: 1.4575 - val_mae: 0.2747 - val_accuracy: 0.7305\n",
      "Epoch 24/100\n",
      "313/313 [==============================] - 1s 3ms/step - loss: 0.0702 - mae: 0.0489 - accuracy: 0.9566 - val_loss: 1.4747 - val_mae: 0.2740 - val_accuracy: 0.7317\n",
      "Epoch 25/100\n",
      "313/313 [==============================] - 1s 4ms/step - loss: 0.0693 - mae: 0.0484 - accuracy: 0.9572 - val_loss: 1.5220 - val_mae: 0.2755 - val_accuracy: 0.7305\n",
      "Epoch 26/100\n",
      "313/313 [==============================] - 1s 3ms/step - loss: 0.0682 - mae: 0.0475 - accuracy: 0.9576 - val_loss: 1.5370 - val_mae: 0.2729 - val_accuracy: 0.7236\n",
      "Epoch 27/100\n",
      "313/313 [==============================] - 1s 4ms/step - loss: 0.0671 - mae: 0.0468 - accuracy: 0.9587 - val_loss: 1.5757 - val_mae: 0.2762 - val_accuracy: 0.7305\n",
      "Epoch 28/100\n",
      "313/313 [==============================] - 1s 4ms/step - loss: 0.0674 - mae: 0.0467 - accuracy: 0.9578 - val_loss: 1.5976 - val_mae: 0.2756 - val_accuracy: 0.7328\n",
      "Epoch 29/100\n",
      "313/313 [==============================] - 1s 4ms/step - loss: 0.0672 - mae: 0.0465 - accuracy: 0.9580 - val_loss: 1.6228 - val_mae: 0.2746 - val_accuracy: 0.7294\n",
      "Epoch 30/100\n",
      "313/313 [==============================] - 1s 4ms/step - loss: 0.0663 - mae: 0.0461 - accuracy: 0.9580 - val_loss: 1.6324 - val_mae: 0.2746 - val_accuracy: 0.7294\n",
      "Epoch 31/100\n",
      "313/313 [==============================] - 1s 3ms/step - loss: 0.0667 - mae: 0.0463 - accuracy: 0.9570 - val_loss: 1.6699 - val_mae: 0.2760 - val_accuracy: 0.7328\n",
      "Epoch 32/100\n",
      "313/313 [==============================] - 1s 3ms/step - loss: 0.0661 - mae: 0.0458 - accuracy: 0.9580 - val_loss: 1.6968 - val_mae: 0.2786 - val_accuracy: 0.7248\n",
      "Epoch 33/100\n",
      "313/313 [==============================] - 1s 3ms/step - loss: 0.0646 - mae: 0.0448 - accuracy: 0.9588 - val_loss: 1.7226 - val_mae: 0.2828 - val_accuracy: 0.7236\n",
      "Epoch 34/100\n",
      "313/313 [==============================] - 1s 3ms/step - loss: 0.0645 - mae: 0.0449 - accuracy: 0.9587 - val_loss: 1.7432 - val_mae: 0.2815 - val_accuracy: 0.7259\n",
      "Epoch 35/100\n",
      "313/313 [==============================] - 1s 3ms/step - loss: 0.0649 - mae: 0.0449 - accuracy: 0.9579 - val_loss: 1.7464 - val_mae: 0.2760 - val_accuracy: 0.7271\n",
      "Epoch 36/100\n",
      "313/313 [==============================] - 1s 3ms/step - loss: 0.0641 - mae: 0.0446 - accuracy: 0.9582 - val_loss: 1.7802 - val_mae: 0.2815 - val_accuracy: 0.7202\n",
      "Epoch 37/100\n",
      "313/313 [==============================] - 1s 3ms/step - loss: 0.0635 - mae: 0.0443 - accuracy: 0.9590 - val_loss: 1.8058 - val_mae: 0.2819 - val_accuracy: 0.7236\n",
      "Epoch 38/100\n",
      "313/313 [==============================] - 1s 3ms/step - loss: 0.0630 - mae: 0.0438 - accuracy: 0.9590 - val_loss: 1.8178 - val_mae: 0.2816 - val_accuracy: 0.7190\n",
      "Epoch 39/100\n",
      "313/313 [==============================] - 1s 3ms/step - loss: 0.0623 - mae: 0.0437 - accuracy: 0.9585 - val_loss: 1.8380 - val_mae: 0.2825 - val_accuracy: 0.7225\n",
      "Epoch 40/100\n",
      "313/313 [==============================] - 1s 3ms/step - loss: 0.0625 - mae: 0.0436 - accuracy: 0.9587 - val_loss: 1.8772 - val_mae: 0.2816 - val_accuracy: 0.7271\n",
      "Epoch 41/100\n",
      "313/313 [==============================] - 1s 3ms/step - loss: 0.0626 - mae: 0.0437 - accuracy: 0.9597 - val_loss: 1.8977 - val_mae: 0.2823 - val_accuracy: 0.7259\n",
      "Epoch 42/100\n",
      "313/313 [==============================] - 1s 3ms/step - loss: 0.0619 - mae: 0.0431 - accuracy: 0.9601 - val_loss: 1.9165 - val_mae: 0.2847 - val_accuracy: 0.7225\n",
      "Epoch 43/100\n",
      "313/313 [==============================] - 1s 3ms/step - loss: 0.0608 - mae: 0.0425 - accuracy: 0.9605 - val_loss: 1.9407 - val_mae: 0.2819 - val_accuracy: 0.7271\n",
      "Epoch 44/100\n",
      "313/313 [==============================] - 1s 3ms/step - loss: 0.0614 - mae: 0.0429 - accuracy: 0.9593 - val_loss: 1.9501 - val_mae: 0.2831 - val_accuracy: 0.7248\n",
      "Epoch 45/100\n",
      "313/313 [==============================] - 1s 3ms/step - loss: 0.0611 - mae: 0.0429 - accuracy: 0.9584 - val_loss: 1.9713 - val_mae: 0.2839 - val_accuracy: 0.7190\n",
      "Epoch 46/100\n",
      "313/313 [==============================] - 1s 3ms/step - loss: 0.0603 - mae: 0.0423 - accuracy: 0.9602 - val_loss: 2.0392 - val_mae: 0.2849 - val_accuracy: 0.7236\n",
      "Epoch 47/100\n",
      "313/313 [==============================] - 1s 3ms/step - loss: 0.0606 - mae: 0.0425 - accuracy: 0.9599 - val_loss: 2.0134 - val_mae: 0.2819 - val_accuracy: 0.7213\n"
     ]
    },
    {
     "name": "stdout",
     "output_type": "stream",
     "text": [
      "Epoch 48/100\n",
      "313/313 [==============================] - 1s 3ms/step - loss: 0.0601 - mae: 0.0422 - accuracy: 0.9583 - val_loss: 2.0500 - val_mae: 0.2835 - val_accuracy: 0.7202\n",
      "Epoch 49/100\n",
      "313/313 [==============================] - 1s 3ms/step - loss: 0.0599 - mae: 0.0419 - accuracy: 0.9605 - val_loss: 2.0766 - val_mae: 0.2849 - val_accuracy: 0.7167\n",
      "Epoch 50/100\n",
      "313/313 [==============================] - 1s 3ms/step - loss: 0.0593 - mae: 0.0418 - accuracy: 0.9608 - val_loss: 2.0825 - val_mae: 0.2848 - val_accuracy: 0.7167\n",
      "Epoch 51/100\n",
      "313/313 [==============================] - 1s 3ms/step - loss: 0.0608 - mae: 0.0423 - accuracy: 0.9609 - val_loss: 2.0982 - val_mae: 0.2829 - val_accuracy: 0.7202\n",
      "Epoch 52/100\n",
      "313/313 [==============================] - 1s 3ms/step - loss: 0.0594 - mae: 0.0416 - accuracy: 0.9598 - val_loss: 2.1216 - val_mae: 0.2822 - val_accuracy: 0.7271\n",
      "Epoch 53/100\n",
      "313/313 [==============================] - 1s 3ms/step - loss: 0.0595 - mae: 0.0417 - accuracy: 0.9604 - val_loss: 2.1423 - val_mae: 0.2823 - val_accuracy: 0.7225\n",
      "Epoch 54/100\n",
      "313/313 [==============================] - 1s 3ms/step - loss: 0.0600 - mae: 0.0417 - accuracy: 0.9588 - val_loss: 2.1480 - val_mae: 0.2815 - val_accuracy: 0.7167\n",
      "Epoch 55/100\n",
      "313/313 [==============================] - 1s 3ms/step - loss: 0.0594 - mae: 0.0415 - accuracy: 0.9588 - val_loss: 2.1798 - val_mae: 0.2836 - val_accuracy: 0.7248\n",
      "Epoch 56/100\n",
      "313/313 [==============================] - 1s 3ms/step - loss: 0.0592 - mae: 0.0416 - accuracy: 0.9605 - val_loss: 2.1885 - val_mae: 0.2811 - val_accuracy: 0.7236\n",
      "Epoch 57/100\n",
      "313/313 [==============================] - 1s 3ms/step - loss: 0.0581 - mae: 0.0410 - accuracy: 0.9592 - val_loss: 2.2166 - val_mae: 0.2812 - val_accuracy: 0.7167\n",
      "Epoch 58/100\n",
      "313/313 [==============================] - 1s 3ms/step - loss: 0.0590 - mae: 0.0414 - accuracy: 0.9572 - val_loss: 2.2188 - val_mae: 0.2816 - val_accuracy: 0.7167\n",
      "Epoch 59/100\n",
      "313/313 [==============================] - 1s 3ms/step - loss: 0.0589 - mae: 0.0413 - accuracy: 0.9584 - val_loss: 2.2366 - val_mae: 0.2803 - val_accuracy: 0.7179\n",
      "Epoch 60/100\n",
      "313/313 [==============================] - 1s 3ms/step - loss: 0.0581 - mae: 0.0408 - accuracy: 0.9594 - val_loss: 2.2538 - val_mae: 0.2796 - val_accuracy: 0.7248\n",
      "Epoch 61/100\n",
      "313/313 [==============================] - 1s 3ms/step - loss: 0.0589 - mae: 0.0413 - accuracy: 0.9595 - val_loss: 2.2845 - val_mae: 0.2827 - val_accuracy: 0.7225\n",
      "Epoch 62/100\n",
      "313/313 [==============================] - 1s 3ms/step - loss: 0.0585 - mae: 0.0409 - accuracy: 0.9590 - val_loss: 2.2781 - val_mae: 0.2802 - val_accuracy: 0.7248\n",
      "Epoch 63/100\n",
      "313/313 [==============================] - 1s 3ms/step - loss: 0.0587 - mae: 0.0412 - accuracy: 0.9592 - val_loss: 2.2989 - val_mae: 0.2810 - val_accuracy: 0.7271\n",
      "Epoch 64/100\n",
      "313/313 [==============================] - 1s 3ms/step - loss: 0.0580 - mae: 0.0408 - accuracy: 0.9599 - val_loss: 2.3189 - val_mae: 0.2813 - val_accuracy: 0.7271\n",
      "Epoch 65/100\n",
      "313/313 [==============================] - 1s 3ms/step - loss: 0.0579 - mae: 0.0408 - accuracy: 0.9596 - val_loss: 2.3161 - val_mae: 0.2826 - val_accuracy: 0.7225\n",
      "Epoch 66/100\n",
      "313/313 [==============================] - 1s 3ms/step - loss: 0.0581 - mae: 0.0406 - accuracy: 0.9607 - val_loss: 2.3550 - val_mae: 0.2839 - val_accuracy: 0.7190\n",
      "Epoch 67/100\n",
      "313/313 [==============================] - 1s 3ms/step - loss: 0.0585 - mae: 0.0409 - accuracy: 0.9596 - val_loss: 2.3549 - val_mae: 0.2828 - val_accuracy: 0.7213\n",
      "Epoch 68/100\n",
      "313/313 [==============================] - 1s 3ms/step - loss: 0.0581 - mae: 0.0408 - accuracy: 0.9594 - val_loss: 2.3690 - val_mae: 0.2848 - val_accuracy: 0.7156\n",
      "Epoch 69/100\n",
      "313/313 [==============================] - 1s 3ms/step - loss: 0.0578 - mae: 0.0406 - accuracy: 0.9604 - val_loss: 2.3889 - val_mae: 0.2836 - val_accuracy: 0.7225\n",
      "Epoch 70/100\n",
      "313/313 [==============================] - 1s 3ms/step - loss: 0.0578 - mae: 0.0405 - accuracy: 0.9585 - val_loss: 2.3907 - val_mae: 0.2822 - val_accuracy: 0.7225\n",
      "Epoch 71/100\n",
      "313/313 [==============================] - 1s 3ms/step - loss: 0.0582 - mae: 0.0409 - accuracy: 0.9585 - val_loss: 2.4138 - val_mae: 0.2833 - val_accuracy: 0.7225\n",
      "Epoch 72/100\n",
      "313/313 [==============================] - 1s 3ms/step - loss: 0.0586 - mae: 0.0407 - accuracy: 0.9605 - val_loss: 2.4200 - val_mae: 0.2845 - val_accuracy: 0.7236\n",
      "Epoch 73/100\n",
      "313/313 [==============================] - 1s 3ms/step - loss: 0.0574 - mae: 0.0403 - accuracy: 0.9602 - val_loss: 2.4261 - val_mae: 0.2831 - val_accuracy: 0.7156\n",
      "Epoch 74/100\n",
      "313/313 [==============================] - 1s 3ms/step - loss: 0.0582 - mae: 0.0406 - accuracy: 0.9583 - val_loss: 2.4492 - val_mae: 0.2846 - val_accuracy: 0.7179\n",
      "Epoch 75/100\n",
      "313/313 [==============================] - 1s 3ms/step - loss: 0.0570 - mae: 0.0403 - accuracy: 0.9615 - val_loss: 2.4562 - val_mae: 0.2830 - val_accuracy: 0.7190\n",
      "Epoch 76/100\n",
      "313/313 [==============================] - 1s 4ms/step - loss: 0.0577 - mae: 0.0406 - accuracy: 0.9588 - val_loss: 2.4549 - val_mae: 0.2843 - val_accuracy: 0.7156\n",
      "Epoch 77/100\n",
      "313/313 [==============================] - 1s 4ms/step - loss: 0.0574 - mae: 0.0403 - accuracy: 0.9610 - val_loss: 2.4667 - val_mae: 0.2838 - val_accuracy: 0.7190\n",
      "Epoch 78/100\n",
      "313/313 [==============================] - 1s 3ms/step - loss: 0.0579 - mae: 0.0406 - accuracy: 0.9598 - val_loss: 2.4716 - val_mae: 0.2838 - val_accuracy: 0.7213\n",
      "Epoch 79/100\n",
      "313/313 [==============================] - 1s 3ms/step - loss: 0.0573 - mae: 0.0404 - accuracy: 0.9585 - val_loss: 2.4927 - val_mae: 0.2814 - val_accuracy: 0.7236\n",
      "Epoch 80/100\n",
      "313/313 [==============================] - 1s 3ms/step - loss: 0.0573 - mae: 0.0404 - accuracy: 0.9590 - val_loss: 2.4982 - val_mae: 0.2843 - val_accuracy: 0.7190\n",
      "Epoch 81/100\n",
      "313/313 [==============================] - 1s 3ms/step - loss: 0.0574 - mae: 0.0404 - accuracy: 0.9609 - val_loss: 2.5226 - val_mae: 0.2854 - val_accuracy: 0.7179\n",
      "Epoch 82/100\n",
      "313/313 [==============================] - 1s 3ms/step - loss: 0.0574 - mae: 0.0403 - accuracy: 0.9609 - val_loss: 2.5156 - val_mae: 0.2850 - val_accuracy: 0.7190\n",
      "Epoch 83/100\n",
      "313/313 [==============================] - 1s 3ms/step - loss: 0.0572 - mae: 0.0401 - accuracy: 0.9612 - val_loss: 2.5279 - val_mae: 0.2859 - val_accuracy: 0.7167\n",
      "Epoch 84/100\n",
      "313/313 [==============================] - 1s 3ms/step - loss: 0.0577 - mae: 0.0404 - accuracy: 0.9592 - val_loss: 2.5234 - val_mae: 0.2846 - val_accuracy: 0.7144\n",
      "Epoch 85/100\n",
      "313/313 [==============================] - 1s 3ms/step - loss: 0.0573 - mae: 0.0403 - accuracy: 0.9598 - val_loss: 2.5418 - val_mae: 0.2825 - val_accuracy: 0.7167\n",
      "Epoch 86/100\n",
      "313/313 [==============================] - 1s 3ms/step - loss: 0.0572 - mae: 0.0403 - accuracy: 0.9608 - val_loss: 2.5335 - val_mae: 0.2836 - val_accuracy: 0.7213\n",
      "Epoch 87/100\n",
      "313/313 [==============================] - 1s 3ms/step - loss: 0.0578 - mae: 0.0403 - accuracy: 0.9593 - val_loss: 2.5414 - val_mae: 0.2855 - val_accuracy: 0.7110\n",
      "Epoch 88/100\n",
      "313/313 [==============================] - 1s 3ms/step - loss: 0.0574 - mae: 0.0401 - accuracy: 0.9613 - val_loss: 2.5528 - val_mae: 0.2881 - val_accuracy: 0.7213\n",
      "Epoch 89/100\n",
      "313/313 [==============================] - 1s 3ms/step - loss: 0.0577 - mae: 0.0404 - accuracy: 0.9606 - val_loss: 2.5457 - val_mae: 0.2864 - val_accuracy: 0.7144\n",
      "Epoch 90/100\n",
      "313/313 [==============================] - 1s 3ms/step - loss: 0.0569 - mae: 0.0401 - accuracy: 0.9589 - val_loss: 2.5445 - val_mae: 0.2846 - val_accuracy: 0.7167\n",
      "Epoch 91/100\n",
      "313/313 [==============================] - 1s 4ms/step - loss: 0.0569 - mae: 0.0400 - accuracy: 0.9616 - val_loss: 2.5835 - val_mae: 0.2898 - val_accuracy: 0.7144\n",
      "Epoch 92/100\n",
      "313/313 [==============================] - 1s 4ms/step - loss: 0.0577 - mae: 0.0403 - accuracy: 0.9591 - val_loss: 2.5808 - val_mae: 0.2861 - val_accuracy: 0.7156\n",
      "Epoch 93/100\n",
      "313/313 [==============================] - 1s 4ms/step - loss: 0.0576 - mae: 0.0404 - accuracy: 0.9610 - val_loss: 2.5882 - val_mae: 0.2858 - val_accuracy: 0.7202\n",
      "Epoch 94/100\n"
     ]
    },
    {
     "name": "stdout",
     "output_type": "stream",
     "text": [
      "313/313 [==============================] - 1s 3ms/step - loss: 0.0571 - mae: 0.0402 - accuracy: 0.9608 - val_loss: 2.5951 - val_mae: 0.2878 - val_accuracy: 0.7133\n",
      "Epoch 95/100\n",
      "313/313 [==============================] - 1s 3ms/step - loss: 0.0565 - mae: 0.0399 - accuracy: 0.9619 - val_loss: 2.6116 - val_mae: 0.2835 - val_accuracy: 0.7202\n",
      "Epoch 96/100\n",
      "313/313 [==============================] - 1s 4ms/step - loss: 0.0564 - mae: 0.0398 - accuracy: 0.9615 - val_loss: 2.6215 - val_mae: 0.2870 - val_accuracy: 0.7144\n",
      "Epoch 97/100\n",
      "313/313 [==============================] - 1s 3ms/step - loss: 0.0571 - mae: 0.0401 - accuracy: 0.9610 - val_loss: 2.6049 - val_mae: 0.2846 - val_accuracy: 0.7190\n",
      "Epoch 98/100\n",
      "313/313 [==============================] - 1s 3ms/step - loss: 0.0569 - mae: 0.0399 - accuracy: 0.9604 - val_loss: 2.5963 - val_mae: 0.2844 - val_accuracy: 0.7213\n",
      "Epoch 99/100\n",
      "313/313 [==============================] - 1s 3ms/step - loss: 0.0570 - mae: 0.0400 - accuracy: 0.9617 - val_loss: 2.6144 - val_mae: 0.2852 - val_accuracy: 0.7202\n",
      "Epoch 100/100\n",
      "313/313 [==============================] - 1s 3ms/step - loss: 0.0566 - mae: 0.0399 - accuracy: 0.9609 - val_loss: 2.6264 - val_mae: 0.2883 - val_accuracy: 0.7133\n"
     ]
    },
    {
     "data": {
      "image/png": "[encoded data removed]",
      "text/plain": [
       "<Figure size 432x288 with 1 Axes>"
      ]
     },
     "metadata": {
      "needs_background": "light"
     },
     "output_type": "display_data"
    },
    {
     "data": {
      "image/png": "[encoded data removed]",
      "text/plain": [
       "<Figure size 432x288 with 1 Axes>"
      ]
     },
     "metadata": {
      "needs_background": "light"
     },
     "output_type": "display_data"
    },
    {
     "name": "stdout",
     "output_type": "stream",
     "text": [
      "I loved this movie\n",
      "[0.99998415]\n",
      "\n",
      "\n",
      "that was the worst movie I've ever seen\n",
      "[3.6152956e-11]\n",
      "\n",
      "\n",
      "too much violence even for a Bond film\n",
      "[3.9484004e-14]\n",
      "\n",
      "\n",
      "a captivating recounting of a cherished myth\n",
      "[1.]\n",
      "\n",
      "\n"
     ]
    }
   ],
   "source": [
    "model_cnn = tf.keras.Sequential()\n",
    "model_cnn.add(tf.keras.layers.Embedding(vocab_size, embedding_dim, input_length = max_length))\n",
    "model_cnn.add(tf.keras.layers.Conv1D(16, 5, activation = 'relu'))\n",
    "model_cnn.add(tf.keras.layers.GlobalMaxPool1D())\n",
    "model_cnn.add(tf.keras.layers.Dense(units = 1, activation = 'sigmoid'))\n",
    "model_cnn.compile(optimizer=tf.keras.optimizers.Adam(), loss=tf.keras.losses.BinaryCrossentropy(from_logits=True), metrics = ['mae', 'accuracy'])\n",
    "fit_and_showResult(model_cnn, new_reviews)"
   ]
  },
  {
   "cell_type": "code",
   "execution_count": 24,
   "id": "a1e10fd6",
   "metadata": {},
   "outputs": [
    {
     "name": "stdout",
     "output_type": "stream",
     "text": [
      "Epoch 1/100\n"
     ]
    },
    {
     "name": "stderr",
     "output_type": "stream",
     "text": [
      "C:\\Users\\Mustafa Hasnain\\anaconda3\\lib\\site-packages\\keras\\backend.py:4993: UserWarning: \"`binary_crossentropy` received `from_logits=True`, but the `output` argument was produced by a sigmoid or softmax activation and thus does not represent logits. Was this intended?\"\n",
      "  warnings.warn(\n"
     ]
    },
    {
     "name": "stdout",
     "output_type": "stream",
     "text": [
      "313/313 [==============================] - 13s 28ms/step - loss: 0.6304 - mae: 0.4536 - accuracy: 0.6332 - val_loss: 0.5285 - val_mae: 0.3671 - val_accuracy: 0.7477\n",
      "Epoch 2/100\n",
      "313/313 [==============================] - 8s 25ms/step - loss: 0.4068 - mae: 0.2785 - accuracy: 0.8123 - val_loss: 0.5319 - val_mae: 0.3012 - val_accuracy: 0.7511\n",
      "Epoch 3/100\n",
      "313/313 [==============================] - 7s 24ms/step - loss: 0.3194 - mae: 0.2113 - accuracy: 0.8537 - val_loss: 0.5981 - val_mae: 0.2681 - val_accuracy: 0.7603\n",
      "Epoch 4/100\n",
      "313/313 [==============================] - 8s 25ms/step - loss: 0.2707 - mae: 0.1752 - accuracy: 0.8777 - val_loss: 0.6526 - val_mae: 0.2707 - val_accuracy: 0.7477\n",
      "Epoch 5/100\n",
      "313/313 [==============================] - 7s 24ms/step - loss: 0.2413 - mae: 0.1540 - accuracy: 0.8923 - val_loss: 0.7111 - val_mae: 0.2665 - val_accuracy: 0.7523\n",
      "Epoch 6/100\n",
      "313/313 [==============================] - 8s 25ms/step - loss: 0.2250 - mae: 0.1419 - accuracy: 0.8987 - val_loss: 0.7811 - val_mae: 0.2634 - val_accuracy: 0.7534\n",
      "Epoch 7/100\n",
      "313/313 [==============================] - 7s 23ms/step - loss: 0.2073 - mae: 0.1310 - accuracy: 0.9053 - val_loss: 0.7792 - val_mae: 0.2646 - val_accuracy: 0.7443\n",
      "Epoch 8/100\n",
      "313/313 [==============================] - 8s 25ms/step - loss: 0.1972 - mae: 0.1230 - accuracy: 0.9107 - val_loss: 0.8190 - val_mae: 0.2752 - val_accuracy: 0.7397\n",
      "Epoch 9/100\n",
      "313/313 [==============================] - 8s 26ms/step - loss: 0.1839 - mae: 0.1150 - accuracy: 0.9140 - val_loss: 0.8744 - val_mae: 0.2675 - val_accuracy: 0.7466\n",
      "Epoch 10/100\n",
      "313/313 [==============================] - 10s 31ms/step - loss: 0.1737 - mae: 0.1089 - accuracy: 0.9174 - val_loss: 1.0048 - val_mae: 0.2624 - val_accuracy: 0.7454\n",
      "Epoch 11/100\n",
      "313/313 [==============================] - 9s 29ms/step - loss: 0.1655 - mae: 0.1032 - accuracy: 0.9232 - val_loss: 0.9824 - val_mae: 0.2602 - val_accuracy: 0.7511\n",
      "Epoch 12/100\n",
      "313/313 [==============================] - 9s 29ms/step - loss: 0.1558 - mae: 0.0989 - accuracy: 0.9243 - val_loss: 1.0147 - val_mae: 0.2698 - val_accuracy: 0.7397\n",
      "Epoch 13/100\n",
      "313/313 [==============================] - 9s 28ms/step - loss: 0.1509 - mae: 0.0962 - accuracy: 0.9259 - val_loss: 1.1710 - val_mae: 0.2697 - val_accuracy: 0.7362\n",
      "Epoch 14/100\n",
      "313/313 [==============================] - 8s 27ms/step - loss: 0.1383 - mae: 0.0882 - accuracy: 0.9334 - val_loss: 1.3221 - val_mae: 0.2691 - val_accuracy: 0.7305\n",
      "Epoch 15/100\n",
      "313/313 [==============================] - 9s 28ms/step - loss: 0.1327 - mae: 0.0842 - accuracy: 0.9359 - val_loss: 1.3405 - val_mae: 0.2619 - val_accuracy: 0.7443\n",
      "Epoch 16/100\n",
      "313/313 [==============================] - 8s 27ms/step - loss: 0.1303 - mae: 0.0828 - accuracy: 0.9342 - val_loss: 1.3804 - val_mae: 0.2720 - val_accuracy: 0.7282\n",
      "Epoch 17/100\n",
      "313/313 [==============================] - 8s 27ms/step - loss: 0.1229 - mae: 0.0795 - accuracy: 0.9343 - val_loss: 1.3197 - val_mae: 0.2799 - val_accuracy: 0.7282\n",
      "Epoch 18/100\n",
      "313/313 [==============================] - 8s 27ms/step - loss: 0.1201 - mae: 0.0783 - accuracy: 0.9362 - val_loss: 1.4672 - val_mae: 0.2677 - val_accuracy: 0.7374\n",
      "Epoch 19/100\n",
      "313/313 [==============================] - 9s 27ms/step - loss: 0.1150 - mae: 0.0749 - accuracy: 0.9372 - val_loss: 1.4736 - val_mae: 0.2640 - val_accuracy: 0.7374\n",
      "Epoch 20/100\n",
      "313/313 [==============================] - 8s 26ms/step - loss: 0.1136 - mae: 0.0744 - accuracy: 0.9392 - val_loss: 1.5747 - val_mae: 0.2691 - val_accuracy: 0.7362\n",
      "Epoch 21/100\n",
      "313/313 [==============================] - 9s 27ms/step - loss: 0.1097 - mae: 0.0715 - accuracy: 0.9380 - val_loss: 1.5653 - val_mae: 0.2664 - val_accuracy: 0.7431\n",
      "Epoch 22/100\n",
      "313/313 [==============================] - 8s 26ms/step - loss: 0.1089 - mae: 0.0709 - accuracy: 0.9434 - val_loss: 1.5171 - val_mae: 0.2779 - val_accuracy: 0.7236\n",
      "Epoch 23/100\n",
      "313/313 [==============================] - 9s 28ms/step - loss: 0.1062 - mae: 0.0696 - accuracy: 0.9431 - val_loss: 1.6703 - val_mae: 0.2708 - val_accuracy: 0.7328\n",
      "Epoch 24/100\n",
      "313/313 [==============================] - 8s 26ms/step - loss: 0.0995 - mae: 0.0660 - accuracy: 0.9431 - val_loss: 1.7800 - val_mae: 0.2650 - val_accuracy: 0.7443\n",
      "Epoch 25/100\n",
      "313/313 [==============================] - 9s 28ms/step - loss: 0.1052 - mae: 0.0688 - accuracy: 0.9455 - val_loss: 1.5600 - val_mae: 0.2906 - val_accuracy: 0.7133\n",
      "Epoch 26/100\n",
      "313/313 [==============================] - 9s 28ms/step - loss: 0.1011 - mae: 0.0662 - accuracy: 0.9428 - val_loss: 1.6168 - val_mae: 0.2630 - val_accuracy: 0.7431\n",
      "Epoch 27/100\n",
      "313/313 [==============================] - 8s 27ms/step - loss: 0.0942 - mae: 0.0633 - accuracy: 0.9461 - val_loss: 2.0181 - val_mae: 0.2752 - val_accuracy: 0.7294\n",
      "Epoch 28/100\n",
      "313/313 [==============================] - 8s 27ms/step - loss: 0.0936 - mae: 0.0623 - accuracy: 0.9465 - val_loss: 1.8483 - val_mae: 0.2762 - val_accuracy: 0.7305\n",
      "Epoch 29/100\n",
      "313/313 [==============================] - 9s 27ms/step - loss: 0.0918 - mae: 0.0609 - accuracy: 0.9490 - val_loss: 1.8578 - val_mae: 0.2807 - val_accuracy: 0.7202\n",
      "Epoch 30/100\n",
      "313/313 [==============================] - 9s 27ms/step - loss: 0.1037 - mae: 0.0664 - accuracy: 0.9461 - val_loss: 1.8342 - val_mae: 0.2652 - val_accuracy: 0.7374\n",
      "Epoch 31/100\n",
      "313/313 [==============================] - 9s 27ms/step - loss: 0.0939 - mae: 0.0625 - accuracy: 0.9464 - val_loss: 1.8996 - val_mae: 0.2632 - val_accuracy: 0.7385\n",
      "Epoch 32/100\n",
      "313/313 [==============================] - 9s 27ms/step - loss: 0.0917 - mae: 0.0613 - accuracy: 0.9474 - val_loss: 1.8191 - val_mae: 0.2697 - val_accuracy: 0.7362\n",
      "Epoch 33/100\n",
      "313/313 [==============================] - 8s 27ms/step - loss: 0.0887 - mae: 0.0601 - accuracy: 0.9469 - val_loss: 1.9196 - val_mae: 0.2655 - val_accuracy: 0.7374\n",
      "Epoch 34/100\n",
      "313/313 [==============================] - 9s 29ms/step - loss: 0.0852 - mae: 0.0576 - accuracy: 0.9503 - val_loss: 2.3966 - val_mae: 0.2795 - val_accuracy: 0.7236\n",
      "Epoch 35/100\n",
      "313/313 [==============================] - 8s 27ms/step - loss: 0.1011 - mae: 0.0644 - accuracy: 0.9423 - val_loss: 1.8988 - val_mae: 0.2755 - val_accuracy: 0.7317\n",
      "Epoch 36/100\n",
      "313/313 [==============================] - 9s 28ms/step - loss: 0.0882 - mae: 0.0589 - accuracy: 0.9494 - val_loss: 1.9393 - val_mae: 0.2734 - val_accuracy: 0.7305\n",
      "Epoch 37/100\n",
      "313/313 [==============================] - 8s 27ms/step - loss: 0.1014 - mae: 0.0648 - accuracy: 0.9444 - val_loss: 2.1454 - val_mae: 0.2824 - val_accuracy: 0.7190\n",
      "Epoch 38/100\n",
      "313/313 [==============================] - 9s 28ms/step - loss: 0.0897 - mae: 0.0597 - accuracy: 0.9491 - val_loss: 1.7107 - val_mae: 0.2825 - val_accuracy: 0.7305\n",
      "Epoch 39/100\n",
      "313/313 [==============================] - 9s 28ms/step - loss: 0.0842 - mae: 0.0578 - accuracy: 0.9494 - val_loss: 1.9214 - val_mae: 0.2895 - val_accuracy: 0.7110\n",
      "Epoch 40/100\n",
      "313/313 [==============================] - 9s 30ms/step - loss: 0.0806 - mae: 0.0555 - accuracy: 0.9507 - val_loss: 2.0968 - val_mae: 0.2835 - val_accuracy: 0.7144\n",
      "Epoch 41/100\n",
      "313/313 [==============================] - 9s 30ms/step - loss: 0.0805 - mae: 0.0552 - accuracy: 0.9510 - val_loss: 2.0985 - val_mae: 0.2827 - val_accuracy: 0.7202\n",
      "Epoch 42/100\n",
      "313/313 [==============================] - 9s 28ms/step - loss: 0.0793 - mae: 0.0542 - accuracy: 0.9526 - val_loss: 2.1882 - val_mae: 0.2826 - val_accuracy: 0.7156\n",
      "Epoch 43/100\n",
      "313/313 [==============================] - 9s 30ms/step - loss: 0.0830 - mae: 0.0553 - accuracy: 0.9498 - val_loss: 2.0527 - val_mae: 0.2798 - val_accuracy: 0.7225\n",
      "Epoch 44/100\n",
      "313/313 [==============================] - 9s 28ms/step - loss: 0.1000 - mae: 0.0619 - accuracy: 0.9466 - val_loss: 1.7045 - val_mae: 0.2849 - val_accuracy: 0.7167\n",
      "Epoch 45/100\n",
      "313/313 [==============================] - 9s 30ms/step - loss: 0.0838 - mae: 0.0585 - accuracy: 0.9503 - val_loss: 1.9657 - val_mae: 0.2787 - val_accuracy: 0.7236\n",
      "Epoch 46/100\n",
      "313/313 [==============================] - 9s 29ms/step - loss: 0.0788 - mae: 0.0545 - accuracy: 0.9522 - val_loss: 2.1650 - val_mae: 0.2801 - val_accuracy: 0.7213\n",
      "Epoch 47/100\n"
     ]
    },
    {
     "name": "stdout",
     "output_type": "stream",
     "text": [
      "313/313 [==============================] - 8s 25ms/step - loss: 0.0776 - mae: 0.0538 - accuracy: 0.9537 - val_loss: 2.2322 - val_mae: 0.2775 - val_accuracy: 0.7248\n",
      "Epoch 48/100\n",
      "313/313 [==============================] - 8s 25ms/step - loss: 0.0825 - mae: 0.0544 - accuracy: 0.9517 - val_loss: 2.2857 - val_mae: 0.2864 - val_accuracy: 0.7202\n",
      "Epoch 49/100\n",
      "313/313 [==============================] - 8s 25ms/step - loss: 0.0803 - mae: 0.0556 - accuracy: 0.9511 - val_loss: 2.2219 - val_mae: 0.2778 - val_accuracy: 0.7236\n",
      "Epoch 50/100\n",
      "313/313 [==============================] - 8s 25ms/step - loss: 0.0790 - mae: 0.0531 - accuracy: 0.9526 - val_loss: 2.2229 - val_mae: 0.2705 - val_accuracy: 0.7351\n",
      "Epoch 51/100\n",
      "313/313 [==============================] - 8s 25ms/step - loss: 0.0778 - mae: 0.0528 - accuracy: 0.9508 - val_loss: 2.1705 - val_mae: 0.2777 - val_accuracy: 0.7248\n",
      "Epoch 52/100\n",
      "313/313 [==============================] - 8s 25ms/step - loss: 0.0756 - mae: 0.0523 - accuracy: 0.9535 - val_loss: 2.3074 - val_mae: 0.2757 - val_accuracy: 0.7259\n",
      "Epoch 53/100\n",
      "313/313 [==============================] - 8s 25ms/step - loss: 0.0752 - mae: 0.0515 - accuracy: 0.9528 - val_loss: 2.3238 - val_mae: 0.2755 - val_accuracy: 0.7259\n",
      "Epoch 54/100\n",
      "313/313 [==============================] - 8s 25ms/step - loss: 0.0832 - mae: 0.0546 - accuracy: 0.9505 - val_loss: 2.1617 - val_mae: 0.2804 - val_accuracy: 0.7213\n",
      "Epoch 55/100\n",
      "313/313 [==============================] - 8s 25ms/step - loss: 0.0795 - mae: 0.0543 - accuracy: 0.9496 - val_loss: 2.1283 - val_mae: 0.2854 - val_accuracy: 0.7190\n",
      "Epoch 56/100\n",
      "313/313 [==============================] - 8s 25ms/step - loss: 0.0765 - mae: 0.0527 - accuracy: 0.9532 - val_loss: 2.2641 - val_mae: 0.2808 - val_accuracy: 0.7225\n",
      "Epoch 57/100\n",
      "313/313 [==============================] - 8s 26ms/step - loss: 0.0739 - mae: 0.0512 - accuracy: 0.9528 - val_loss: 2.3941 - val_mae: 0.2828 - val_accuracy: 0.7167\n",
      "Epoch 58/100\n",
      "313/313 [==============================] - 8s 25ms/step - loss: 0.0736 - mae: 0.0509 - accuracy: 0.9530 - val_loss: 2.4447 - val_mae: 0.2820 - val_accuracy: 0.7213\n",
      "Epoch 59/100\n",
      "313/313 [==============================] - 8s 25ms/step - loss: 0.0724 - mae: 0.0503 - accuracy: 0.9541 - val_loss: 2.4968 - val_mae: 0.2825 - val_accuracy: 0.7225\n",
      "Epoch 60/100\n",
      "313/313 [==============================] - 8s 25ms/step - loss: 0.0748 - mae: 0.0507 - accuracy: 0.9521 - val_loss: 2.5355 - val_mae: 0.2842 - val_accuracy: 0.7167\n",
      "Epoch 61/100\n",
      "313/313 [==============================] - 8s 27ms/step - loss: 0.0729 - mae: 0.0506 - accuracy: 0.9541 - val_loss: 2.4571 - val_mae: 0.2796 - val_accuracy: 0.7259\n",
      "Epoch 62/100\n",
      "313/313 [==============================] - 9s 29ms/step - loss: 0.0732 - mae: 0.0500 - accuracy: 0.9547 - val_loss: 2.4618 - val_mae: 0.2764 - val_accuracy: 0.7248\n",
      "Epoch 63/100\n",
      "313/313 [==============================] - 9s 28ms/step - loss: 0.0719 - mae: 0.0497 - accuracy: 0.9537 - val_loss: 2.5787 - val_mae: 0.2810 - val_accuracy: 0.7236\n",
      "Epoch 64/100\n",
      "313/313 [==============================] - 9s 28ms/step - loss: 0.0763 - mae: 0.0516 - accuracy: 0.9531 - val_loss: 2.1601 - val_mae: 0.2774 - val_accuracy: 0.7282\n",
      "Epoch 65/100\n",
      "313/313 [==============================] - 10s 32ms/step - loss: 0.0776 - mae: 0.0526 - accuracy: 0.9498 - val_loss: 2.4864 - val_mae: 0.2797 - val_accuracy: 0.7225\n",
      "Epoch 66/100\n",
      "313/313 [==============================] - 8s 27ms/step - loss: 0.0817 - mae: 0.0547 - accuracy: 0.9512 - val_loss: 2.2075 - val_mae: 0.2802 - val_accuracy: 0.7202\n",
      "Epoch 67/100\n",
      "313/313 [==============================] - 8s 27ms/step - loss: 0.0712 - mae: 0.0502 - accuracy: 0.9528 - val_loss: 2.2373 - val_mae: 0.2821 - val_accuracy: 0.7190\n",
      "Epoch 68/100\n",
      "313/313 [==============================] - 9s 29ms/step - loss: 0.0704 - mae: 0.0493 - accuracy: 0.9516 - val_loss: 2.3222 - val_mae: 0.2847 - val_accuracy: 0.7190\n",
      "Epoch 69/100\n",
      "313/313 [==============================] - 8s 25ms/step - loss: 0.0700 - mae: 0.0491 - accuracy: 0.9549 - val_loss: 2.3822 - val_mae: 0.2772 - val_accuracy: 0.7248\n",
      "Epoch 70/100\n",
      "313/313 [==============================] - 8s 26ms/step - loss: 0.0714 - mae: 0.0497 - accuracy: 0.9535 - val_loss: 2.3880 - val_mae: 0.2797 - val_accuracy: 0.7225\n",
      "Epoch 71/100\n",
      "313/313 [==============================] - 8s 26ms/step - loss: 0.0694 - mae: 0.0486 - accuracy: 0.9553 - val_loss: 2.5401 - val_mae: 0.2800 - val_accuracy: 0.7190\n",
      "Epoch 72/100\n",
      "313/313 [==============================] - 8s 26ms/step - loss: 0.0680 - mae: 0.0475 - accuracy: 0.9569 - val_loss: 2.5788 - val_mae: 0.2781 - val_accuracy: 0.7225\n",
      "Epoch 73/100\n",
      "313/313 [==============================] - 8s 25ms/step - loss: 0.0682 - mae: 0.0478 - accuracy: 0.9532 - val_loss: 2.6678 - val_mae: 0.2769 - val_accuracy: 0.7259\n",
      "Epoch 74/100\n",
      "313/313 [==============================] - 8s 25ms/step - loss: 0.0670 - mae: 0.0472 - accuracy: 0.9574 - val_loss: 2.6812 - val_mae: 0.2818 - val_accuracy: 0.7179\n",
      "Epoch 75/100\n",
      "313/313 [==============================] - 8s 26ms/step - loss: 0.0682 - mae: 0.0475 - accuracy: 0.9564 - val_loss: 2.8071 - val_mae: 0.2748 - val_accuracy: 0.7294\n",
      "Epoch 76/100\n",
      "313/313 [==============================] - 10s 31ms/step - loss: 0.0720 - mae: 0.0496 - accuracy: 0.9516 - val_loss: 2.4498 - val_mae: 0.2893 - val_accuracy: 0.7179\n",
      "Epoch 77/100\n",
      "313/313 [==============================] - 10s 33ms/step - loss: 0.0747 - mae: 0.0505 - accuracy: 0.9535 - val_loss: 2.5820 - val_mae: 0.2778 - val_accuracy: 0.7282\n",
      "Epoch 78/100\n",
      "313/313 [==============================] - 11s 35ms/step - loss: 0.0690 - mae: 0.0479 - accuracy: 0.9567 - val_loss: 2.4493 - val_mae: 0.2863 - val_accuracy: 0.7179\n",
      "Epoch 79/100\n",
      "313/313 [==============================] - 9s 29ms/step - loss: 0.0677 - mae: 0.0476 - accuracy: 0.9577 - val_loss: 2.6405 - val_mae: 0.2824 - val_accuracy: 0.7179\n",
      "Epoch 80/100\n",
      "313/313 [==============================] - 14s 45ms/step - loss: 0.0668 - mae: 0.0468 - accuracy: 0.9580 - val_loss: 2.7317 - val_mae: 0.2828 - val_accuracy: 0.7190\n",
      "Epoch 81/100\n",
      "313/313 [==============================] - 10s 32ms/step - loss: 0.0668 - mae: 0.0467 - accuracy: 0.9566 - val_loss: 2.7580 - val_mae: 0.2782 - val_accuracy: 0.7259\n",
      "Epoch 82/100\n",
      "313/313 [==============================] - 9s 30ms/step - loss: 0.0664 - mae: 0.0467 - accuracy: 0.9558 - val_loss: 2.8413 - val_mae: 0.2782 - val_accuracy: 0.7248\n",
      "Epoch 83/100\n",
      "313/313 [==============================] - 10s 33ms/step - loss: 0.0667 - mae: 0.0470 - accuracy: 0.9543 - val_loss: 2.9205 - val_mae: 0.2790 - val_accuracy: 0.7225\n",
      "Epoch 84/100\n",
      "313/313 [==============================] - 10s 31ms/step - loss: 0.0662 - mae: 0.0464 - accuracy: 0.9577 - val_loss: 2.8388 - val_mae: 0.2757 - val_accuracy: 0.7294\n",
      "Epoch 85/100\n",
      "313/313 [==============================] - 12s 39ms/step - loss: 0.0701 - mae: 0.0488 - accuracy: 0.9548 - val_loss: 2.6960 - val_mae: 0.2826 - val_accuracy: 0.7202\n",
      "Epoch 86/100\n",
      "313/313 [==============================] - 9s 28ms/step - loss: 0.0678 - mae: 0.0470 - accuracy: 0.9592 - val_loss: 2.7261 - val_mae: 0.2814 - val_accuracy: 0.7236\n",
      "Epoch 87/100\n",
      "313/313 [==============================] - 9s 30ms/step - loss: 0.0664 - mae: 0.0468 - accuracy: 0.9567 - val_loss: 2.6872 - val_mae: 0.2742 - val_accuracy: 0.7339\n",
      "Epoch 88/100\n",
      "313/313 [==============================] - 9s 29ms/step - loss: 0.0656 - mae: 0.0462 - accuracy: 0.9551 - val_loss: 2.7715 - val_mae: 0.2715 - val_accuracy: 0.7317\n",
      "Epoch 89/100\n",
      "313/313 [==============================] - 10s 30ms/step - loss: 0.0654 - mae: 0.0458 - accuracy: 0.9587 - val_loss: 2.8287 - val_mae: 0.2752 - val_accuracy: 0.7271\n",
      "Epoch 90/100\n",
      "313/313 [==============================] - 9s 28ms/step - loss: 0.0653 - mae: 0.0460 - accuracy: 0.9581 - val_loss: 2.8231 - val_mae: 0.2758 - val_accuracy: 0.7282\n",
      "Epoch 91/100\n",
      "313/313 [==============================] - 10s 31ms/step - loss: 0.0654 - mae: 0.0458 - accuracy: 0.9565 - val_loss: 2.8057 - val_mae: 0.2727 - val_accuracy: 0.7328\n",
      "Epoch 92/100\n",
      "313/313 [==============================] - 9s 28ms/step - loss: 0.0647 - mae: 0.0456 - accuracy: 0.9586 - val_loss: 2.9435 - val_mae: 0.2797 - val_accuracy: 0.7248\n",
      "Epoch 93/100\n"
     ]
    },
    {
     "name": "stdout",
     "output_type": "stream",
     "text": [
      "313/313 [==============================] - 8s 27ms/step - loss: 0.0647 - mae: 0.0453 - accuracy: 0.9568 - val_loss: 2.9157 - val_mae: 0.2757 - val_accuracy: 0.7236\n",
      "Epoch 94/100\n",
      "313/313 [==============================] - 8s 25ms/step - loss: 0.0751 - mae: 0.0487 - accuracy: 0.9554 - val_loss: 2.6177 - val_mae: 0.2737 - val_accuracy: 0.7305\n",
      "Epoch 95/100\n",
      "313/313 [==============================] - 8s 27ms/step - loss: 0.0695 - mae: 0.0477 - accuracy: 0.9556 - val_loss: 2.6195 - val_mae: 0.2764 - val_accuracy: 0.7236\n",
      "Epoch 96/100\n",
      "313/313 [==============================] - 9s 30ms/step - loss: 0.0667 - mae: 0.0467 - accuracy: 0.9571 - val_loss: 2.5159 - val_mae: 0.2844 - val_accuracy: 0.7190\n",
      "Epoch 97/100\n",
      "313/313 [==============================] - 8s 26ms/step - loss: 0.0641 - mae: 0.0456 - accuracy: 0.9578 - val_loss: 2.5690 - val_mae: 0.2747 - val_accuracy: 0.7294\n",
      "Epoch 98/100\n",
      "313/313 [==============================] - 8s 27ms/step - loss: 0.0643 - mae: 0.0453 - accuracy: 0.9557 - val_loss: 2.6036 - val_mae: 0.2732 - val_accuracy: 0.7294\n",
      "Epoch 99/100\n",
      "313/313 [==============================] - 10s 31ms/step - loss: 0.0636 - mae: 0.0451 - accuracy: 0.9585 - val_loss: 2.6196 - val_mae: 0.2702 - val_accuracy: 0.7259\n",
      "Epoch 100/100\n",
      "313/313 [==============================] - 8s 27ms/step - loss: 0.0637 - mae: 0.0448 - accuracy: 0.9587 - val_loss: 2.7024 - val_mae: 0.2716 - val_accuracy: 0.7294\n"
     ]
    },
    {
     "data": {
      "image/png": "[encoded data removed]",
      "text/plain": [
       "<Figure size 432x288 with 1 Axes>"
      ]
     },
     "metadata": {
      "needs_background": "light"
     },
     "output_type": "display_data"
    },
    {
     "data": {
      "image/png": "[encoded data removed]",
      "text/plain": [
       "<Figure size 432x288 with 1 Axes>"
      ]
     },
     "metadata": {
      "needs_background": "light"
     },
     "output_type": "display_data"
    },
    {
     "name": "stdout",
     "output_type": "stream",
     "text": [
      "I loved this movie\n",
      "[0.5898132]\n",
      "\n",
      "\n",
      "that was the worst movie I've ever seen\n",
      "[7.105778e-05]\n",
      "\n",
      "\n",
      "too much violence even for a Bond film\n",
      "[0.00110909]\n",
      "\n",
      "\n",
      "a captivating recounting of a cherished myth\n",
      "[0.99999547]\n",
      "\n",
      "\n"
     ]
    }
   ],
   "source": [
    "#Ading a Bidirectional LSTM Layer\n",
    "model_LSTM = tf.keras.Sequential()\n",
    "model_LSTM.add(tf.keras.layers.Embedding(vocab_size, embedding_dim, input_length = max_length))\n",
    "model_LSTM.add(tf.keras.layers.Bidirectional(tf.keras.layers.LSTM(embedding_dim)))\n",
    "model_LSTM.add(tf.keras.layers.Dense(units = 1, activation = 'sigmoid'))\n",
    "model_LSTM.compile(optimizer=tf.keras.optimizers.Adam(), loss=tf.keras.losses.BinaryCrossentropy(from_logits=True), metrics = ['mae', 'accuracy'])\n",
    "fit_and_showResult(model_LSTM, new_reviews)"
   ]
  },
  {
   "cell_type": "code",
   "execution_count": null,
   "id": "593a95ce",
   "metadata": {},
   "outputs": [],
   "source": [
    "#Ading Multiple Bidirectional LSTM Layer\n",
    "model_BI = tf.keras.Sequential()\n",
    "model_BI.add(tf.keras.layers.Embedding(vocab_size, embedding_dim, input_length = max_length))\n",
    "model_BI.add(tf.keras.layers.Bidirectional(tf.keras.layers.LSTM(embedding_dim, return_sequences = True)))\n",
    "model_BI.add(tf.keras.layers.Bidirectional(tf.keras.layers.LSTM(embedding_dim)))\n",
    "model_BI.add(tf.keras.layers.Dense(units = 1, activation = 'sigmoid'))\n",
    "model_BI.compile(optimizer=tf.keras.optimizers.Adam(), loss=tf.keras.losses.BinaryCrossentropy(from_logits=True), metrics = ['accuracy'])\n",
    "fit_and_showResult(model_BI, new_reviews)"
   ]
  }
 ],
 "metadata": {
  "kernelspec": {
   "display_name": "Python 3",
   "language": "python",
   "name": "python3"
  },
  "language_info": {
   "codemirror_mode": {
    "name": "ipython",
    "version": 3
   },
   "file_extension": ".py",
   "mimetype": "text/x-python",
   "name": "python",
   "nbconvert_exporter": "python",
   "pygments_lexer": "ipython3",
   "version": "3.8.8"
  }
 },
 "nbformat": 4,
 "nbformat_minor": 5
}
