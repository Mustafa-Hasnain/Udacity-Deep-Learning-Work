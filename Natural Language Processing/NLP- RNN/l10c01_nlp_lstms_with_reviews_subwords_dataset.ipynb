{
  "nbformat": 4,
  "nbformat_minor": 0,
  "metadata": {
    "accelerator": "GPU",
    "colab": {
      "name": "l10c01_nlp_lstms_with_reviews_subwords_dataset.ipynb",
      "provenance": [],
      "toc_visible": true
    },
    "kernelspec": {
      "display_name": "Python 3",
      "name": "python3"
    }
  },
  "cells": [
    {
      "cell_type": "markdown",
      "metadata": {
        "id": "punL79CN7Ox6"
      },
      "source": [
        "##### Copyright 2020 The TensorFlow Authors."
      ]
    },
    {
      "cell_type": "code",
      "metadata": {
        "cellView": "form",
        "id": "_ckMIh7O7s6D"
      },
      "source": [
        "#@title Licensed under the Apache License, Version 2.0 (the \"License\");\n",
        "# you may not use this file except in compliance with the License.\n",
        "# You may obtain a copy of the License at\n",
        "#\n",
        "# https://www.apache.org/licenses/LICENSE-2.0\n",
        "#\n",
        "# Unless required by applicable law or agreed to in writing, software\n",
        "# distributed under the License is distributed on an \"AS IS\" BASIS,\n",
        "# WITHOUT WARRANTIES OR CONDITIONS OF ANY KIND, either express or implied.\n",
        "# See the License for the specific language governing permissions and\n",
        "# limitations under the License."
      ],
      "execution_count": 1,
      "outputs": []
    },
    {
      "cell_type": "markdown",
      "metadata": {
        "id": "hAclqSm3OOml"
      },
      "source": [
        "# Using LSTMs with the subwords dataset\n"
      ]
    },
    {
      "cell_type": "markdown",
      "metadata": {
        "id": "S5Uhzt6vVIB2"
      },
      "source": [
        "<table class=\"tfo-notebook-buttons\" align=\"left\">\n",
        "  <td>\n",
        "    <a target=\"_blank\" href=\"https://colab.research.google.com/github/tensorflow/examples/blob/master/courses/udacity_intro_to_tensorflow_for_deep_learning/l10c01_nlp_lstms_with_reviews_subwords_dataset.ipynb\"><img src=\"https://www.tensorflow.org/images/colab_logo_32px.png\" />Run in Google Colab</a>\n",
        "  </td>\n",
        "  <td>\n",
        "    <a target=\"_blank\" href=\"https://github.com/tensorflow/examples/blob/master/courses/udacity_intro_to_tensorflow_for_deep_learning/l10c01_nlp_lstms_with_reviews_subwords_dataset.ipynb\"><img src=\"https://www.tensorflow.org/images/GitHub-Mark-32px.png\" />View source on GitHub</a>\n",
        "  </td>\n",
        "</table>"
      ]
    },
    {
      "cell_type": "markdown",
      "metadata": {
        "id": "KTVx8__oGR9J"
      },
      "source": [
        "In this colab, you'll compare the results of using a model with an Embedding layer and then adding bidirectional LSTM layers.\n",
        "\n",
        "You'll work with the dataset of subwords for the combined Yelp and Amazon reviews.\n",
        "\n",
        "You'll use your models to predict the sentiment of new reviews."
      ]
    },
    {
      "cell_type": "code",
      "metadata": {
        "id": "L62G7LTwNzoD"
      },
      "source": [
        "import tensorflow as tf\n",
        "\n",
        "from tensorflow.keras.preprocessing.sequence import pad_sequences"
      ],
      "execution_count": 2,
      "outputs": []
    },
    {
      "cell_type": "markdown",
      "metadata": {
        "id": "hLcl0QHvDjTV"
      },
      "source": [
        "# Get the dataset\n",
        "\n",
        "Start by getting the dataset containing Amazon and Yelp reviews, with their related sentiment (1 for positive, 0 for negative). This dataset was originally extracted from [here](https://www.kaggle.com/marklvl/sentiment-labelled-sentences-data-set).\n"
      ]
    },
    {
      "cell_type": "code",
      "metadata": {
        "id": "nCOtiRJZbxCH",
        "outputId": "b369c990-17ba-49e4-9f9a-0a531b1ff112",
        "colab": {
          "base_uri": "https://localhost:8080/"
        }
      },
      "source": [
        "!wget --no-check-certificate \\\n",
        "    https://drive.google.com/uc?id=13ySLC_ue6Umt9RJYSeM2t-V0kCv-4C-P -O /tmp/sentiment.csv"
      ],
      "execution_count": 3,
      "outputs": [
        {
          "output_type": "stream",
          "name": "stdout",
          "text": [
            "--2021-11-21 16:31:55--  https://drive.google.com/uc?id=13ySLC_ue6Umt9RJYSeM2t-V0kCv-4C-P\n",
            "Resolving drive.google.com (drive.google.com)... 74.125.124.102, 74.125.124.101, 74.125.124.138, ...\n",
            "Connecting to drive.google.com (drive.google.com)|74.125.124.102|:443... connected.\n",
            "HTTP request sent, awaiting response... 302 Moved Temporarily\n",
            "Location: https://doc-08-ak-docs.googleusercontent.com/docs/securesc/ha0ro937gcuc7l7deffksulhg5h7mbp1/dus69kaljr991oimeggscfarrc14itd6/1637512275000/11118900490791463723/*/13ySLC_ue6Umt9RJYSeM2t-V0kCv-4C-P [following]\n",
            "Warning: wildcards not supported in HTTP.\n",
            "--2021-11-21 16:31:55--  https://doc-08-ak-docs.googleusercontent.com/docs/securesc/ha0ro937gcuc7l7deffksulhg5h7mbp1/dus69kaljr991oimeggscfarrc14itd6/1637512275000/11118900490791463723/*/13ySLC_ue6Umt9RJYSeM2t-V0kCv-4C-P\n",
            "Resolving doc-08-ak-docs.googleusercontent.com (doc-08-ak-docs.googleusercontent.com)... 108.177.120.132, 2607:f8b0:4001:c18::84\n",
            "Connecting to doc-08-ak-docs.googleusercontent.com (doc-08-ak-docs.googleusercontent.com)|108.177.120.132|:443... connected.\n",
            "HTTP request sent, awaiting response... 200 OK\n",
            "Length: 127831 (125K) [text/csv]\n",
            "Saving to: ‘/tmp/sentiment.csv’\n",
            "\n",
            "/tmp/sentiment.csv  100%[===================>] 124.83K  --.-KB/s    in 0.001s  \n",
            "\n",
            "2021-11-21 16:31:55 (87.8 MB/s) - ‘/tmp/sentiment.csv’ saved [127831/127831]\n",
            "\n"
          ]
        }
      ]
    },
    {
      "cell_type": "code",
      "metadata": {
        "id": "XuqER_KMD-xS"
      },
      "source": [
        "import pandas as pd\n",
        "\n",
        "dataset = pd.read_csv('/tmp/sentiment.csv')\n",
        "\n",
        "# Extract out sentences and labels\n",
        "sentences = dataset['text'].tolist()\n",
        "labels = dataset['sentiment'].tolist()"
      ],
      "execution_count": 4,
      "outputs": []
    },
    {
      "cell_type": "code",
      "metadata": {
        "id": "Tbsx1T2CXPNO",
        "outputId": "10298c58-043a-4ea5-9b78-324f51ad2c2f",
        "colab": {
          "base_uri": "https://localhost:8080/"
        }
      },
      "source": [
        "# Print some example sentences and labels\n",
        "for x in range(2):\n",
        "  print(sentences[x])\n",
        "  print(labels[x])\n",
        "  print(\"\\n\")"
      ],
      "execution_count": 5,
      "outputs": [
        {
          "output_type": "stream",
          "name": "stdout",
          "text": [
            "So there is no way for me to plug it in here in the US unless I go by a converter.\n",
            "0\n",
            "\n",
            "\n",
            "Good case Excellent value.\n",
            "1\n",
            "\n",
            "\n"
          ]
        }
      ]
    },
    {
      "cell_type": "markdown",
      "metadata": {
        "id": "33AthPiALFZK"
      },
      "source": [
        "#Create a subwords dataset\n",
        "\n",
        "We will use the Amazon and Yelp reviews dataset with tensorflow_datasets's SubwordTextEncoder functionality. \n",
        "\n",
        "SubwordTextEncoder.build_from_corpus() will create a tokenizer for us. You could also use this functionality to get subwords from a much larger corpus of text as well, but we'll just use our existing dataset here.\n",
        "\n",
        "We'll create a subword vocab_size of only the 1,000 most common subwords, as well as cutting off each subword to be at most 5 characters.\n",
        "\n",
        "Check out the related documentation for the the subword text encoder [here](https://www.tensorflow.org/datasets/api_docs/python/tfds/features/text/SubwordTextEncoder#build_from_corpus)."
      ]
    },
    {
      "cell_type": "code",
      "metadata": {
        "id": "6NaicNCcLYyf",
        "outputId": "9b4fdad7-cca0-4edb-c1d3-c9bf0788550f",
        "colab": {
          "base_uri": "https://localhost:8080/"
        }
      },
      "source": [
        "import tensorflow_datasets as tfds\n",
        "\n",
        "vocab_size = 1000\n",
        "tokenizer = tfds.deprecated.text.SubwordTextEncoder.build_from_corpus(sentences, vocab_size, max_subword_length=5)\n",
        "\n",
        "# How big is the vocab size?\n",
        "print(\"Vocab size is \", tokenizer.vocab_size)"
      ],
      "execution_count": 6,
      "outputs": [
        {
          "output_type": "stream",
          "name": "stdout",
          "text": [
            "Vocab size is  999\n"
          ]
        }
      ]
    },
    {
      "cell_type": "code",
      "metadata": {
        "id": "xvRVoeIVLevh",
        "outputId": "f6a0c183-2f46-4c0e-ba33-25f77420fafd",
        "colab": {
          "base_uri": "https://localhost:8080/"
        }
      },
      "source": [
        "# Check that the tokenizer works appropriately\n",
        "num = 5\n",
        "print(sentences[num])\n",
        "encoded = tokenizer.encode(sentences[num])\n",
        "print(encoded)"
      ],
      "execution_count": 7,
      "outputs": [
        {
          "output_type": "stream",
          "name": "stdout",
          "text": [
            "I have to jiggle the plug to get it to line up right to get decent volume.\n",
            "[4, 31, 6, 849, 162, 450, 12, 1, 600, 438, 775, 6, 175, 14, 6, 55, 213, 159, 474, 775, 6, 175, 614, 380, 295, 148, 72, 789]\n"
          ]
        }
      ]
    },
    {
      "cell_type": "code",
      "metadata": {
        "id": "G_vacTCifklV",
        "outputId": "598b542e-0623-437b-9fb2-c639590fd109",
        "colab": {
          "base_uri": "https://localhost:8080/"
        }
      },
      "source": [
        "# Separately print out each subword, decoded\n",
        "for i in encoded:\n",
        "  print(tokenizer.decode([i]))"
      ],
      "execution_count": 8,
      "outputs": [
        {
          "output_type": "stream",
          "name": "stdout",
          "text": [
            "I \n",
            "have \n",
            "to \n",
            "j\n",
            "ig\n",
            "gl\n",
            "e \n",
            "the \n",
            "pl\n",
            "ug\n",
            " \n",
            "to \n",
            "get \n",
            "it \n",
            "to \n",
            "li\n",
            "ne \n",
            "up \n",
            "right\n",
            " \n",
            "to \n",
            "get \n",
            "dec\n",
            "ent \n",
            "vo\n",
            "lu\n",
            "me\n",
            ".\n"
          ]
        }
      ]
    },
    {
      "cell_type": "markdown",
      "metadata": {
        "id": "cT528cptLupl"
      },
      "source": [
        "## Replace sentence data with encoded subwords\n",
        "\n",
        "Now, we'll create the sequences to be used for training by actually encoding each of the individual sentences. This is equivalent to `text_to_sequences` with the `Tokenizer` we used in earlier exercises."
      ]
    },
    {
      "cell_type": "code",
      "metadata": {
        "id": "lkseMhxjL09F"
      },
      "source": [
        "for i, sentence in enumerate(sentences):\n",
        "  sentences[i] = tokenizer.encode(sentence)"
      ],
      "execution_count": 9,
      "outputs": []
    },
    {
      "cell_type": "code",
      "metadata": {
        "id": "y21yRuzmL43U",
        "outputId": "1ae78056-a3b6-4163-825e-a475b1bb9649",
        "colab": {
          "base_uri": "https://localhost:8080/"
        }
      },
      "source": [
        "# Check the sentences are appropriately replaced\n",
        "print(sentences[5])"
      ],
      "execution_count": 10,
      "outputs": [
        {
          "output_type": "stream",
          "name": "stdout",
          "text": [
            "[4, 31, 6, 849, 162, 450, 12, 1, 600, 438, 775, 6, 175, 14, 6, 55, 213, 159, 474, 775, 6, 175, 614, 380, 295, 148, 72, 789]\n"
          ]
        }
      ]
    },
    {
      "cell_type": "markdown",
      "metadata": {
        "id": "8HrcPHESMBMs"
      },
      "source": [
        "## Final pre-processing\n",
        "\n",
        "Before training, we still need to pad the sequences, as well as split into training and test sets."
      ]
    },
    {
      "cell_type": "code",
      "metadata": {
        "id": "50-hTsogLSL-"
      },
      "source": [
        "import numpy as np\n",
        "\n",
        "max_length = 50\n",
        "trunc_type='post'\n",
        "padding_type='post'\n",
        "\n",
        "# Pad all sequences\n",
        "sequences_padded = pad_sequences(sentences, maxlen=max_length, \n",
        "                                 padding=padding_type, truncating=trunc_type)\n",
        "\n",
        "# Separate out the sentences and labels into training and test sets\n",
        "training_size = int(len(sentences) * 0.8)\n",
        "\n",
        "training_sequences = sequences_padded[0:training_size]\n",
        "testing_sequences = sequences_padded[training_size:]\n",
        "training_labels = labels[0:training_size]\n",
        "testing_labels = labels[training_size:]\n",
        "\n",
        "# Make labels into numpy arrays for use with the network later\n",
        "training_labels_final = np.array(training_labels)\n",
        "testing_labels_final = np.array(testing_labels)"
      ],
      "execution_count": 11,
      "outputs": []
    },
    {
      "cell_type": "markdown",
      "metadata": {
        "id": "PahZm7YEQ8EI"
      },
      "source": [
        "# Create the model using an Embedding"
      ]
    },
    {
      "cell_type": "code",
      "metadata": {
        "id": "c_nyQeI0RCCv",
        "outputId": "40104494-a8bb-43cc-f4c6-91a4b49ef84a",
        "colab": {
          "base_uri": "https://localhost:8080/"
        }
      },
      "source": [
        "embedding_dim = 16\n",
        "\n",
        "model = tf.keras.Sequential([\n",
        "    tf.keras.layers.Embedding(vocab_size, embedding_dim, input_length=max_length),\n",
        "    tf.keras.layers.GlobalAveragePooling1D(), \n",
        "    tf.keras.layers.Dense(6, activation='relu'),\n",
        "    tf.keras.layers.Dense(1, activation='sigmoid')\n",
        "])\n",
        "\n",
        "model.summary()"
      ],
      "execution_count": 12,
      "outputs": [
        {
          "output_type": "stream",
          "name": "stdout",
          "text": [
            "Model: \"sequential\"\n",
            "_________________________________________________________________\n",
            " Layer (type)                Output Shape              Param #   \n",
            "=================================================================\n",
            " embedding (Embedding)       (None, 50, 16)            16000     \n",
            "                                                                 \n",
            " global_average_pooling1d (G  (None, 16)               0         \n",
            " lobalAveragePooling1D)                                          \n",
            "                                                                 \n",
            " dense (Dense)               (None, 6)                 102       \n",
            "                                                                 \n",
            " dense_1 (Dense)             (None, 1)                 7         \n",
            "                                                                 \n",
            "=================================================================\n",
            "Total params: 16,109\n",
            "Trainable params: 16,109\n",
            "Non-trainable params: 0\n",
            "_________________________________________________________________\n"
          ]
        }
      ]
    },
    {
      "cell_type": "markdown",
      "metadata": {
        "id": "3WRXrx8BRO2L"
      },
      "source": [
        "# Train the model"
      ]
    },
    {
      "cell_type": "code",
      "metadata": {
        "id": "oBKyVYvxRQ_9",
        "outputId": "c1200d0e-31ab-4e58-c61c-99189047a776",
        "colab": {
          "base_uri": "https://localhost:8080/"
        }
      },
      "source": [
        "num_epochs = 30\n",
        "model.compile(loss='binary_crossentropy',optimizer='adam',metrics=['accuracy'])\n",
        "history = model.fit(training_sequences, training_labels_final, epochs=num_epochs, validation_data=(testing_sequences, testing_labels_final))\n"
      ],
      "execution_count": 13,
      "outputs": [
        {
          "output_type": "stream",
          "name": "stdout",
          "text": [
            "Epoch 1/30\n",
            "50/50 [==============================] - 4s 12ms/step - loss: 0.6907 - accuracy: 0.5242 - val_loss: 0.6992 - val_accuracy: 0.4236\n",
            "Epoch 2/30\n",
            "50/50 [==============================] - 0s 8ms/step - loss: 0.6863 - accuracy: 0.5424 - val_loss: 0.6972 - val_accuracy: 0.4612\n",
            "Epoch 3/30\n",
            "50/50 [==============================] - 0s 8ms/step - loss: 0.6797 - accuracy: 0.5782 - val_loss: 0.6972 - val_accuracy: 0.4662\n",
            "Epoch 4/30\n",
            "50/50 [==============================] - 0s 9ms/step - loss: 0.6691 - accuracy: 0.6196 - val_loss: 0.6923 - val_accuracy: 0.4987\n",
            "Epoch 5/30\n",
            "50/50 [==============================] - 0s 7ms/step - loss: 0.6518 - accuracy: 0.6296 - val_loss: 0.6685 - val_accuracy: 0.5714\n",
            "Epoch 6/30\n",
            "50/50 [==============================] - 0s 7ms/step - loss: 0.6277 - accuracy: 0.7094 - val_loss: 0.6447 - val_accuracy: 0.6617\n",
            "Epoch 7/30\n",
            "50/50 [==============================] - 0s 8ms/step - loss: 0.5921 - accuracy: 0.7646 - val_loss: 0.6193 - val_accuracy: 0.6967\n",
            "Epoch 8/30\n",
            "50/50 [==============================] - 0s 7ms/step - loss: 0.5506 - accuracy: 0.8079 - val_loss: 0.6126 - val_accuracy: 0.6391\n",
            "Epoch 9/30\n",
            "50/50 [==============================] - 0s 9ms/step - loss: 0.5082 - accuracy: 0.8161 - val_loss: 0.5776 - val_accuracy: 0.7093\n",
            "Epoch 10/30\n",
            "50/50 [==============================] - 0s 7ms/step - loss: 0.4673 - accuracy: 0.8343 - val_loss: 0.5470 - val_accuracy: 0.7393\n",
            "Epoch 11/30\n",
            "50/50 [==============================] - 0s 8ms/step - loss: 0.4323 - accuracy: 0.8562 - val_loss: 0.5552 - val_accuracy: 0.7168\n",
            "Epoch 12/30\n",
            "50/50 [==============================] - 0s 7ms/step - loss: 0.3975 - accuracy: 0.8675 - val_loss: 0.5124 - val_accuracy: 0.7644\n",
            "Epoch 13/30\n",
            "50/50 [==============================] - 0s 8ms/step - loss: 0.3702 - accuracy: 0.8763 - val_loss: 0.5118 - val_accuracy: 0.7419\n",
            "Epoch 14/30\n",
            "50/50 [==============================] - 0s 7ms/step - loss: 0.3455 - accuracy: 0.8801 - val_loss: 0.5118 - val_accuracy: 0.7494\n",
            "Epoch 15/30\n",
            "50/50 [==============================] - 0s 7ms/step - loss: 0.3242 - accuracy: 0.8883 - val_loss: 0.5267 - val_accuracy: 0.7469\n",
            "Epoch 16/30\n",
            "50/50 [==============================] - 0s 7ms/step - loss: 0.3061 - accuracy: 0.8895 - val_loss: 0.5122 - val_accuracy: 0.7519\n",
            "Epoch 17/30\n",
            "50/50 [==============================] - 0s 8ms/step - loss: 0.2885 - accuracy: 0.8983 - val_loss: 0.5088 - val_accuracy: 0.7494\n",
            "Epoch 18/30\n",
            "50/50 [==============================] - 0s 8ms/step - loss: 0.2751 - accuracy: 0.9040 - val_loss: 0.5099 - val_accuracy: 0.7519\n",
            "Epoch 19/30\n",
            "50/50 [==============================] - 0s 8ms/step - loss: 0.2621 - accuracy: 0.9090 - val_loss: 0.5138 - val_accuracy: 0.7469\n",
            "Epoch 20/30\n",
            "50/50 [==============================] - 0s 7ms/step - loss: 0.2480 - accuracy: 0.9203 - val_loss: 0.5333 - val_accuracy: 0.7494\n",
            "Epoch 21/30\n",
            "50/50 [==============================] - 0s 8ms/step - loss: 0.2382 - accuracy: 0.9209 - val_loss: 0.5139 - val_accuracy: 0.7494\n",
            "Epoch 22/30\n",
            "50/50 [==============================] - 0s 8ms/step - loss: 0.2273 - accuracy: 0.9278 - val_loss: 0.5533 - val_accuracy: 0.7419\n",
            "Epoch 23/30\n",
            "50/50 [==============================] - 0s 8ms/step - loss: 0.2181 - accuracy: 0.9297 - val_loss: 0.5478 - val_accuracy: 0.7494\n",
            "Epoch 24/30\n",
            "50/50 [==============================] - 0s 8ms/step - loss: 0.2092 - accuracy: 0.9335 - val_loss: 0.5347 - val_accuracy: 0.7519\n",
            "Epoch 25/30\n",
            "50/50 [==============================] - 0s 8ms/step - loss: 0.2013 - accuracy: 0.9328 - val_loss: 0.5547 - val_accuracy: 0.7444\n",
            "Epoch 26/30\n",
            "50/50 [==============================] - 0s 7ms/step - loss: 0.1934 - accuracy: 0.9385 - val_loss: 0.5687 - val_accuracy: 0.7419\n",
            "Epoch 27/30\n",
            "50/50 [==============================] - 0s 7ms/step - loss: 0.1873 - accuracy: 0.9385 - val_loss: 0.5655 - val_accuracy: 0.7393\n",
            "Epoch 28/30\n",
            "50/50 [==============================] - 0s 7ms/step - loss: 0.1793 - accuracy: 0.9429 - val_loss: 0.5735 - val_accuracy: 0.7544\n",
            "Epoch 29/30\n",
            "50/50 [==============================] - 0s 8ms/step - loss: 0.1736 - accuracy: 0.9517 - val_loss: 0.5763 - val_accuracy: 0.7569\n",
            "Epoch 30/30\n",
            "50/50 [==============================] - 0s 7ms/step - loss: 0.1674 - accuracy: 0.9542 - val_loss: 0.5905 - val_accuracy: 0.7569\n"
          ]
        }
      ]
    },
    {
      "cell_type": "markdown",
      "metadata": {
        "id": "HhLPbUl2AZ0y"
      },
      "source": [
        "# Plot the accuracy and loss"
      ]
    },
    {
      "cell_type": "code",
      "metadata": {
        "id": "jzBM1PpJAYfD",
        "outputId": "de52d126-7878-4f44-c233-1bfa24476b14",
        "colab": {
          "base_uri": "https://localhost:8080/",
          "height": 541
        }
      },
      "source": [
        "import matplotlib.pyplot as plt\n",
        "\n",
        "\n",
        "def plot_graphs(history, string):\n",
        "  plt.plot(history.history[string])\n",
        "  plt.plot(history.history['val_'+string])\n",
        "  plt.xlabel(\"Epochs\")\n",
        "  plt.ylabel(string)\n",
        "  plt.legend([string, 'val_'+string])\n",
        "  plt.show()\n",
        "  \n",
        "plot_graphs(history, \"accuracy\")\n",
        "plot_graphs(history, \"loss\")"
      ],
      "execution_count": 14,
      "outputs": [
        {
          "output_type": "display_data",
          "data": {
            "image/png": "[encoded data removed]",
            "text/plain": [
              "<Figure size 432x288 with 1 Axes>"
            ]
          },
          "metadata": {
            "needs_background": "light"
          }
        },
        {
          "output_type": "display_data",
          "data": {
            "image/png": "[encoded data removed]",
            "text/plain": [
              "<Figure size 432x288 with 1 Axes>"
            ]
          },
          "metadata": {
            "needs_background": "light"
          }
        }
      ]
    },
    {
      "cell_type": "markdown",
      "metadata": {
        "id": "Fwr5inBiWffb"
      },
      "source": [
        "# Define a function to predict the sentiment of reviews\n",
        "\n",
        "We'll be creating models with some differences and will use each model to predict the sentiment of some new reviews.\n",
        "\n",
        "To save time, create a function that will take in a model and some new reviews, and print out the sentiment of each reviews.\n",
        "\n",
        "The higher the sentiment value is to 1, the more positive the review is."
      ]
    },
    {
      "cell_type": "code",
      "metadata": {
        "id": "aPNOYiiaha2y"
      },
      "source": [
        "# Define a function to take a series of reviews\n",
        "# and predict whether each one is a positive or negative review\n",
        "\n",
        "# max_length = 100 # previously defined\n",
        "\n",
        "def predict_review(model, new_sentences, maxlen=max_length, show_padded_sequence=True ):\n",
        "  # Keep the original sentences so that we can keep using them later\n",
        "  # Create an array to hold the encoded sequences\n",
        "  new_sequences = []\n",
        "\n",
        "  # Convert the new reviews to sequences\n",
        "  for i, frvw in enumerate(new_sentences):\n",
        "    new_sequences.append(tokenizer.encode(frvw))\n",
        "\n",
        "  trunc_type='post' \n",
        "  padding_type='post'\n",
        "\n",
        "  # Pad all sequences for the new reviews\n",
        "  new_reviews_padded = pad_sequences(new_sequences, maxlen=max_length, \n",
        "                                 padding=padding_type, truncating=trunc_type)             \n",
        "\n",
        "  classes = model.predict(new_reviews_padded)\n",
        "\n",
        "  # The closer the class is to 1, the more positive the review is\n",
        "  for x in range(len(new_sentences)):\n",
        "    \n",
        "    # We can see the padded sequence if desired\n",
        "    # Print the sequence\n",
        "    if (show_padded_sequence):\n",
        "      print(new_reviews_padded[x])\n",
        "    # Print the review as text\n",
        "    print(new_sentences[x])\n",
        "    # Print its predicted class\n",
        "    print(classes[x])\n",
        "    print(\"\\n\")"
      ],
      "execution_count": 15,
      "outputs": []
    },
    {
      "cell_type": "code",
      "metadata": {
        "id": "Qg-maex27KPW",
        "outputId": "cf26742e-d5e9-4554-aa1a-db966da5d90a",
        "colab": {
          "base_uri": "https://localhost:8080/"
        }
      },
      "source": [
        "# Use the model to predict some reviews   \n",
        "fake_reviews = [\"I love this phone\", \n",
        "                \"Everything was cold\",\n",
        "                \"Everything was hot exactly as I wanted\", \n",
        "                \"Everything was green\", \n",
        "                \"the host seated us immediately\",\n",
        "                \"they gave us free chocolate cake\", \n",
        "                \"we couldn't hear each other talk because of the shouting in the kitchen\"\n",
        "              ]\n",
        "\n",
        "predict_review(model, fake_reviews)\n"
      ],
      "execution_count": 16,
      "outputs": [
        {
          "output_type": "stream",
          "name": "stdout",
          "text": [
            "[  4 281  16  25   0   0   0   0   0   0   0   0   0   0   0   0   0   0\n",
            "   0   0   0   0   0   0   0   0   0   0   0   0   0   0   0   0   0   0\n",
            "   0   0   0   0   0   0   0   0   0   0   0   0   0   0]\n",
            "I love this phone\n",
            "[0.90090686]\n",
            "\n",
            "\n",
            "[812 227 864 100 775   9 525 843   0   0   0   0   0   0   0   0   0   0\n",
            "   0   0   0   0   0   0   0   0   0   0   0   0   0   0   0   0   0   0\n",
            "   0   0   0   0   0   0   0   0   0   0   0   0   0   0]\n",
            "Everything was cold\n",
            "[0.09197988]\n",
            "\n",
            "\n",
            "[812 227 864 100 775   9 109   8 333 731  24  61   4 171  59  77   0   0\n",
            "   0   0   0   0   0   0   0   0   0   0   0   0   0   0   0   0   0   0\n",
            "   0   0   0   0   0   0   0   0   0   0   0   0   0   0]\n",
            "Everything was hot exactly as I wanted\n",
            "[0.28812003]\n",
            "\n",
            "\n",
            "[812 227 864 100 775   9 157 359 853   0   0   0   0   0   0   0   0   0\n",
            "   0   0   0   0   0   0   0   0   0   0   0   0   0   0   0   0   0   0\n",
            "   0   0   0   0   0   0   0   0   0   0   0   0   0   0]\n",
            "Everything was green\n",
            "[0.07962261]\n",
            "\n",
            "\n",
            "[  1 109 228 540 237 635 241 423 340  89 298   0   0   0   0   0   0   0\n",
            "   0   0   0   0   0   0   0   0   0   0   0   0   0   0   0   0   0   0\n",
            "   0   0   0   0   0   0   0   0   0   0   0   0   0   0]\n",
            "the host seated us immediately\n",
            "[0.5087716]\n",
            "\n",
            "\n",
            "[154 242  47 635 341  12 569 547 147 319 775 125  85   0   0   0   0   0\n",
            "   0   0   0   0   0   0   0   0   0   0   0   0   0   0   0   0   0   0\n",
            "   0   0   0   0   0   0   0   0   0   0   0   0   0   0]\n",
            "they gave us free chocolate cake\n",
            "[0.70576584]\n",
            "\n",
            "\n",
            "[158 190 853 782   8 607 775 210 232 146 775 470  67 305 101  15   1 328\n",
            " 296  26  19   1 661 641 195   0   0   0   0   0   0   0   0   0   0   0\n",
            "   0   0   0   0   0   0   0   0   0   0   0   0   0   0]\n",
            "we couldn't hear each other talk because of the shouting in the kitchen\n",
            "[0.02423832]\n",
            "\n",
            "\n"
          ]
        }
      ]
    },
    {
      "cell_type": "markdown",
      "metadata": {
        "id": "ycJKbMq3K4iy"
      },
      "source": [
        "# Define a function to train and show the results of models with different layers\n",
        "\n",
        "In the rest of this colab, we will define models, and then see the results. \n",
        "\n",
        "Define a function that will take the model, compile it, train it, graph the accuracy and loss, and then predict some results."
      ]
    },
    {
      "cell_type": "code",
      "metadata": {
        "id": "PevUcINXK3gn"
      },
      "source": [
        "def fit_model_now (model, sentences) :\n",
        "  model.compile(loss='binary_crossentropy',optimizer='adam',metrics=['accuracy'])\n",
        "  model.summary()\n",
        "  history = model.fit(training_sequences, training_labels_final, epochs=num_epochs, \n",
        "                      validation_data=(testing_sequences, testing_labels_final))\n",
        "  return history\n",
        "\n",
        "def plot_results (history):\n",
        "  plot_graphs(history, \"accuracy\")\n",
        "  plot_graphs(history, \"loss\")\n",
        "\n",
        "def fit_model_and_show_results (model, sentences):\n",
        "  history = fit_model_now(model, sentences)\n",
        "  plot_results(history)\n",
        "  predict_review(model, sentences)"
      ],
      "execution_count": 17,
      "outputs": []
    },
    {
      "cell_type": "markdown",
      "metadata": {
        "id": "U13JBiJUG1oq"
      },
      "source": [
        "# Add a bidirectional LSTM\n",
        "\n",
        "Create a new model that uses a bidirectional LSTM.\n",
        "\n",
        "Then use the function we have already defined to compile the model, train it, graph the accuracy and loss, then predict some results."
      ]
    },
    {
      "cell_type": "code",
      "metadata": {
        "id": "scTUsFPAG4zP",
        "outputId": "7a171f88-664a-4b95-99af-a862f3394a15",
        "colab": {
          "base_uri": "https://localhost:8080/",
          "height": 1000
        }
      },
      "source": [
        "# Define the model\n",
        "model_bidi_lstm = tf.keras.Sequential([\n",
        "    tf.keras.layers.Embedding(vocab_size, embedding_dim, input_length=max_length),\n",
        "    tf.keras.layers.Bidirectional(tf.keras.layers.LSTM(embedding_dim)), \n",
        "    tf.keras.layers.Dense(6, activation='relu'), \n",
        "    tf.keras.layers.Dense(1, activation='sigmoid')\n",
        "])\n",
        "\n",
        "# Compile and train the model and then show the predictions for our extra sentences\n",
        "fit_model_and_show_results(model_bidi_lstm, fake_reviews)\n"
      ],
      "execution_count": 18,
      "outputs": [
        {
          "output_type": "stream",
          "name": "stdout",
          "text": [
            "Model: \"sequential_1\"\n",
            "_________________________________________________________________\n",
            " Layer (type)                Output Shape              Param #   \n",
            "=================================================================\n",
            " embedding_1 (Embedding)     (None, 50, 16)            16000     \n",
            "                                                                 \n",
            " bidirectional (Bidirectiona  (None, 32)               4224      \n",
            " l)                                                              \n",
            "                                                                 \n",
            " dense_2 (Dense)             (None, 6)                 198       \n",
            "                                                                 \n",
            " dense_3 (Dense)             (None, 1)                 7         \n",
            "                                                                 \n",
            "=================================================================\n",
            "Total params: 20,429\n",
            "Trainable params: 20,429\n",
            "Non-trainable params: 0\n",
            "_________________________________________________________________\n",
            "Epoch 1/30\n",
            "50/50 [==============================] - 9s 48ms/step - loss: 0.6874 - accuracy: 0.5399 - val_loss: 0.6948 - val_accuracy: 0.4336\n",
            "Epoch 2/30\n",
            "50/50 [==============================] - 1s 25ms/step - loss: 0.6055 - accuracy: 0.6773 - val_loss: 0.5774 - val_accuracy: 0.7118\n",
            "Epoch 3/30\n",
            "50/50 [==============================] - 1s 25ms/step - loss: 0.4467 - accuracy: 0.8023 - val_loss: 0.5027 - val_accuracy: 0.7619\n",
            "Epoch 4/30\n",
            "50/50 [==============================] - 1s 25ms/step - loss: 0.3234 - accuracy: 0.8782 - val_loss: 0.5343 - val_accuracy: 0.7619\n",
            "Epoch 5/30\n",
            "50/50 [==============================] - 1s 25ms/step - loss: 0.2554 - accuracy: 0.9058 - val_loss: 0.5905 - val_accuracy: 0.7519\n",
            "Epoch 6/30\n",
            "50/50 [==============================] - 1s 25ms/step - loss: 0.2120 - accuracy: 0.9266 - val_loss: 0.5891 - val_accuracy: 0.7469\n",
            "Epoch 7/30\n",
            "50/50 [==============================] - 1s 25ms/step - loss: 0.1836 - accuracy: 0.9341 - val_loss: 0.6775 - val_accuracy: 0.7569\n",
            "Epoch 8/30\n",
            "50/50 [==============================] - 1s 25ms/step - loss: 0.1575 - accuracy: 0.9479 - val_loss: 0.7433 - val_accuracy: 0.7619\n",
            "Epoch 9/30\n",
            "50/50 [==============================] - 1s 25ms/step - loss: 0.1355 - accuracy: 0.9661 - val_loss: 0.8566 - val_accuracy: 0.7594\n",
            "Epoch 10/30\n",
            "50/50 [==============================] - 1s 25ms/step - loss: 0.1147 - accuracy: 0.9699 - val_loss: 0.8833 - val_accuracy: 0.7619\n",
            "Epoch 11/30\n",
            "50/50 [==============================] - 1s 25ms/step - loss: 0.0952 - accuracy: 0.9755 - val_loss: 0.9877 - val_accuracy: 0.7619\n",
            "Epoch 12/30\n",
            "50/50 [==============================] - 1s 25ms/step - loss: 0.0876 - accuracy: 0.9774 - val_loss: 1.0546 - val_accuracy: 0.7594\n",
            "Epoch 13/30\n",
            "50/50 [==============================] - 1s 25ms/step - loss: 0.0855 - accuracy: 0.9824 - val_loss: 1.0276 - val_accuracy: 0.7519\n",
            "Epoch 14/30\n",
            "50/50 [==============================] - 1s 25ms/step - loss: 0.1062 - accuracy: 0.9674 - val_loss: 1.1884 - val_accuracy: 0.7519\n",
            "Epoch 15/30\n",
            "50/50 [==============================] - 1s 24ms/step - loss: 0.0958 - accuracy: 0.9730 - val_loss: 1.0518 - val_accuracy: 0.7393\n",
            "Epoch 16/30\n",
            "50/50 [==============================] - 1s 25ms/step - loss: 0.0638 - accuracy: 0.9856 - val_loss: 1.1758 - val_accuracy: 0.7569\n",
            "Epoch 17/30\n",
            "50/50 [==============================] - 1s 25ms/step - loss: 0.0532 - accuracy: 0.9900 - val_loss: 1.2425 - val_accuracy: 0.7644\n",
            "Epoch 18/30\n",
            "50/50 [==============================] - 1s 24ms/step - loss: 0.0438 - accuracy: 0.9937 - val_loss: 1.3483 - val_accuracy: 0.7519\n",
            "Epoch 19/30\n",
            "50/50 [==============================] - 1s 25ms/step - loss: 0.0389 - accuracy: 0.9937 - val_loss: 1.3983 - val_accuracy: 0.7544\n",
            "Epoch 20/30\n",
            "50/50 [==============================] - 1s 25ms/step - loss: 0.0360 - accuracy: 0.9937 - val_loss: 1.4433 - val_accuracy: 0.7494\n",
            "Epoch 21/30\n",
            "50/50 [==============================] - 1s 24ms/step - loss: 0.0339 - accuracy: 0.9944 - val_loss: 1.4655 - val_accuracy: 0.7494\n",
            "Epoch 22/30\n",
            "50/50 [==============================] - 1s 24ms/step - loss: 0.0323 - accuracy: 0.9950 - val_loss: 1.5430 - val_accuracy: 0.7544\n",
            "Epoch 23/30\n",
            "50/50 [==============================] - 1s 24ms/step - loss: 0.0307 - accuracy: 0.9950 - val_loss: 1.5408 - val_accuracy: 0.7419\n",
            "Epoch 24/30\n",
            "50/50 [==============================] - 1s 24ms/step - loss: 0.0297 - accuracy: 0.9950 - val_loss: 1.5898 - val_accuracy: 0.7469\n",
            "Epoch 25/30\n",
            "50/50 [==============================] - 1s 24ms/step - loss: 0.0263 - accuracy: 0.9962 - val_loss: 1.6358 - val_accuracy: 0.7469\n",
            "Epoch 26/30\n",
            "50/50 [==============================] - 1s 25ms/step - loss: 0.0255 - accuracy: 0.9962 - val_loss: 1.6237 - val_accuracy: 0.7419\n",
            "Epoch 27/30\n",
            "50/50 [==============================] - 1s 24ms/step - loss: 0.0246 - accuracy: 0.9962 - val_loss: 1.6673 - val_accuracy: 0.7393\n",
            "Epoch 28/30\n",
            "50/50 [==============================] - 1s 24ms/step - loss: 0.0241 - accuracy: 0.9962 - val_loss: 1.6826 - val_accuracy: 0.7393\n",
            "Epoch 29/30\n",
            "50/50 [==============================] - 1s 24ms/step - loss: 0.0224 - accuracy: 0.9962 - val_loss: 1.7703 - val_accuracy: 0.7444\n",
            "Epoch 30/30\n",
            "50/50 [==============================] - 1s 24ms/step - loss: 0.0245 - accuracy: 0.9950 - val_loss: 1.8813 - val_accuracy: 0.7519\n"
          ]
        },
        {
          "output_type": "display_data",
          "data": {
            "image/png": "[encoded data removed]",
            "text/plain": [
              "<Figure size 432x288 with 1 Axes>"
            ]
          },
          "metadata": {
            "needs_background": "light"
          }
        },
        {
          "output_type": "display_data",
          "data": {
            "image/png": "[encoded data removed]",
            "text/plain": [
              "<Figure size 432x288 with 1 Axes>"
            ]
          },
          "metadata": {
            "needs_background": "light"
          }
        },
        {
          "output_type": "stream",
          "name": "stdout",
          "text": [
            "[  4 281  16  25   0   0   0   0   0   0   0   0   0   0   0   0   0   0\n",
            "   0   0   0   0   0   0   0   0   0   0   0   0   0   0   0   0   0   0\n",
            "   0   0   0   0   0   0   0   0   0   0   0   0   0   0]\n",
            "I love this phone\n",
            "[0.99916875]\n",
            "\n",
            "\n",
            "[812 227 864 100 775   9 525 843   0   0   0   0   0   0   0   0   0   0\n",
            "   0   0   0   0   0   0   0   0   0   0   0   0   0   0   0   0   0   0\n",
            "   0   0   0   0   0   0   0   0   0   0   0   0   0   0]\n",
            "Everything was cold\n",
            "[0.01096578]\n",
            "\n",
            "\n",
            "[812 227 864 100 775   9 109   8 333 731  24  61   4 171  59  77   0   0\n",
            "   0   0   0   0   0   0   0   0   0   0   0   0   0   0   0   0   0   0\n",
            "   0   0   0   0   0   0   0   0   0   0   0   0   0   0]\n",
            "Everything was hot exactly as I wanted\n",
            "[0.5154916]\n",
            "\n",
            "\n",
            "[812 227 864 100 775   9 157 359 853   0   0   0   0   0   0   0   0   0\n",
            "   0   0   0   0   0   0   0   0   0   0   0   0   0   0   0   0   0   0\n",
            "   0   0   0   0   0   0   0   0   0   0   0   0   0   0]\n",
            "Everything was green\n",
            "[0.01056118]\n",
            "\n",
            "\n",
            "[  1 109 228 540 237 635 241 423 340  89 298   0   0   0   0   0   0   0\n",
            "   0   0   0   0   0   0   0   0   0   0   0   0   0   0   0   0   0   0\n",
            "   0   0   0   0   0   0   0   0   0   0   0   0   0   0]\n",
            "the host seated us immediately\n",
            "[0.9999645]\n",
            "\n",
            "\n",
            "[154 242  47 635 341  12 569 547 147 319 775 125  85   0   0   0   0   0\n",
            "   0   0   0   0   0   0   0   0   0   0   0   0   0   0   0   0   0   0\n",
            "   0   0   0   0   0   0   0   0   0   0   0   0   0   0]\n",
            "they gave us free chocolate cake\n",
            "[0.9822678]\n",
            "\n",
            "\n",
            "[158 190 853 782   8 607 775 210 232 146 775 470  67 305 101  15   1 328\n",
            " 296  26  19   1 661 641 195   0   0   0   0   0   0   0   0   0   0   0\n",
            "   0   0   0   0   0   0   0   0   0   0   0   0   0   0]\n",
            "we couldn't hear each other talk because of the shouting in the kitchen\n",
            "[0.00514965]\n",
            "\n",
            "\n"
          ]
        }
      ]
    },
    {
      "cell_type": "markdown",
      "metadata": {
        "id": "QsxKPbCnPJTj"
      },
      "source": [
        "# Use multiple bidirectional layers\n",
        "\n",
        "Now let's see if we get any improvements from adding another Bidirectional LSTM layer to the model.\n",
        "\n",
        "Notice that the first Bidirectionl LSTM layer returns a sequence."
      ]
    },
    {
      "cell_type": "code",
      "metadata": {
        "id": "3N6Zul47PMED",
        "outputId": "41f50c88-4372-4b8e-af78-b42c4417567a",
        "colab": {
          "base_uri": "https://localhost:8080/",
          "height": 1000
        }
      },
      "source": [
        "model_multiple_bidi_lstm = tf.keras.Sequential([\n",
        "    tf.keras.layers.Embedding(vocab_size, embedding_dim, input_length=max_length),\n",
        "    tf.keras.layers.Bidirectional(tf.keras.layers.LSTM(embedding_dim, \n",
        "                                                       return_sequences=True)), \n",
        "    tf.keras.layers.Bidirectional(tf.keras.layers.LSTM(embedding_dim)),\n",
        "    tf.keras.layers.Dense(6, activation='relu'),\n",
        "    tf.keras.layers.Dense(1, activation='sigmoid')\n",
        "])\n",
        "\n",
        "fit_model_and_show_results(model_multiple_bidi_lstm, fake_reviews)"
      ],
      "execution_count": 19,
      "outputs": [
        {
          "output_type": "stream",
          "name": "stdout",
          "text": [
            "Model: \"sequential_2\"\n",
            "_________________________________________________________________\n",
            " Layer (type)                Output Shape              Param #   \n",
            "=================================================================\n",
            " embedding_2 (Embedding)     (None, 50, 16)            16000     \n",
            "                                                                 \n",
            " bidirectional_1 (Bidirectio  (None, 50, 32)           4224      \n",
            " nal)                                                            \n",
            "                                                                 \n",
            " bidirectional_2 (Bidirectio  (None, 32)               6272      \n",
            " nal)                                                            \n",
            "                                                                 \n",
            " dense_4 (Dense)             (None, 6)                 198       \n",
            "                                                                 \n",
            " dense_5 (Dense)             (None, 1)                 7         \n",
            "                                                                 \n",
            "=================================================================\n",
            "Total params: 26,701\n",
            "Trainable params: 26,701\n",
            "Non-trainable params: 0\n",
            "_________________________________________________________________\n",
            "Epoch 1/30\n",
            "50/50 [==============================] - 11s 90ms/step - loss: 0.6920 - accuracy: 0.5223 - val_loss: 0.7003 - val_accuracy: 0.4110\n",
            "Epoch 2/30\n",
            "50/50 [==============================] - 2s 50ms/step - loss: 0.6722 - accuracy: 0.5587 - val_loss: 0.6562 - val_accuracy: 0.6366\n",
            "Epoch 3/30\n",
            "50/50 [==============================] - 2s 49ms/step - loss: 0.4955 - accuracy: 0.8023 - val_loss: 0.5090 - val_accuracy: 0.7694\n",
            "Epoch 4/30\n",
            "50/50 [==============================] - 2s 49ms/step - loss: 0.3489 - accuracy: 0.8569 - val_loss: 0.6342 - val_accuracy: 0.7594\n",
            "Epoch 5/30\n",
            "50/50 [==============================] - 2s 50ms/step - loss: 0.2646 - accuracy: 0.9052 - val_loss: 0.5711 - val_accuracy: 0.7469\n",
            "Epoch 6/30\n",
            "50/50 [==============================] - 3s 50ms/step - loss: 0.2068 - accuracy: 0.9309 - val_loss: 0.6619 - val_accuracy: 0.7469\n",
            "Epoch 7/30\n",
            "50/50 [==============================] - 2s 49ms/step - loss: 0.1686 - accuracy: 0.9485 - val_loss: 0.7450 - val_accuracy: 0.7494\n",
            "Epoch 8/30\n",
            "50/50 [==============================] - 2s 50ms/step - loss: 0.1467 - accuracy: 0.9586 - val_loss: 0.7930 - val_accuracy: 0.7494\n",
            "Epoch 9/30\n",
            "50/50 [==============================] - 2s 50ms/step - loss: 0.1317 - accuracy: 0.9642 - val_loss: 0.9855 - val_accuracy: 0.7419\n",
            "Epoch 10/30\n",
            "50/50 [==============================] - 2s 49ms/step - loss: 0.1493 - accuracy: 0.9586 - val_loss: 0.9031 - val_accuracy: 0.7469\n",
            "Epoch 11/30\n",
            "50/50 [==============================] - 2s 50ms/step - loss: 0.1295 - accuracy: 0.9630 - val_loss: 0.7760 - val_accuracy: 0.7544\n",
            "Epoch 12/30\n",
            "50/50 [==============================] - 2s 50ms/step - loss: 0.1177 - accuracy: 0.9699 - val_loss: 0.9236 - val_accuracy: 0.7444\n",
            "Epoch 13/30\n",
            "50/50 [==============================] - 2s 50ms/step - loss: 0.1008 - accuracy: 0.9774 - val_loss: 0.9261 - val_accuracy: 0.7444\n",
            "Epoch 14/30\n",
            "50/50 [==============================] - 2s 50ms/step - loss: 0.0915 - accuracy: 0.9805 - val_loss: 0.9600 - val_accuracy: 0.7444\n",
            "Epoch 15/30\n",
            "50/50 [==============================] - 2s 49ms/step - loss: 0.0852 - accuracy: 0.9812 - val_loss: 1.0059 - val_accuracy: 0.7444\n",
            "Epoch 16/30\n",
            "50/50 [==============================] - 2s 49ms/step - loss: 0.0812 - accuracy: 0.9824 - val_loss: 1.0345 - val_accuracy: 0.7419\n",
            "Epoch 17/30\n",
            "50/50 [==============================] - 3s 50ms/step - loss: 0.0804 - accuracy: 0.9824 - val_loss: 1.0921 - val_accuracy: 0.7469\n",
            "Epoch 18/30\n",
            "50/50 [==============================] - 3s 50ms/step - loss: 0.0993 - accuracy: 0.9761 - val_loss: 0.8928 - val_accuracy: 0.7644\n",
            "Epoch 19/30\n",
            "50/50 [==============================] - 2s 49ms/step - loss: 0.1132 - accuracy: 0.9711 - val_loss: 0.8853 - val_accuracy: 0.7494\n",
            "Epoch 20/30\n",
            "50/50 [==============================] - 2s 50ms/step - loss: 0.0938 - accuracy: 0.9749 - val_loss: 0.9273 - val_accuracy: 0.7318\n",
            "Epoch 21/30\n",
            "50/50 [==============================] - 3s 50ms/step - loss: 0.0788 - accuracy: 0.9793 - val_loss: 0.9684 - val_accuracy: 0.7694\n",
            "Epoch 22/30\n",
            "50/50 [==============================] - 2s 49ms/step - loss: 0.0890 - accuracy: 0.9749 - val_loss: 1.0891 - val_accuracy: 0.7469\n",
            "Epoch 23/30\n",
            "50/50 [==============================] - 2s 50ms/step - loss: 0.1058 - accuracy: 0.9699 - val_loss: 1.1324 - val_accuracy: 0.7419\n",
            "Epoch 24/30\n",
            "50/50 [==============================] - 3s 50ms/step - loss: 0.0933 - accuracy: 0.9730 - val_loss: 1.0222 - val_accuracy: 0.7519\n",
            "Epoch 25/30\n",
            "50/50 [==============================] - 2s 49ms/step - loss: 0.0879 - accuracy: 0.9787 - val_loss: 1.1313 - val_accuracy: 0.7393\n",
            "Epoch 26/30\n",
            "50/50 [==============================] - 3s 51ms/step - loss: 0.0986 - accuracy: 0.9724 - val_loss: 1.0841 - val_accuracy: 0.7519\n",
            "Epoch 27/30\n",
            "50/50 [==============================] - 3s 50ms/step - loss: 0.0687 - accuracy: 0.9843 - val_loss: 1.1692 - val_accuracy: 0.7444\n",
            "Epoch 28/30\n",
            "50/50 [==============================] - 2s 50ms/step - loss: 0.0603 - accuracy: 0.9874 - val_loss: 1.0555 - val_accuracy: 0.7619\n",
            "Epoch 29/30\n",
            "50/50 [==============================] - 2s 49ms/step - loss: 0.0553 - accuracy: 0.9887 - val_loss: 1.0827 - val_accuracy: 0.7494\n",
            "Epoch 30/30\n",
            "50/50 [==============================] - 2s 50ms/step - loss: 0.0526 - accuracy: 0.9893 - val_loss: 1.2297 - val_accuracy: 0.7393\n"
          ]
        },
        {
          "output_type": "display_data",
          "data": {
            "image/png": "[encoded data removed]",
            "text/plain": [
              "<Figure size 432x288 with 1 Axes>"
            ]
          },
          "metadata": {
            "needs_background": "light"
          }
        },
        {
          "output_type": "display_data",
          "data": {
            "image/png": "[encoded data removed]",
            "text/plain": [
              "<Figure size 432x288 with 1 Axes>"
            ]
          },
          "metadata": {
            "needs_background": "light"
          }
        },
        {
          "output_type": "stream",
          "name": "stdout",
          "text": [
            "[  4 281  16  25   0   0   0   0   0   0   0   0   0   0   0   0   0   0\n",
            "   0   0   0   0   0   0   0   0   0   0   0   0   0   0   0   0   0   0\n",
            "   0   0   0   0   0   0   0   0   0   0   0   0   0   0]\n",
            "I love this phone\n",
            "[0.9993017]\n",
            "\n",
            "\n",
            "[812 227 864 100 775   9 525 843   0   0   0   0   0   0   0   0   0   0\n",
            "   0   0   0   0   0   0   0   0   0   0   0   0   0   0   0   0   0   0\n",
            "   0   0   0   0   0   0   0   0   0   0   0   0   0   0]\n",
            "Everything was cold\n",
            "[0.02213081]\n",
            "\n",
            "\n",
            "[812 227 864 100 775   9 109   8 333 731  24  61   4 171  59  77   0   0\n",
            "   0   0   0   0   0   0   0   0   0   0   0   0   0   0   0   0   0   0\n",
            "   0   0   0   0   0   0   0   0   0   0   0   0   0   0]\n",
            "Everything was hot exactly as I wanted\n",
            "[0.2031831]\n",
            "\n",
            "\n",
            "[812 227 864 100 775   9 157 359 853   0   0   0   0   0   0   0   0   0\n",
            "   0   0   0   0   0   0   0   0   0   0   0   0   0   0   0   0   0   0\n",
            "   0   0   0   0   0   0   0   0   0   0   0   0   0   0]\n",
            "Everything was green\n",
            "[0.0217663]\n",
            "\n",
            "\n",
            "[  1 109 228 540 237 635 241 423 340  89 298   0   0   0   0   0   0   0\n",
            "   0   0   0   0   0   0   0   0   0   0   0   0   0   0   0   0   0   0\n",
            "   0   0   0   0   0   0   0   0   0   0   0   0   0   0]\n",
            "the host seated us immediately\n",
            "[0.02330628]\n",
            "\n",
            "\n",
            "[154 242  47 635 341  12 569 547 147 319 775 125  85   0   0   0   0   0\n",
            "   0   0   0   0   0   0   0   0   0   0   0   0   0   0   0   0   0   0\n",
            "   0   0   0   0   0   0   0   0   0   0   0   0   0   0]\n",
            "they gave us free chocolate cake\n",
            "[0.9992872]\n",
            "\n",
            "\n",
            "[158 190 853 782   8 607 775 210 232 146 775 470  67 305 101  15   1 328\n",
            " 296  26  19   1 661 641 195   0   0   0   0   0   0   0   0   0   0   0\n",
            "   0   0   0   0   0   0   0   0   0   0   0   0   0   0]\n",
            "we couldn't hear each other talk because of the shouting in the kitchen\n",
            "[0.02122892]\n",
            "\n",
            "\n"
          ]
        }
      ]
    },
    {
      "cell_type": "markdown",
      "metadata": {
        "id": "ABVYYPwba8Hx"
      },
      "source": [
        "# Compare predictions for all the models\n",
        "\n",
        "It can be hard to see which model gives a better prediction for different reviews when you examine each model separately. So for comparison purposes, here we define some more reviews and print out the predictions that each of the three models gives for each review:\n",
        "\n",
        "*   Embeddings and a Global Average Pooling layer\n",
        "*   Embeddings and a Bidirectional LSTM layer\n",
        "*   Embeddings and two Bidirectional LSTM layers\n",
        "\n",
        "The results are not always what you might expect. The input dataset is fairly small, it has less than 2000 reviews. Some of the reviews are fairly short, and some of the short ones are fairly repetitive which reduces their impact on improving the  model, such as these two reviews:\n",
        "\n",
        "*   Bad Quality.\n",
        "*   Low Quality.\n",
        "\n",
        "Feel free to add more reviews of your own, or change the reviews. The results will depend on the combination of words in the reviews, and how well they match to reviews in the training set. \n",
        "\n",
        "How do the different models handle things like \"wasn't good\" which contains a positive word (good) but is a poor review?\n"
      ]
    },
    {
      "cell_type": "code",
      "metadata": {
        "id": "6XebrXt0jtOy"
      },
      "source": [
        "my_reviews =[\"lovely\", \"dreadful\", \"stay away\",\n",
        "             \"everything was hot exactly as I wanted\",\n",
        "             \"everything was not exactly as I wanted\",\n",
        "             \"they gave us free chocolate cake\",\n",
        "             \"I've never eaten anything so spicy in my life, my throat burned for hours\",\n",
        "             \"for a phone that is as expensive as this one I expect it to be much easier to use than this thing is\",\n",
        "             \"we left there very full for a low price so I'd say you just can't go wrong at this place\",\n",
        "             \"that place does not have quality meals and it isn't a good place to go for dinner\",\n",
        "             ]"
      ],
      "execution_count": 20,
      "outputs": []
    },
    {
      "cell_type": "code",
      "metadata": {
        "id": "tRWGjkJLkY2y",
        "outputId": "657df046-6c64-4b56-b709-966a9658ce33",
        "colab": {
          "base_uri": "https://localhost:8080/"
        }
      },
      "source": [
        "print(\"===================================\\n\",\"Embeddings only:\\n\", \"===================================\",)\n",
        "predict_review(model, my_reviews, show_padded_sequence=False)"
      ],
      "execution_count": 21,
      "outputs": [
        {
          "output_type": "stream",
          "name": "stdout",
          "text": [
            "===================================\n",
            " Embeddings only:\n",
            " ===================================\n",
            "lovely\n",
            "[0.91201955]\n",
            "\n",
            "\n",
            "dreadful\n",
            "[0.26695088]\n",
            "\n",
            "\n",
            "stay away\n",
            "[0.6093777]\n",
            "\n",
            "\n",
            "everything was hot exactly as I wanted\n",
            "[0.75573915]\n",
            "\n",
            "\n",
            "everything was not exactly as I wanted\n",
            "[0.44737095]\n",
            "\n",
            "\n",
            "they gave us free chocolate cake\n",
            "[0.70576584]\n",
            "\n",
            "\n",
            "I've never eaten anything so spicy in my life, my throat burned for hours\n",
            "[0.03241273]\n",
            "\n",
            "\n",
            "for a phone that is as expensive as this one I expect it to be much easier to use than this thing is\n",
            "[0.4523401]\n",
            "\n",
            "\n",
            "we left there very full for a low price so I'd say you just can't go wrong at this place\n",
            "[0.7991261]\n",
            "\n",
            "\n",
            "that place does not have quality meals and it isn't a good place to go for dinner\n",
            "[0.825112]\n",
            "\n",
            "\n"
          ]
        }
      ]
    },
    {
      "cell_type": "code",
      "metadata": {
        "id": "G2FJR3IVBt30",
        "outputId": "071a183c-2c61-449e-b0f9-347a4ab3e772",
        "colab": {
          "base_uri": "https://localhost:8080/"
        }
      },
      "source": [
        "print(\"===================================\\n\", \"With a single bidirectional LSTM:\\n\", \"===================================\")\n",
        "predict_review(model_bidi_lstm, my_reviews, show_padded_sequence=False)"
      ],
      "execution_count": 22,
      "outputs": [
        {
          "output_type": "stream",
          "name": "stdout",
          "text": [
            "===================================\n",
            " With a single bidirectional LSTM:\n",
            " ===================================\n",
            "lovely\n",
            "[0.9989373]\n",
            "\n",
            "\n",
            "dreadful\n",
            "[0.01233495]\n",
            "\n",
            "\n",
            "stay away\n",
            "[0.13477142]\n",
            "\n",
            "\n",
            "everything was hot exactly as I wanted\n",
            "[0.9361087]\n",
            "\n",
            "\n",
            "everything was not exactly as I wanted\n",
            "[0.00868243]\n",
            "\n",
            "\n",
            "they gave us free chocolate cake\n",
            "[0.9822678]\n",
            "\n",
            "\n",
            "I've never eaten anything so spicy in my life, my throat burned for hours\n",
            "[0.01256638]\n",
            "\n",
            "\n",
            "for a phone that is as expensive as this one I expect it to be much easier to use than this thing is\n",
            "[0.03493115]\n",
            "\n",
            "\n",
            "we left there very full for a low price so I'd say you just can't go wrong at this place\n",
            "[0.9999999]\n",
            "\n",
            "\n",
            "that place does not have quality meals and it isn't a good place to go for dinner\n",
            "[0.8072785]\n",
            "\n",
            "\n"
          ]
        }
      ]
    },
    {
      "cell_type": "code",
      "metadata": {
        "id": "81v1r3Y2BwvC",
        "outputId": "98b3ea32-81a3-4e16-daad-41f14e7378e8",
        "colab": {
          "base_uri": "https://localhost:8080/"
        }
      },
      "source": [
        "print(\"===================================\\n\",\"With two bidirectional LSTMs:\\n\", \"===================================\")\n",
        "predict_review(model_multiple_bidi_lstm, my_reviews, show_padded_sequence=False)"
      ],
      "execution_count": 23,
      "outputs": [
        {
          "output_type": "stream",
          "name": "stdout",
          "text": [
            "===================================\n",
            " With two bidirectional LSTMs:\n",
            " ===================================\n",
            "lovely\n",
            "[0.9990833]\n",
            "\n",
            "\n",
            "dreadful\n",
            "[0.0199586]\n",
            "\n",
            "\n",
            "stay away\n",
            "[0.03155239]\n",
            "\n",
            "\n",
            "everything was hot exactly as I wanted\n",
            "[0.9991273]\n",
            "\n",
            "\n",
            "everything was not exactly as I wanted\n",
            "[0.05914275]\n",
            "\n",
            "\n",
            "they gave us free chocolate cake\n",
            "[0.9992872]\n",
            "\n",
            "\n",
            "I've never eaten anything so spicy in my life, my throat burned for hours\n",
            "[0.99534935]\n",
            "\n",
            "\n",
            "for a phone that is as expensive as this one I expect it to be much easier to use than this thing is\n",
            "[0.02090789]\n",
            "\n",
            "\n",
            "we left there very full for a low price so I'd say you just can't go wrong at this place\n",
            "[0.9960977]\n",
            "\n",
            "\n",
            "that place does not have quality meals and it isn't a good place to go for dinner\n",
            "[0.951864]\n",
            "\n",
            "\n"
          ]
        }
      ]
    }
  ]
}