{
 "cells": [
  {
   "cell_type": "markdown",
   "id": "5f0e9bdb",
   "metadata": {},
   "source": [
    "We'll try to keep things simple here, and only introduce basic concepts. Later Colabs will cover more advanced problems.\n",
    "\n",
    "The problem we will solve is to convert from Celsius to Fahrenheit, where the approximate formula is:\n",
    "\n",
    "f=c×1.8+32 \n",
    "\n",
    "Of course, it would be simple enough to create a conventional Python function that directly performs this calculation, but that wouldn't be machine learning.\n",
    "\n",
    "Instead, we will give TensorFlow some sample Celsius values (0, 8, 15, 22, 38) and their corresponding Fahrenheit values (32, 46, 59, 72, 100). Then, we will train a model that figures out the above formula through the training process."
   ]
  },
  {
   "cell_type": "code",
   "execution_count": 56,
   "id": "947cdf4b",
   "metadata": {},
   "outputs": [],
   "source": [
    "import tensorflow as tf\n",
    "import numpy as np"
   ]
  },
  {
   "cell_type": "markdown",
   "id": "b27dcf12",
   "metadata": {},
   "source": [
    "# Set up training data\n",
    "As we saw before, supervised Machine Learning is all about figuring out an algorithm given a set of inputs and outputs. Since the task in this Codelab is to create a model that can give the temperature in Fahrenheit when given the degrees in Celsius, we create two lists celsius_q and fahrenheit_a that we can use to train our model."
   ]
  },
  {
   "cell_type": "code",
   "execution_count": 102,
   "id": "530c6647",
   "metadata": {},
   "outputs": [
    {
     "name": "stdout",
     "output_type": "stream",
     "text": [
      "-40.0 degree Celcius = -40.0 degree Fahrenheit\n",
      "-15.0 degree Celcius = 14.0 degree Fahrenheit\n",
      "0.0 degree Celcius = 32.0 degree Fahrenheit\n",
      "32.0 degree Celcius = 46.0 degree Fahrenheit\n",
      "40.0 degree Celcius = 59.0 degree Fahrenheit\n"
     ]
    }
   ],
   "source": [
    "celsius_q    = np.array([-40, -10,  0,  8, 15, 22,  38],  dtype=float)\n",
    "fahrenheit_a = np.array([-40,  14, 32, 46, 59, 72, 100],  dtype=float)\n",
    "\n",
    "for c, f in enumerate(celcius_q):\n",
    "    print(\"{} degree Celcius = {} degree Fahrenheit\".format(f, fahrenheit_a[c]))"
   ]
  },
  {
   "cell_type": "markdown",
   "id": "821cae54",
   "metadata": {},
   "source": [
    "# Some Machine Learning terminology\n",
    "Feature — The input(s) to our model. In this case, a single value — the degrees in Celsius.\n",
    "\n",
    "Labels — The output our model predicts. In this case, a single value — the degrees in Fahrenheit.\n",
    "\n",
    "Example — A pair of inputs/outputs used during training. In our case a pair of values from celsius_q and fahrenheit_a at a specific index, such as (22,72)."
   ]
  },
  {
   "cell_type": "markdown",
   "id": "61498a92",
   "metadata": {},
   "source": [
    "# Create the model\n",
    "Next, create the model. We will use the simplest possible model we can, a Dense network. Since the problem is straightforward, this network will require only a single layer, with a single neuron.\n",
    "\n",
    "Build a layer\n",
    "We'll call the layer l0 and create it by instantiating tf.keras.layers.Dense with the following configuration:\n",
    "\n",
    "input_shape=[1] — This specifies that the input to this layer is a single value. That is, the shape is a one-dimensional array with one member. Since this is the first (and only) layer, that input shape is the input shape of the entire model. The single value is a floating point number, representing degrees Celsius.\n",
    "\n",
    "units=1 — This specifies the number of neurons in the layer. The number of neurons defines how many internal variables the layer has to try to learn how to solve the problem (more later). Since this is the final layer, it is also the size of the model's output — a single float value representing degrees Fahrenheit. (In a multi-layered network, the size and shape of the layer would need to match the input_shape of the next layer.)"
   ]
  },
  {
   "cell_type": "code",
   "execution_count": 112,
   "id": "beb6c24b",
   "metadata": {},
   "outputs": [],
   "source": [
    "#Creating a model \n",
    "m = tf.keras.layers.Dense(units = 1, input_shape = [1])\n",
    "model =  tf.keras.Sequential([m])\n",
    "model.compile(optimizer= tf.keras.optimizers.Adam(0.1), loss=\"mean_squared_error\")"
   ]
  },
  {
   "cell_type": "code",
   "execution_count": 113,
   "id": "23f48c29",
   "metadata": {},
   "outputs": [],
   "source": [
    "#Creating model by defining the function\n",
    "def create_model(learning_rate):\n",
    "    model = tf.keras.Sequential()\n",
    "    model.add(tf.keras.layers.Dense(units = 1, input_shape = [1]))\n",
    "    model.compile(optimizer= tf.keras.optimizers.Adam(0.1), loss=\"mean_squared_error\")\n",
    "    return model"
   ]
  },
  {
   "cell_type": "markdown",
   "id": "91aa0082",
   "metadata": {},
   "source": [
    "# Compile the model, with loss and optimizer functions\n",
    "Before training, the model has to be compiled. When compiled for training, the model is given:\n",
    "\n",
    "Loss function — A way of measuring how far off predictions are from the desired outcome. (The measured difference is called the \"loss\".)\n",
    "\n",
    "Optimizer function — A way of adjusting internal values in order to reduce the loss."
   ]
  },
  {
   "cell_type": "markdown",
   "id": "2e37766b",
   "metadata": {},
   "source": [
    "These are used during training (model.fit(), below) to first calculate the loss at each point, and then improve it. In fact, the act of calculating the current loss of a model and then improving it is precisely what training is.\n",
    "\n",
    "During training, the optimizer function is used to calculate adjustments to the model's internal variables. The goal is to adjust the internal variables until the model (which is really a math function) mirrors the actual equation for converting Celsius to Fahrenheit.\n",
    "\n",
    "TensorFlow uses numerical analysis to perform this tuning, and all this complexity is hidden from you so we will not go into the details here. What is useful to know about these parameters are:\n",
    "\n",
    "The loss function (mean squared error) and the optimizer (Adam) used here are standard for simple models like this one, but many others are available. It is not important to know how these specific functions work at this point.\n",
    "\n",
    "One part of the Optimizer you may need to think about when building your own models is the learning rate (0.1 in the code above). This is the step size taken when adjusting values in the model. If the value is too small, it will take too many iterations to train the model. Too large, and accuracy goes down. Finding a good value often involves some trial and error, but the range is usually within 0.001 (default), and 0.1"
   ]
  },
  {
   "cell_type": "markdown",
   "id": "7e6799d8",
   "metadata": {},
   "source": [
    "# Train the model\n",
    "Train the model by calling the fit method.\n",
    "\n",
    "During training, the model takes in Celsius values, performs a calculation using the current internal variables (called \"weights\") and outputs values which are meant to be the Fahrenheit equivalent. Since the weights are initially set randomly, the output will not be close to the correct value. The difference between the actual output and the desired output is calculated using the loss function, and the optimizer function directs how the weights should be adjusted.\n",
    "\n",
    "This cycle of calculate, compare, adjust is controlled by the fit method. The first argument is the inputs, the second argument is the desired outputs. The epochs argument specifies how many times this cycle should be run, and the verbose argument controls how much output the method produces."
   ]
  },
  {
   "cell_type": "code",
   "execution_count": 122,
   "id": "f6f2fe82",
   "metadata": {},
   "outputs": [],
   "source": [
    "history = model.fit(x= celsius_q, y = fahrenheit_a, epochs=500, verbose=False)"
   ]
  },
  {
   "cell_type": "code",
   "execution_count": 123,
   "id": "121576a8",
   "metadata": {},
   "outputs": [],
   "source": [
    "#using function to Train Model\n",
    "def train_model(model, feature, label, epochs):\n",
    "    history = model.fit(feature, label, epochs, verbose=False)\n",
    "    print(\"Model Trained\")\n",
    "    return history"
   ]
  },
  {
   "cell_type": "markdown",
   "id": "caf978de",
   "metadata": {},
   "source": [
    "# Display training statistics\n",
    "The fit method returns a history object. We can use this object to plot how the loss of our model goes down after each training epoch. A high loss means that the Fahrenheit degrees the model predicts is far from the corresponding value in fahrenheit_a.\n",
    "\n",
    "We'll use Matplotlib to visualize this (you could use another tool). As you can see, our model improves very quickly at first, and then has a steady, slow improvement until it is very near \"perfect\" towards the end."
   ]
  },
  {
   "cell_type": "code",
   "execution_count": 124,
   "id": "ccfe5bba",
   "metadata": {},
   "outputs": [],
   "source": [
    "import matplotlib.pyplot as plt"
   ]
  },
  {
   "cell_type": "code",
   "execution_count": 126,
   "id": "a1296949",
   "metadata": {},
   "outputs": [],
   "source": [
    "#Lr  =  0.1\n",
    "#epochs =500\n",
    "#model = create_model(Lr)\n",
    "#train_model(model, celsius_q, fahrenheit_a, epochs)\n",
    "def plot(history):\n",
    "    plt.xlabel(\"Epoch Number\")\n",
    "    plt.ylabel(\"Loss Magnitude\")\n",
    "    plt.plot(history.history['loss'])"
   ]
  },
  {
   "cell_type": "code",
   "execution_count": 132,
   "id": "feddbaa6",
   "metadata": {},
   "outputs": [
    {
     "data": {
      "image/png": "[encoded data removed]",
      "text/plain": [
       "<Figure size 432x288 with 1 Axes>"
      ]
     },
     "metadata": {
      "needs_background": "light"
     },
     "output_type": "display_data"
    }
   ],
   "source": [
    "plot(history)"
   ]
  },
  {
   "cell_type": "markdown",
   "id": "8a2135eb",
   "metadata": {},
   "source": [
    "Use the model to predict values\n",
    "Now you have a model that has been trained to learn the relationship between celsius_q and fahrenheit_a. You can use the predict method to have it calculate the Fahrenheit degrees for a previously unknown Celsius degrees.\n",
    "\n",
    "So, for example, if the Celsius value is 100, what do you think the Fahrenheit result will be? Take a guess before you run this code."
   ]
  },
  {
   "cell_type": "code",
   "execution_count": 135,
   "id": "4c055156",
   "metadata": {},
   "outputs": [
    {
     "name": "stdout",
     "output_type": "stream",
     "text": [
      "[[211.74745]]\n"
     ]
    }
   ],
   "source": [
    "print(model.predict([100.0]))"
   ]
  },
  {
   "cell_type": "markdown",
   "id": "eee6e10f",
   "metadata": {},
   "source": [
    "The correct answer is  100×1.8+32=212 , so our model is doing really well.\n",
    "\n",
    "To review\n",
    "We created a model with a Dense layer\n",
    "We trained it with 3500 examples (7 pairs, over 500 epochs).\n",
    "Our model tuned the variables (weights) in the Dense layer until it was able to return the correct Fahrenheit value for any Celsius value. (Remember, 100 Celsius was not part of our training data.)\n",
    "\n"
   ]
  },
  {
   "cell_type": "markdown",
   "id": "38aa8935",
   "metadata": {},
   "source": [
    "Looking at the layer weights\n",
    "Finally, let's print the internal variables of the Dense layer."
   ]
  },
  {
   "cell_type": "code",
   "execution_count": 121,
   "id": "8efb443e",
   "metadata": {},
   "outputs": [
    {
     "name": "stdout",
     "output_type": "stream",
     "text": [
      "These are the layer variables: [array([[1.8200957]], dtype=float32), array([29.32809], dtype=float32)]\n"
     ]
    }
   ],
   "source": [
    "print(\"These are the layer variables: {}\".format(m.get_weights()))"
   ]
  },
  {
   "cell_type": "markdown",
   "id": "80b1c78a",
   "metadata": {},
   "source": [
    "The first variable is close to ~1.8 and the second to ~32. These values (1.8 and 32) are the actual variables in the real conversion formula.\n",
    "\n",
    "This is really close to the values in the conversion formula. We'll explain this in an upcoming video where we show how a Dense layer works, but for a single neuron with a single input and a single output, the internal math looks the same as the equation for a line,  y=mx+b , which has the same form as the conversion equation,  f=1.8c+32 .\n",
    "\n",
    "Since the form is the same, the variables should converge on the standard values of 1.8 and 32, which is exactly what happened.\n",
    "\n",
    "With additional neurons, additional inputs, and additional outputs, the formula becomes much more complex, but the idea is the same."
   ]
  },
  {
   "cell_type": "markdown",
   "id": "5f3614c2",
   "metadata": {},
   "source": [
    "# A little experiment\n",
    "Just for fun, what if we created more Dense layers with different units, which therefore also has more variables?"
   ]
  },
  {
   "cell_type": "code",
   "execution_count": 130,
   "id": "1bb9bb3c",
   "metadata": {},
   "outputs": [
    {
     "name": "stdout",
     "output_type": "stream",
     "text": [
      "Finished training the model\n",
      "[[211.74745]]\n",
      "Model predicts that 100 degrees Celsius is: [[211.74745]] degrees Fahrenheit\n",
      "These are the layer1 variables: [array([[-0.24122164, -0.16992402, -0.31136662,  0.548525  ]],\n",
      "      dtype=float32), array([-4.400936  ,  0.76777184, -3.8559582 ,  3.483665  ], dtype=float32)]\n",
      "These are the layer2 variables: [array([[-0.07974668,  0.7667319 ,  1.0136012 , -1.1846498 ],\n",
      "       [ 0.5518351 ,  1.3022457 , -0.4189119 , -1.0016997 ],\n",
      "       [-0.96893346, -0.7752169 ,  1.1617986 ,  0.26430425],\n",
      "       [ 0.67478704,  0.6059063 , -1.429941  , -0.5193315 ]],\n",
      "      dtype=float32), array([ 4.3112197,  2.512401 , -3.897562 ,  1.2305765], dtype=float32)]\n",
      "These are the layer3 variables: [array([[ 0.62039757],\n",
      "       [ 0.23600313],\n",
      "       [-1.0201467 ],\n",
      "       [ 0.4712365 ]], dtype=float32), array([3.9365747], dtype=float32)]\n"
     ]
    }
   ],
   "source": [
    "layer1 = tf.keras.layers.Dense(units = 4, input_shape = [1])\n",
    "layer2 =  tf.keras.layers.Dense(units = 4)\n",
    "layer3 = tf.keras.layers.Dense(units = 1)\n",
    "model = tf.keras.Sequential([layer1, layer2, layer3])\n",
    "model.compile(loss='mean_squared_error', optimizer=tf.keras.optimizers.Adam(0.1))\n",
    "model.fit(celsius_q, fahrenheit_a, epochs=500, verbose=False)\n",
    "print(\"Finished training the model\")\n",
    "print(model.predict([100.0]))\n",
    "print(\"Model predicts that 100 degrees Celsius is: {} degrees Fahrenheit\".format(model.predict([100.0])))\n",
    "print(\"These are the layer1 variables: {}\".format(layer1.get_weights()))\n",
    "print(\"These are the layer2 variables: {}\".format(layer2.get_weights()))\n",
    "print(\"These are the layer3 variables: {}\".format(layer3.get_weights()))"
   ]
  }
 ],
 "metadata": {
  "kernelspec": {
   "display_name": "Python 3",
   "language": "python",
   "name": "python3"
  },
  "language_info": {
   "codemirror_mode": {
    "name": "ipython",
    "version": 3
   },
   "file_extension": ".py",
   "mimetype": "text/x-python",
   "name": "python",
   "nbconvert_exporter": "python",
   "pygments_lexer": "ipython3",
   "version": "3.8.8"
  }
 },
 "nbformat": 4,
 "nbformat_minor": 5
}
